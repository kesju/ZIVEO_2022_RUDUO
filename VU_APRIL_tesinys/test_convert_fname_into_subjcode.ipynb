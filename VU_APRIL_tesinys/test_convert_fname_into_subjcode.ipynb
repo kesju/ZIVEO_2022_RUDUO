{
 "cells": [
  {
   "cell_type": "code",
   "execution_count": 29,
   "metadata": {},
   "outputs": [
    {
     "name": "stdout",
     "output_type": "stream",
     "text": [
      "OS in my system :  linux\n",
      "\n",
      "Bendras duomenų aplankas:  /home/kesju/DI\n",
      "Aplankas su originaliais EKG įrašais ir anotacijomis (.json)  /home/kesju/DI/DUOM_2022_RUDUO_2/records_npy\n"
     ]
    }
   ],
   "source": [
    "# Skriptas tikrina, ar nėra dubliuotų failų vardų Zive duomenyse\n",
    "# \n",
    "\n",
    "import pandas as pd\n",
    "import numpy as np\n",
    "from pathlib import Path\n",
    "import matplotlib.pyplot as plt\n",
    "import sys, json\n",
    "from zive_util_vu import create_SubjCode\n",
    "\n",
    "\n",
    "def get_SubjCode(rec_dir, file_name):\n",
    "        \n",
    "    # Patikriname, ar df_transl egzistuoja. Jei ne, sukuriame ir įrašome pirmą įraša\n",
    "    file_path = Path(rec_dir, 'df_transl.csv')\n",
    "    if (not file_path.exists()):\n",
    "        print('df_transl.csv neegzistuoja!')\n",
    "        return 0\n",
    "\n",
    "    # Jei egzistuoja, nuskaitome vardų žodyną iš rec_dir aplanko\n",
    "    file_path = Path(rec_dir, 'df_transl.csv')\n",
    "    df_transl = pd.read_csv(file_path, index_col=0)\n",
    "    # print('df_transl.csv egzistuoja!')\n",
    "    # Ieškome, ar yra įrašas su file_name\n",
    "    if (df_transl.loc[(df_transl['file_name'] == file_name)]).empty:\n",
    "        print(file_name, \"nerado!\")\n",
    "        return 0\n",
    "    else:    \n",
    "        row = df_transl.loc[(df_transl['file_name'] == file_name)]\n",
    "        if not row.empty:\n",
    "            SubjCode = create_SubjCode(row['userNr'].values[0], row['recordingNr'].values[0])\n",
    "    return SubjCode\n",
    "\n",
    "def convert_fnames_into_subjcodes(FileNames):\n",
    "    SubjCodes = []\n",
    "    for file_name in FileNames:\n",
    "        SubjCode = get_SubjCode(rec_dir, file_name)\n",
    "        SubjCodes.append(SubjCode)\n",
    "    return SubjCodes    \n",
    "\n",
    " #\n",
    " #  Pasiruošimas\n",
    "\n",
    "my_os=sys.platform\n",
    "print(\"OS in my system : \",my_os)\n",
    "\n",
    "if my_os != 'linux':\n",
    "    OS = 'Windows'\n",
    "else:  \n",
    "    OS = 'Ubuntu'\n",
    "\n",
    "# ++++++++++++++++++++++  variantas su visais duomenimis ++++++++++++++++++++++++++++++\n",
    "# Bendras duomenų aplankas\n",
    "\n",
    "if OS == 'Windows':\n",
    "    Duomenu_aplankas = 'D:\\\\DI'   # variantas: Windows\n",
    "else:\n",
    "    Duomenu_aplankas = '/home/kesju/DI'   # arba variantas: UBUNTU\n",
    "\n",
    "# Vietinės talpyklos aplankas\n",
    "db_folder = 'DUOM_2022_RUDUO_2'\n",
    "\n",
    "# Nuoroda į aplanką su EKG duomenų rinkiniu\n",
    "db_path = Path(Duomenu_aplankas, db_folder)\n",
    "\n",
    "# Nuoroda į aplanką su EKG įrašais (.npy) ir anotacijomis (.json)\n",
    "rec_dir = Path(db_path, 'records_npy')\n",
    "\n",
    "# Išvedame parametrus\n",
    "print(\"\\nBendras duomenų aplankas: \", Duomenu_aplankas)\n",
    "print(\"Aplankas su originaliais EKG įrašais ir anotacijomis (.json) \", rec_dir)\n"
   ]
  },
  {
   "cell_type": "code",
   "execution_count": 30,
   "metadata": {},
   "outputs": [
    {
     "name": "stdout",
     "output_type": "stream",
     "text": [
      "[10014, 10015, 10031, 10041, 10042, 10051, 10052, 10053, 10055, 10056, 10092, 10131, 101332, 10199, 10220, 10304, 10315, 10358, 10361, 105313]\n"
     ]
    }
   ],
   "source": [
    "\n",
    "FileNames = [\n",
    "1626934.963,\n",
    "1626931.201,\n",
    "1630715.664,\n",
    "1630714.569,\n",
    "1630729.576,\n",
    "1630735.143,\n",
    "1630693.635,\n",
    "1630734.526,\n",
    "1630718.396,\n",
    "1630721.49,\n",
    "1631139.883,\n",
    "1631083.411,\n",
    "1631039.923,\n",
    "1631029.786,\n",
    "1632342.032,\n",
    "1633428.56,\n",
    "1633584.898,\n",
    "1633405.853,\n",
    "1634112.089,\n",
    "1636451.86\n",
    "]\n",
    "\n",
    "SubjCodes = convert_fnames_into_subjcodes(FileNames)\n",
    "print(SubjCodes)\n"
   ]
  }
 ],
 "metadata": {
  "kernelspec": {
   "display_name": "ecg_lnx38",
   "language": "python",
   "name": "python3"
  },
  "language_info": {
   "codemirror_mode": {
    "name": "ipython",
    "version": 3
   },
   "file_extension": ".py",
   "mimetype": "text/x-python",
   "name": "python",
   "nbconvert_exporter": "python",
   "pygments_lexer": "ipython3",
   "version": "3.8.13"
  },
  "orig_nbformat": 4,
  "vscode": {
   "interpreter": {
    "hash": "72fad068c9d13e52ed0ef400fe86b8a1dd89b57112dd527cb7ae681e2ac89056"
   }
  }
 },
 "nbformat": 4,
 "nbformat_minor": 2
}
