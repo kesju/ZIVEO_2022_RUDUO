{
 "cells": [
  {
   "cell_type": "code",
   "execution_count": 5,
   "metadata": {},
   "outputs": [
    {
     "name": "stdout",
     "output_type": "stream",
     "text": [
      "(TensorSpec(shape=(None, 4), dtype=tf.float32, name=None), TensorSpec(shape=(None,), dtype=tf.int64, name=None))\n",
      "[0 2 1 2 0 1 1 1 0 2 1 0 2 0 0 0 0 0 2 2 2 2 2 0 2 0 2 1 1 1 1 1 2 2 0 0 0\n",
      " 0 1 0 0 1 0 1 0 2 0 0 1 2 1 0 0 1 0 1 1 1 2 0 0 1 2 0 0 1 2 2 1 2 2 2 0 2\n",
      " 1 0 0 1 2 1 1 2 0 1 2 0 2 1 2 1 2 1 0 1 2 1 0 1 1 2 2 2 0 2 1 2 1 0 1 0 2\n",
      " 2 0 2 0 1 2 0 2 1]\n",
      "tf.Tensor(\n",
      "[[1. 0. 0.]\n",
      " [0. 0. 1.]\n",
      " [0. 1. 0.]\n",
      " [0. 0. 1.]\n",
      " [1. 0. 0.]\n",
      " [0. 1. 0.]\n",
      " [0. 1. 0.]\n",
      " [0. 1. 0.]\n",
      " [1. 0. 0.]\n",
      " [0. 0. 1.]], shape=(10, 3), dtype=float32)\n",
      "(TensorSpec(shape=(None, 4), dtype=tf.float32, name=None), TensorSpec(shape=(None, 3), dtype=tf.float32, name=None))\n"
     ]
    }
   ],
   "source": [
    "# https://splunktool.com/extract-features-and-labels-from-a-tensorflow-dataset\n",
    "\n",
    "import tensorflow as tf\n",
    "import numpy as np\n",
    "# from tensorflow.keras import layers\n",
    "\n",
    "import tensorflow_datasets as tfds\n",
    "\n",
    "data = tfds.load(\"iris\",split='train[:80%]', as_supervised=True)\n",
    "ds = data.batch(10)\n",
    "print(ds.element_spec)\n",
    "\n",
    "# In case your tf.data.Dataset is batched, the following code will retrieve all the y labels:\n",
    "\n",
    "y = np.concatenate([y  for x, y in ds], axis = 0)\n",
    "print(y)\n",
    "\n",
    "ds_one_hot = data.batch(10).map(lambda x, y: (x, tf.one_hot(y, depth=3)))\n",
    "print(next(iter(ds_one_hot))[1])\n",
    "print(ds_one_hot.element_spec)\n"
   ]
  }
 ],
 "metadata": {
  "kernelspec": {
   "display_name": "Python 3.9.13 ('ecg')",
   "language": "python",
   "name": "python3"
  },
  "language_info": {
   "codemirror_mode": {
    "name": "ipython",
    "version": 3
   },
   "file_extension": ".py",
   "mimetype": "text/x-python",
   "name": "python",
   "nbconvert_exporter": "python",
   "pygments_lexer": "ipython3",
   "version": "3.9.13"
  },
  "orig_nbformat": 4,
  "vscode": {
   "interpreter": {
    "hash": "1dd5250d6b567a1af528f715afa76e8a448cc55077e3bf61f1711b167565e001"
   }
  }
 },
 "nbformat": 4,
 "nbformat_minor": 2
}
