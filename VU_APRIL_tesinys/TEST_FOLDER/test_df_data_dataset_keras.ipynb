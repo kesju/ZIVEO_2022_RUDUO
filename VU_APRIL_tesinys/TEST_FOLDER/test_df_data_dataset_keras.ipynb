{
 "cells": [
  {
   "cell_type": "code",
   "execution_count": 7,
   "metadata": {},
   "outputs": [
    {
     "name": "stdout",
     "output_type": "stream",
     "text": [
      "(TensorSpec(shape=(None, 10), dtype=tf.float32, name=None), TensorSpec(shape=(None, 1), dtype=tf.float32, name=None))\n",
      "Epoch 1/2\n",
      "50/50 - 1s - loss: 1.4507 - mae: 0.9490 - mse: 1.4507 - 918ms/epoch - 18ms/step\n",
      "Epoch 2/2\n",
      "50/50 - 0s - loss: 1.0557 - mae: 0.8283 - mse: 1.0557 - 173ms/epoch - 3ms/step\n"
     ]
    },
    {
     "data": {
      "text/plain": [
       "<keras.callbacks.History at 0x1bb5aa63250>"
      ]
     },
     "execution_count": 7,
     "metadata": {},
     "output_type": "execute_result"
    }
   ],
   "source": [
    "# https://stackoverflow.com/questions/70673360/tensorflow-2-4-1-using-tf-data-dataset-to-fit-a-keras-sequential-model\n",
    "\n",
    "import tensorflow as tf\n",
    "from tensorflow.keras import layers\n",
    "\n",
    "INPUT_NEURONS = 10\n",
    "OUTPUT_NEURONS = 1\n",
    "batch_size = 20\n",
    "\n",
    "features = tf.random.normal((1000, INPUT_NEURONS))\n",
    "labels = tf.random.normal((1000, OUTPUT_NEURONS))\n",
    "dataset = tf.data.Dataset.from_tensor_slices((features, labels))\n",
    "dataset = dataset.batch(batch_size)\n",
    "print(dataset.element_spec)\n",
    "\n",
    "def build_model():\n",
    "\n",
    "  model = tf.keras.Sequential(\n",
    "    [\n",
    "        layers.Dense(3, input_shape=[INPUT_NEURONS]),\n",
    "        layers.Dense(OUTPUT_NEURONS),\n",
    "    ]\n",
    "  )\n",
    "\n",
    "  optimizer = tf.keras.optimizers.SGD(learning_rate=0.01)\n",
    "\n",
    "  model.compile(loss='mse',\n",
    "            optimizer=optimizer,\n",
    "            metrics=['mae', 'mse'])\n",
    "\n",
    "  return model\n",
    "\n",
    "model = build_model()\n",
    "\n",
    "model.fit(dataset, epochs=2, verbose=2)\n"
   ]
  }
 ],
 "metadata": {
  "kernelspec": {
   "display_name": "Python 3.9.12 ('ecg')",
   "language": "python",
   "name": "python3"
  },
  "language_info": {
   "codemirror_mode": {
    "name": "ipython",
    "version": 3
   },
   "file_extension": ".py",
   "mimetype": "text/x-python",
   "name": "python",
   "nbconvert_exporter": "python",
   "pygments_lexer": "ipython3",
   "version": "3.9.12"
  },
  "orig_nbformat": 4,
  "vscode": {
   "interpreter": {
    "hash": "1f36dab35816871602f0a4fffa6415a4e758bca001397bb3d9f7e90aab6637a5"
   }
  }
 },
 "nbformat": 4,
 "nbformat_minor": 2
}
