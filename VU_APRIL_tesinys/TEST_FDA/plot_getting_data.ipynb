{
  "cells": [
    {
      "cell_type": "code",
      "execution_count": null,
      "metadata": {
        "collapsed": false
      },
      "outputs": [],
      "source": [
        "%matplotlib inline"
      ]
    },
    {
      "cell_type": "markdown",
      "metadata": {},
      "source": [
        "\n# Getting the data\n\nIn this section, we will dicuss how to get functional data to\nuse in scikit-fda. We will briefly describe the\n:class:`~skfda.representation.grid.FDataGrid` class, which is the type that\nscikit-fda uses for storing and working with functional data in discretized\nform. We will discuss also how to import functional data from several sources\nand show how to fetch and load existing datasets popular in the :term:`FDA`\nliterature.\n\n.. Disable isort\n    isort:skip_file\n"
      ]
    },
    {
      "cell_type": "code",
      "execution_count": null,
      "metadata": {
        "collapsed": false
      },
      "outputs": [],
      "source": [
        "# Author: Carlos Ramos Carre\u00f1o\n# License: MIT\n#\n# sphinx_gallery_thumbnail_number = 6"
      ]
    },
    {
      "cell_type": "markdown",
      "metadata": {},
      "source": [
        "## The FDataGrid class\n\nIn order to use scikit-fda, first we need functional data to analyze.\nA common case is to have each functional observation measured at the same\npoints.\nThis kind of functional data is easily representable in scikit-fda using\nthe :class:`~skfda.representation.grid.FDataGrid` class.\nThe :class:`~skfda.representation.grid.FDataGrid` has two important\nattributes: ``data_matrix`` and ``grid_points``.\n\nThe attribute ``grid_points`` is a tuple with the same length as the\nnumber of domain dimensions (that is, one for curves, two for surfaces...).\nEach of its elements is a 1D numpy :class:`~numpy.ndarray` containing the\ngrid points for that particular dimension,\n\n\\begin{align}((t_1, \\ldots, t_{M_i}))_{i=1}^p,\\end{align}\n\nwhere $M_i$ is the number of measurement points for each \"argument\"\nor domain coordinate of the function $i$ and $p$ is the domain\ndimension.\n\nThe attribute ``data_matrix`` is a\nnumpy :class:`~numpy.ndarray` containing the measured values of the\nfunctions in the grid spanned by the grid points. For functions\n$\\{x_i: \\mathbb{R}^p \\to \\mathbb{R}^q\\}_{i=1}^N$ this is a tensor\nwith dimensions $N \\times M_1 \\times \\ldots \\times M_p \\times q$.\n\n"
      ]
    },
    {
      "cell_type": "markdown",
      "metadata": {},
      "source": [
        "In order to create a :class:`~skfda.representation.grid.FDataGrid`, these\nattributes may be provided. The attributes are converted to\n:class:`~numpy.ndarray` when necessary.\n\n<div class=\"alert alert-info\"><h4>Note</h4><p>The grid points can be omitted,\n    and in that case their number is inferred from the dimensions of\n    ``data_matrix`` and they are automatically assigned as equispaced points\n    in the unitary cube in the domain set.\n\n    In the common case of functions with domain dimension of 1, the list of\n    grid points can be passed directly as ``grid_points``.\n\n    If the codomain dimension is 1, the last dimension of ``data_matrix``\n    can be dropped.</p></div>\n\n"
      ]
    },
    {
      "cell_type": "markdown",
      "metadata": {},
      "source": [
        "The following example shows the creation of a\n:class:`~skfda.representation.grid.FDataGrid` with two functions (curves)\n$\\{x_i: \\mathbb{R} \\to \\mathbb{R}\\}, i=1,2$ measured at the same\n(non-equispaced) points.\n\n"
      ]
    },
    {
      "cell_type": "code",
      "execution_count": null,
      "metadata": {
        "collapsed": false
      },
      "outputs": [],
      "source": [
        "import skfda\nimport matplotlib.pyplot as plt\n\ngrid_points = [0, 0.2, 0.5, 0.9, 1]  # Grid points of the curves\ndata_matrix = [\n    [0, 0.2, 0.5, 0.9, 1],     # First observation\n    [0, 0.04, 0.25, 0.81, 1],  # Second observation\n]\n\nfd = skfda.FDataGrid(\n    data_matrix=data_matrix,\n    grid_points=grid_points,\n)\n\nfd.plot()\nplt.show()"
      ]
    },
    {
      "cell_type": "markdown",
      "metadata": {},
      "source": [
        "### Advanced example\n\nIn order to better understand the FDataGrid structure, you can consider the\nfollowing example, in which a :class:`~skfda.representation.grid.FDataGrid`\nobject is created, containing just one function (vector-valued surface)\n$x: \\mathbb{R}^2 \\to \\mathbb{R}^4$.\n\n"
      ]
    },
    {
      "cell_type": "code",
      "execution_count": null,
      "metadata": {
        "collapsed": false
      },
      "outputs": [],
      "source": [
        "grid_points_surface = [\n    [0.2, 0.5, 0.7],      # Measurement points in first domain dimension\n    [0, 1.5],             # Measurement points in second domain dimension\n]\n\ndata_matrix_surface = [\n    # First observation\n    [\n        # 0.2\n        [\n            # Value at (0.2, 0)\n            [1, 2, 3, 4.1],\n            # Value at (0.2, 1.5)\n            [0, 1, -1.3, 2],\n        ],\n        # 0.5\n        [\n            # Value at (0.5, 0)\n            [-2, 0, 5.5, 7],\n            # Value at (0.5, 1.5)\n            [2, 1.1, -1, -2],\n        ],\n        # 0.7\n        [\n            # Value at (0.7, 0)\n            [0, 0, 1.1, 1],\n            # Value at (0.7, 1.5)\n            [-3, 5, -0.5, -2],\n        ],\n    ],\n    # This example has only one observation. Next observations would be\n    # added here.\n]\n\nfd = skfda.FDataGrid(\n    data_matrix=data_matrix_surface,\n    grid_points=grid_points_surface,\n)\n\nfd.plot()\nplt.show()"
      ]
    },
    {
      "cell_type": "markdown",
      "metadata": {},
      "source": [
        "## Importing data\n\nUsually one does not construct manually the functions, but instead uses\nmeasurements already formatted in a common format, such as comma-separated\nvalues (CSV), attribute-relation file format (ARFF) or Matlab and R formats.\n\nIf your data is in one of these formats, you can import it into a numpy\narray using the IO functions available in\n[Numpy](https://numpy.org/devdocs/reference/routines.io.html) (for simple\ntext-based or binary formats, such as CSV) or in\n[Scipy](https://docs.scipy.org/doc/scipy/reference/io.html) (for Matlab,\nFortran or ARFF files). For importing data in the R format one can also\nuse the package [RData](https://rdata.readthedocs.io) with is already a\ndependency of scikit-fda, as it is used to load the example datasets.\n\n"
      ]
    },
    {
      "cell_type": "markdown",
      "metadata": {},
      "source": [
        "Once your data has been introduced as a :class:`~numpy.ndarray` instance,\nyou will need to give it the proper dimensions and use it to instantiate\na functional data object.\n\n"
      ]
    },
    {
      "cell_type": "markdown",
      "metadata": {},
      "source": [
        "<div class=\"alert alert-info\"><h4>Note</h4><p>:class:`Pandas DataFrames <pandas.DataFrame>` are also popular as\n    datasets containers in the Python scientific ecosystem. If you have\n    data in a Pandas DataFrame, you can extract its content as a Numpy\n    array using the method :meth:`~pandas.DataFrame.to_numpy` of the\n    DataFrame.</p></div>\n\n"
      ]
    },
    {
      "cell_type": "markdown",
      "metadata": {},
      "source": [
        "As an example, we will load the\n:func:`digits dataset <sklearn.datasets.load_digits>` of scikit-learn, which\nis a preprocessed subset of the MNIST dataset, containing digit images. The\ndata is already a numpy array. As the data has been flattened into a 1D\nvector of pixels, we need to reshape the arrays to their original 8x8 shape.\nThen this array can be used to construct the digits as surfaces.\n\n"
      ]
    },
    {
      "cell_type": "code",
      "execution_count": null,
      "metadata": {
        "collapsed": false
      },
      "outputs": [],
      "source": [
        "from sklearn.datasets import load_digits\n\nX, y = load_digits(return_X_y=True)\nX = X.reshape(-1, 8, 8)\n\nfd = skfda.FDataGrid(X)\n\n# Plot the first 2 observations\nfd[0].plot()\nfd[1].plot()\nplt.show()"
      ]
    },
    {
      "cell_type": "markdown",
      "metadata": {},
      "source": [
        "## Common datasets\n\nscikit-fda can download and import for you several of the most popular\ndatasets in the :term:`FDA` literature, such as the Berkeley Growth\ndataset (function :func:`~skfda.datasets.fetch_growth`) or the Canadian\nWeather dataset (function :func:`~skfda.datasets.fetch_weather`). These\ndatasets are often useful as benchmarks, in order to compare results\nbetween different algorithms, or simply as examples to use in teaching or\nresearch.\n\n"
      ]
    },
    {
      "cell_type": "code",
      "execution_count": null,
      "metadata": {
        "collapsed": false
      },
      "outputs": [],
      "source": [
        "X, y = skfda.datasets.fetch_growth(return_X_y=True)\n\nX.plot(group=y)\nplt.show()"
      ]
    },
    {
      "cell_type": "markdown",
      "metadata": {},
      "source": [
        "### Datasets from CRAN\n\nIf you want to work with a dataset for which no fetching function exist, and\nyou know that is available inside a R package in the CRAN repository, you\ncan try using the function :func:`~skfda.datasets.fetch_cran`. This function\nwill load the package, fetch the dataset and convert it to Python objects\nusing the packages\n[scikit-datasets](https://github.com/daviddiazvico/scikit-datasets) and\n[RData](https://rdata.readthedocs.io). As datasets in CRAN follow no\nparticular structure, you will need to know how it is structured internally\nin order to use it properly.\n\n"
      ]
    },
    {
      "cell_type": "markdown",
      "metadata": {},
      "source": [
        "<div class=\"alert alert-info\"><h4>Note</h4><p>Functional data objects from some packages, such as\n    [fda.usc](https://cran.r-project.org/web/packages/fda.usc/index.html)\n    are automatically recognized as such and converted to\n    :class:`~skfda.representation.grid.FDataGrid` instances. This\n    behaviour can be disabled or customized to work with more packages.</p></div>\n\n"
      ]
    },
    {
      "cell_type": "code",
      "execution_count": null,
      "metadata": {
        "collapsed": false
      },
      "outputs": [],
      "source": [
        "data = skfda.datasets.fetch_cran(\"MCO\", \"fda.usc\")\n\ndata[\"MCO\"][\"intact\"].plot()\nplt.show()"
      ]
    },
    {
      "cell_type": "markdown",
      "metadata": {},
      "source": [
        "### Datasets from the UEA & UCR Time Series Classification Repository\n\nThe [UEA & UCR Time Series Classification Repository](http://www.timeseriesclassification.com/) is a popular repository\nfor classification problems involving time series data. The datasets used\ncan be considered also as functional observations, where the functions\ninvolved have domain dimension of 1, and the grid points are\nequispaced. Thus, they have also been used in the :term:`FDA` literature.\nThe original UCR datasets are univariate time series, while the new UEA\ndatasets incorporate also vector-valued data.\nIn scikit-fda, the function :func:`~skfda.datasets.fetch_ucr` can be used\nto obtain both kinds of datasets as\n:class:`~skfda.representation.grid.FDataGrid` instances.\n\n"
      ]
    },
    {
      "cell_type": "code",
      "execution_count": null,
      "metadata": {
        "collapsed": false
      },
      "outputs": [],
      "source": [
        "# Load ArrowHead dataset from UCR\ndataset = skfda.datasets.fetch_ucr(\"ArrowHead\")\ndataset[\"data\"].plot()\nplt.show()"
      ]
    },
    {
      "cell_type": "code",
      "execution_count": null,
      "metadata": {
        "collapsed": false
      },
      "outputs": [],
      "source": [
        "# Load BasicMotions dataset from UEA\ndataset = skfda.datasets.fetch_ucr(\"BasicMotions\")\ndataset[\"data\"].plot()\nplt.show()"
      ]
    },
    {
      "cell_type": "markdown",
      "metadata": {},
      "source": [
        "## Synthetic data\n\nSometimes it is not enough to have real-world data at your disposal.\nPerhaps the messy nature of real-world data makes difficult to detect when\na particular algorithm has a strange behaviour. Perhaps you want to see how\nit performs under a simplified model. Maybe you want to see what happens\nwhen your data has particular characteristics, for which no dataset is\navailable. Or maybe you only want to illustrate a concept without having\nto introduce a particular set of data.\n\nIn those cases, the ability to use generated data is desirable. To aid this\nuse case, scikit-learn provides several functions that generate data\naccording to some model. These functions are in the\n:doc:`datasets </modules/datasets>` module and have the prefix ``make_``.\nMaybe the most useful of those are the functions\n:func:`skfda.datasets.make_gaussian_process` and\n:func:`skfda.datasets.make_gaussian` which can be used to generate Gaussian\nprocesses and Gaussian fields with different covariance functions.\n\n"
      ]
    },
    {
      "cell_type": "code",
      "execution_count": null,
      "metadata": {
        "collapsed": false
      },
      "outputs": [],
      "source": [
        "import numpy as np\n\ncov = skfda.misc.covariances.Exponential(length_scale=0.1)\n\nfd = skfda.datasets.make_gaussian_process(\n    start=0,\n    stop=4,\n    n_samples=5,\n    n_features=100,\n    mean=lambda t: np.power(t, 2),\n    cov=cov,\n)\n\nfd.plot()\nplt.show()"
      ]
    },
    {
      "cell_type": "markdown",
      "metadata": {},
      "source": [
        "In order to know all the available functionalities to load existing and\nsynthetic datasets it is recommended to look at the documentation of the\n:doc:`datasets </modules/datasets>` module.\n\n"
      ]
    }
  ],
  "metadata": {
    "kernelspec": {
      "display_name": "Python 3",
      "language": "python",
      "name": "python3"
    },
    "language_info": {
      "codemirror_mode": {
        "name": "ipython",
        "version": 3
      },
      "file_extension": ".py",
      "mimetype": "text/x-python",
      "name": "python",
      "nbconvert_exporter": "python",
      "pygments_lexer": "ipython3",
      "version": "3.8.6"
    }
  },
  "nbformat": 4,
  "nbformat_minor": 0
}