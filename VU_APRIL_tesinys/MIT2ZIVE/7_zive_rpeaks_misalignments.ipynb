{
 "cells": [
  {
   "cell_type": "code",
   "execution_count": 2,
   "metadata": {},
   "outputs": [
    {
     "ename": "ModuleNotFoundError",
     "evalue": "No module named 'zive_util_vu'",
     "output_type": "error",
     "traceback": [
      "\u001b[1;31m---------------------------------------------------------------------------\u001b[0m",
      "\u001b[1;31mModuleNotFoundError\u001b[0m                       Traceback (most recent call last)",
      "\u001b[1;32m~\\AppData\\Local\\Temp\\ipykernel_17744\\3392507288.py\u001b[0m in \u001b[0;36m<cell line: 8>\u001b[1;34m()\u001b[0m\n\u001b[0;32m      6\u001b[0m \u001b[1;32mfrom\u001b[0m \u001b[0mpathlib\u001b[0m \u001b[1;32mimport\u001b[0m \u001b[0mPath\u001b[0m\u001b[1;33m\u001b[0m\u001b[1;33m\u001b[0m\u001b[0m\n\u001b[0;32m      7\u001b[0m \u001b[1;32mimport\u001b[0m \u001b[0mos\u001b[0m\u001b[1;33m,\u001b[0m \u001b[0msys\u001b[0m\u001b[1;33m,\u001b[0m \u001b[0mjson\u001b[0m\u001b[1;33m\u001b[0m\u001b[1;33m\u001b[0m\u001b[0m\n\u001b[1;32m----> 8\u001b[1;33m \u001b[1;32mfrom\u001b[0m \u001b[0mzive_util_vu\u001b[0m \u001b[1;32mimport\u001b[0m \u001b[0mzive_read_df_rpeaks\u001b[0m\u001b[1;33m,\u001b[0m \u001b[0mget_filename\u001b[0m\u001b[1;33m\u001b[0m\u001b[1;33m\u001b[0m\u001b[0m\n\u001b[0m\u001b[0;32m      9\u001b[0m \u001b[1;33m\u001b[0m\u001b[0m\n\u001b[0;32m     10\u001b[0m \u001b[1;33m\u001b[0m\u001b[0m\n",
      "\u001b[1;31mModuleNotFoundError\u001b[0m: No module named 'zive_util_vu'"
     ]
    }
   ],
   "source": [
    "# Skaičiuoja, kiek Zive įrašuose yra rpeaks, nesutampančių tarp tų, kurie rasti\n",
    "# grynai automatiniu būdu ir tų, kurie yra pataisyti anotuojant įrašus.   \n",
    "\n",
    "import neurokit2 as nk\n",
    "import numpy as np\n",
    "from pathlib import Path\n",
    "import os, sys, json\n",
    "from zive_util_vu import zive_read_df_rpeaks, get_filename\n",
    "\n",
    "\n",
    "def misalignments(rec_dir, SubjCode):\n",
    "\n",
    "       # I-a dalis: nuskaitome rpeaks iš json failo\n",
    "    df_rpeaks = zive_read_df_rpeaks(rec_dir, str(SubjCode))\n",
    "    atr_sample = df_rpeaks['sampleIndex'].to_numpy()\n",
    "    \n",
    "    # print(atr_sample[:5])\n",
    "\n",
    "        # II-a dalis: suformuojame rpeaks su Neurokitu\n",
    "    file_path = Path(rec_dir, str(SubjCode) + '.npy')\n",
    "    signal_raw = np.load(file_path)\n",
    "    _, rpeaks = nk.ecg_peaks(signal_raw, sampling_rate=200, correct_artifacts=False)\n",
    "    rpeaks_from_signal = rpeaks['ECG_R_Peaks']\n",
    "    # print(rpeaks_from_signal[:5])\n",
    "  \n",
    "        # Sulyginimas\n",
    "    ab = np.setdiff1d(atr_sample, rpeaks_from_signal)\n",
    "    ba = np.setdiff1d(rpeaks_from_signal,atr_sample)\n",
    "    return(np.size(ab)+np.size(ba))\n",
    "\n",
    "\n",
    "my_os=sys.platform\n",
    "print(\"OS in my system : \",my_os)\n",
    "\n",
    "if my_os != 'linux':\n",
    "    OS = 'Windows'\n",
    "else:  \n",
    "    OS = 'Ubuntu'\n",
    "# Bendras duomenų aplankas, kuriame patalpintas subfolderis name_db\n",
    "\n",
    "if OS == 'Windows':\n",
    "    Duomenu_aplankas = 'D:\\\\DI'   # variantas: Windows, GUNDAS\n",
    "    # Duomenu_aplankas = 'F:\\DI\\Data\\MIT&ZIVE\\VU'   # variantas: Windows, HERKULIS\n",
    "else:\n",
    "    Duomenu_aplankas = '/home/kesju/DI'   # arba variantas: UBUNTU, be Docker\n",
    "\n",
    "# jei variantas Docker pasirenkame:\n",
    "# Duomenu_aplankas = '/Data/MIT&ZIVE'\n",
    "\n",
    "# Vietinės talpyklos aplankas ir pūpsnių atributų failas\n",
    "db_folder = 'DUOM_2022_RUDUO'\n",
    "\n",
    "#  Nuoroda į aplanką su MIT2ZIVE duomenų rinkiniu\n",
    "db_path = Path(Duomenu_aplankas, db_folder)\n",
    "\n",
    "# Nuoroda į aplanką su EKG įrašais (.npy) ir anotacijomis (.json)\n",
    "rec_dir = Path(db_path, 'records_npy')\n",
    "\n",
    "# Variantas: visi duomenys\n",
    "# Nuskaitome failą info_create.json ir duomenų rinkinio parametrus\n",
    "file_path = Path(rec_dir,'info_create_z.json')\n",
    "with open(file_path) as json_file:\n",
    "    info_create = json.load(json_file)\n",
    "SubjCodes =  info_create['SubjCodes'] # pacientų įrašų sąrašas\n",
    "\n",
    "# Variantas: testinė imtis  \n",
    "# file_path = Path(rec_dir, 'test_subjcode_lst.csv')\n",
    "# SubjCodes = list(np.loadtxt(file_path, delimiter=',', dtype=\"int\"))\n",
    "\n",
    "tot, ns_tot = 0, 0\n",
    "\n",
    "for SubjCode in SubjCodes:\n",
    "    ns = misalignments(rec_dir, SubjCode)\n",
    "    filename = get_filename(rec_dir, SubjCode)\n",
    "    print(f\"Zive įrašas: {SubjCode} filename: {filename} Nesutampančių rpeaks skaičius ns: {ns} \")\n",
    "    if (ns != 0):\n",
    "        ns_tot +=1\n",
    "    tot +=1\n",
    "print(f\"\\n Viso įrašų: {tot}  Įrašų su nesutampančiais rpeaks: {ns_tot} ({100*ns_tot/tot:.1f}%)\")        \n",
    "\n",
    " "
   ]
  }
 ],
 "metadata": {
  "kernelspec": {
   "display_name": "Python 3.9.12 ('ecg')",
   "language": "python",
   "name": "python3"
  },
  "language_info": {
   "codemirror_mode": {
    "name": "ipython",
    "version": 3
   },
   "file_extension": ".py",
   "mimetype": "text/x-python",
   "name": "python",
   "nbconvert_exporter": "python",
   "pygments_lexer": "ipython3",
   "version": "3.9.12"
  },
  "orig_nbformat": 4,
  "vscode": {
   "interpreter": {
    "hash": "1f36dab35816871602f0a4fffa6415a4e758bca001397bb3d9f7e90aab6637a5"
   }
  }
 },
 "nbformat": 4,
 "nbformat_minor": 2
}
