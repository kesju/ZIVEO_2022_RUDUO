{
 "cells": [
  {
   "cell_type": "code",
   "execution_count": null,
   "metadata": {},
   "outputs": [],
   "source": [
    " \n",
    " \n",
    " \n",
    " # https://stackoverflow.com/questions/68790429/how-to-add-numpy-array-values-to-dataframe-at-a-certain-index\n",
    "        # df.loc[df.index[-15:], 'column_2'] = my_array\n",
    "        \n",
    "        # index_end = index_start + len(noise_arr)\n",
    "        # print(index_start, index_end, 0, len(noise_arr)) \n",
    "        # all_beats_attr.loc[all_beats_attr.index[index_start:index_end], 'noise'] = noise_arr[0:len(noise_arr)-1] \n",
    "        # all_beats_attr.loc[all_beats_attr.index[index_start:index_end], 'noise'] = noise_arr \n",
    "\n",
    "        # print( \"all_beats_attr.loc[all_beats_attr.index[index_end]]:\",index_end)\n",
    "        # print( all_beats_attr.loc[all_beats_attr.index[index_end]])\n",
    "        # print(\"2: all_beats_attr.head():\")\n",
    "        # print(all_beats_attr.head())\n"
   ]
  }
 ],
 "metadata": {
  "kernelspec": {
   "display_name": "Python 3.9.12 ('ecg')",
   "language": "python",
   "name": "python3"
  },
  "language_info": {
   "name": "python",
   "version": "3.9.12"
  },
  "orig_nbformat": 4,
  "vscode": {
   "interpreter": {
    "hash": "1f36dab35816871602f0a4fffa6415a4e758bca001397bb3d9f7e90aab6637a5"
   }
  }
 },
 "nbformat": 4,
 "nbformat_minor": 2
}
