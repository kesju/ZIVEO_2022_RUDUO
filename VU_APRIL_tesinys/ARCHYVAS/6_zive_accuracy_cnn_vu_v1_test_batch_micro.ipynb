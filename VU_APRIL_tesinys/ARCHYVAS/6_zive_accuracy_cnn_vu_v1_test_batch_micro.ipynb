{
 "cells": [
  {
   "cell_type": "code",
   "execution_count": 1,
   "metadata": {},
   "outputs": [
    {
     "name": "stdout",
     "output_type": "stream",
     "text": [
      "2.8.2\n",
      "Skriptas zive-arrh EKG segmentų apmokyto klasifikatoriaus tikslumo įvertinimui\n",
      "Modelis CNN VU su EKG sekos reikšmėmis, EKG formos požymiais, RR intervalais prieš ir po R dantelio\n",
      "OS in my system :  win32\n",
      "\n",
      "Bendras duomenų aplankas:  D:\\DI\\Data\\MIT&ZIVE\\VU\n",
      "Zive duomenų aplankas:  DUOM_VU\n",
      "Aplankas su originaliais EKG įrašais ir anotacijomis (.json)  D:\\DI\\Data\\MIT&ZIVE\\VU\\DUOM_VU\\records_npy\n",
      "Pūpsnių atributų failas: all_beats_attr_z.csv\n",
      "Diskretizavimo dažnis:  200\n",
      "Klasifikavimo schema: {'N': 0, 'S': 1, 'V': 2}\n",
      "Klasių skaičius: 3\n",
      "Modelio ir scaler parametrai nuskaitomas iš aplanko:  model_cnn_fda_vu_v0\n",
      "\n",
      "\n"
     ]
    }
   ],
   "source": [
    "# EKG įrašų grupės (batch) klasifikacija su micro moduliu.\n",
    "# Klasifikacija atliekama su micro moduliu, kuris klasifikuoja\n",
    "# kiekvieną ECG pūpsnį atskirai, prieš tai apskaičiavus su kitu moduliu pūpsnio požymius.\n",
    "# Tie požymiai gali būti iš anksto įrašyti į diską.\n",
    "\n",
    "# EKG įrašų SubjCodes įmami iš test_subj_code_lst.csv,\n",
    "# suformuoto su skriptu 4_zive_creat_beats_attrib_split_v3.ipynb \n",
    "# \n",
    "# Atnaujintas variantas, po to, kaip padaryti pakeitimai failų varduose 2022 03 26\n",
    "# Šis variantas pritaikytas npy formato zive įrašams, kuriems pakeistas, lyginant su \n",
    "# originaliais įrašais, failo vardas iš `file_name` į `SubjCode`, pridedant `userNr`\n",
    "# prie `file_name`. \n",
    "#\n",
    "# Skriptas zive EKG pūpsnių CNN VU klasifikatoriaus testavimui ir tikslumo įvertinimui, funkcijos \n",
    "# paimamos iš aplanko zive_cnn_fda_vu_v1.py, modelis iš model_cnn_fda_vu_v1, testuojami duomenys\n",
    "# iš db_folder įrašų saugyklos, jame yra ir failas all_beats_attr. \n",
    "\n",
    "# Testavimui imami įrašai iš sąrašo SubjCodes, kuris  paimamas iš mokymo, validavimo, testavimo sarašų, pvz. train_subjcode_lst.csv. Visiems įrašams iš šių\n",
    "# sąrašų egzistuoja informacija apie pūpsnius faile all_beats_attr.\n",
    " \n",
    "# Skripte yra galimybė išvesti ekstrasistolių vietas įraše.\n",
    "# Dirbant su daug įrašų reiktų užblokuoti: classification = []  # Užblokuota\n",
    " \n",
    "import tensorflow as tf\n",
    "import pandas as pd\n",
    "import numpy as np\n",
    "import matplotlib.pyplot as plt\n",
    "import time\n",
    "import sys, os, json\n",
    "from pathlib import Path\n",
    "from sklearn.metrics import confusion_matrix, classification_report\n",
    "from sklearn.metrics import precision_recall_fscore_support\n",
    "\n",
    "from zive_util_vu import cm2df, show_confusion_matrix \n",
    "from zive_util_vu import create_dir, create_subdir, get_rev_dictionary\n",
    "from zive_util_vu import runtime, split_SubjCode\n",
    "from zive_util_vu import get_freq_unique_values\n",
    "\n",
    "from zive_util_vu import get_beat_attributes\n",
    "from zive_util_vu import get_userId, read_rec, get_filename \n",
    "from zive_util_vu import confusion_matrix_modified, zive_read_df_rpeaks\n",
    "\n",
    "# from zive_cnn_fda_vu_v1_micro import zive_read_file_1ch\n",
    "# Pastaba: zive_read_file_1ch importuoju iš zive_cnn_fda_vu_v1, nors ji yra ir zive_util_vu.py\n",
    "# tam, kad atskirti funkcijas, kurios importuojamos skripte zive analysis, nuo tų funkcijų,\n",
    "# kurios reikalingos tik zive_accuracy_cnn_vu_v1 ir v2. \n",
    "\n",
    "print(tf.__version__)\n",
    "\n",
    "print(\"Skriptas zive-arrh EKG segmentų apmokyto klasifikatoriaus tikslumo įvertinimui\")\n",
    "print('Modelis CNN VU su EKG sekos reikšmėmis, EKG formos požymiais, RR intervalais prieš ir po R dantelio')\n",
    "\n",
    "import warnings\n",
    "# warnings.filterwarnings(\"ignore\")\n",
    "\n",
    "my_os=sys.platform\n",
    "print(\"OS in my system : \",my_os)\n",
    "\n",
    "if my_os != 'linux':\n",
    "    OS = 'Windows'\n",
    "else:  \n",
    "    OS = 'Ubuntu'\n",
    "\n",
    "# Pasiruošimas\n",
    "\n",
    "# //////////////// NURODOMI PARAMETRAI /////////////////////////////////////////////////////\n",
    "\n",
    "# Bendras duomenų aplankas, kuriame patalpintas subfolderis name_db\n",
    "\n",
    "if OS == 'Windows':\n",
    "    Duomenu_aplankas = 'D:\\DI\\Data\\MIT&ZIVE\\VU'   # variantas: Windows, GUNDAS\n",
    "    # Duomenu_aplankas = 'F:\\DI\\Data\\MIT&ZIVE\\VU'   # variantas: Windows, HERKULIS\n",
    "else:\n",
    "    Duomenu_aplankas = '/home/kesju/DI/Data/MIT&ZIVE/VU'   # arba variantas: UBUNTU, be Docker\n",
    "\n",
    "# jei variantas Docker pasirenkame:\n",
    "# Duomenu_aplankas = '/Data/MIT&ZIVE'\n",
    "\n",
    "# Vietinės talpyklos aplankas ir pūpsnių atributų failas\n",
    "db_folder = 'DUOM_VU'\n",
    "\n",
    "# Vietinės talpyklos aplankas ir pūpsnių atributų failas\n",
    "all_beats_attr_fname = 'all_beats_attr_z.csv'\n",
    "\n",
    "# Failai pūpsnių klasių formavimui\n",
    "selected_beats = {'N':0, 'S':1, 'V':2}\n",
    "all_beats =  {'N':0, 'S':1, 'V':2, 'U':3, 'F':3}  \n",
    "\n",
    "# Diskretizavimo dažnis:\n",
    "fs = 200\n",
    "\n",
    "# /////////////////////////////////////////////////////////////////\n",
    "\n",
    "#  Nuoroda į aplanką su MIT2ZIVE duomenų rinkiniu\n",
    "db_path = Path(Duomenu_aplankas, db_folder)\n",
    "\n",
    "# Nuoroda į aplanką su EKG įrašais (.npy) ir anotacijomis (.json)\n",
    "rec_dir = Path(db_path, 'records_npy')\n",
    "\n",
    "# Nuoroda į modelio aplanką\n",
    "# model_dir = Path(Duomenu_aplankas, 'DNN', 'best_models', 'all_ft')\n",
    "model_dir = 'model_cnn_fda_vu_v0'\n",
    "\n",
    "# Išvedame parametrus\n",
    "print(\"\\nBendras duomenų aplankas: \", Duomenu_aplankas)\n",
    "print(\"Zive duomenų aplankas: \", db_folder)\n",
    "print(\"Aplankas su originaliais EKG įrašais ir anotacijomis (.json) \", rec_dir)\n",
    "print(\"Pūpsnių atributų failas:\", all_beats_attr_fname)\n",
    "print(\"Diskretizavimo dažnis: \", fs)\n",
    "print('Klasifikavimo schema:', selected_beats)\n",
    "print('Klasių skaičius:', len(selected_beats))\n",
    "print(\"Modelio ir scaler parametrai nuskaitomas iš aplanko: \", model_dir)\n",
    "\n",
    "print(\"\\n\")"
   ]
  },
  {
   "cell_type": "code",
   "execution_count": 2,
   "metadata": {},
   "outputs": [],
   "source": [
    "# Modulis EKG signalo pūpsnių klasifikacijai su užduotu modeliu\n",
    "\n",
    "import keras, pickle\n",
    "from get_beat_features_fda_vu import get_beat_features_fda_vu_v1\n",
    "\n",
    "def predict_cnn_fda_vu_v1_micro(signal, atr_sample, model_dir):\n",
    "# ************************************* funkcijai ***************************************************************\n",
    "\n",
    "#  Iėjimo parametrai:   signal, atr_sample, \n",
    "#                       modelio ir scaler_train parametrai\n",
    "#                       \n",
    "#  Išėjimo parametrai: pred_y, kai kurie neatpažinti : 'U':3\n",
    "\n",
    "    # Suformuojame indeksų sąrašą. Formuodami sąrašą eliminuojame pirmą ir paskutinį indeksą\n",
    "\n",
    "    all_features = ['RRl', 'RRr', 'RRl/RRr',\n",
    "                'signal_mean', 'signal_std', 'P_val', 'Q_val', 'R_val', 'S_val', 'T_val',\n",
    "                'P_pos', 'Q_pos', 'R_pos', 'S_pos', 'T_pos', 'QRS', 'PR', 'ST', 'QT', '0', '1', '2',\n",
    "                '3', '4', '5', '6', '8', '9', '10', '11', '12', '13', '14', '15', '16', '17', '18',\n",
    "                '19', '20', '21', '22', '23', '24', '25', '26', '27', '28', '29', '30', '31', '32',\n",
    "                '33', '34', '35', '36', '37', '38', '39', '40', '41', '42', '43', '44', '45', '46',\n",
    "                '47', '48', '49', '50', '51', '52', '53', '54', '55', '56', '57', '58', '59', '60',\n",
    "                '61', '62', '63', '64', '65', '66', '67', '68', '69', '70', '71', '72', '73', '74',\n",
    "                '75', '76', '77', '78', '79', '80', '81', '82', '83', '84', '85', '86', '87', '88',\n",
    "                '89', '90', '91', '92', '93', '94', '95', '96', '97', '98', '99', '100', '101', '102',\n",
    "                '103', '104', '105', '106', '107', '108', '109', '110', '111', '112', '113', '114',\n",
    "                '115', '116', '117', '118', '119', '120', '121', '122', '123', '124', '125', '126',\n",
    "                '127', '128', '129', '130', '131', '132', '133', '134', '135', '136', '137', '138',\n",
    "                '139', '140', '141', '142', '143', '144', '145', '146', '147', '148', '149', '150',\n",
    "                '151', '152', '153', '154', '155', '156', '157', '158', '159', '160', '161', '162',\n",
    "                '163', '164', '165', '166', '167', '168', '169', '170', '171', '172', '173', '174',\n",
    "                '175', '176', '177', '178', '179', '180', '181', '182', '183', '184', '185', '186',\n",
    "                '187', '188', '189', '190', '191', '192', '193', '194', '195', '196', '197', '198',\n",
    "                '199']\n",
    "   \n",
    "    print(\"pradėjome predict_cnn_fda_vu_v1\")\n",
    "    # nuskaitome modelio parametrus\n",
    "    model_path = Path(model_dir, 'best_model_final_2.h5')\n",
    "    model = keras.models.load_model(model_path)\n",
    "\n",
    "    # Nuskaitome scaler objectą\n",
    "    path_scaler = Path(model_dir, 'scaler.pkl')  \n",
    "    scaler = pickle.load(open(path_scaler,'rb'))\n",
    "\n",
    "    idx_lst = list(range(1, len(atr_sample)-1))\n",
    "    # idx_lst = [1,2]\n",
    "\n",
    "    # Formuojame iš pūpsnių požymių masyvą\n",
    "    data_frame, omitted = get_beat_features_set_fda_vu_v1(signal, atr_sample, idx_lst)\n",
    "    \n",
    "    data_frame = data_frame.set_index('idx')\n",
    "    data_frame.columns = data_frame.columns.astype(str)\n",
    "\n",
    "    # print('\\ndata_frame:')\n",
    "    # print(data_frame.head(3))\n",
    "    # print('\\nomitted:')\n",
    "    # print(omitted.head(3))\n",
    "\n",
    "    # paruošiame požymių masyvą klasifikacijai\n",
    "    data_frame_init = data_frame[all_features]\n",
    "    data_array = scaler.transform(data_frame_init)\n",
    "    test_x = data_array\n",
    "    x_test = test_x.reshape((test_x.shape[0], test_x.shape[1], 1))\n",
    "\n",
    "    # Pūpsnių klasių atpažinimas\n",
    "    predictions = model.predict(x_test)\n",
    "    predictions_y = np.argmax(predictions, axis=1)\n",
    "\n",
    "# Sužymimi neatpažinti pūpsniai - klasė 3:'U'\n",
    "# Šiuo atveju - pirmas ir paskutinis pūpsnis, taip pat kuriuos pažymėjo ommitted\n",
    "    pred_y = np.zeros(len(atr_sample), dtype=int)\n",
    "    pred_y[0] = 3\n",
    "    pred_y[len(atr_sample)-1] = 3\n",
    "\n",
    "    if (omitted.empty != True):\n",
    "        idxs = list(omitted['idx'].astype('int'))\n",
    "        for i in range(len(idxs)):\n",
    "            pred_y[idxs[i]] = 3\n",
    "            \n",
    "# Sužymimi atpažinti pūpsniai \n",
    "    selected = data_frame.index.astype('int')\n",
    "    pred_y[selected] = predictions_y\n",
    "    \n",
    "    # print(f\"\\natr_sample: {atr_sample[:40]}\")\n",
    "\n",
    "    return pred_y\n",
    "\n",
    "# Apskaičiuojami užduotų EKG signalo pūpsnių (per idx_lst) požymiai ir iš jų\n",
    "# suformuojamas požymių dataframe masyvas\n",
    "def get_beat_features_set_fda_vu_v1(signal, atr_sample, idx_lst):\n",
    "\n",
    "    beat_features_set = pd.DataFrame()\n",
    "    omit_idx_set = pd.DataFrame()\n",
    "\n",
    "    # print(\"\\nGet beat features set from signal:\")\n",
    "    for idx in idx_lst:\n",
    "        beat_features, omit_idx = get_beat_features_fda_vu_v1(signal, atr_sample, idx)\n",
    "        # beat_features_set = beat_features_set.append(beat_features, ignore_index=True)\n",
    "        if omit_idx.empty:\n",
    "            beat_features_set = pd.concat([beat_features_set, beat_features])\n",
    "        else:\n",
    "            omit_idx_set = pd.concat([omit_idx_set, omit_idx])\n",
    "    return beat_features_set, omit_idx_set"
   ]
  },
  {
   "cell_type": "code",
   "execution_count": 3,
   "metadata": {},
   "outputs": [
    {
     "name": "stdout",
     "output_type": "stream",
     "text": [
      "\n",
      "Atliekama pūpsnių pacientų įrašuose klasifikacija\n",
      "Klasifikuojamų įrašų sąrašas: [10000, 10001, 10002, 10040, 10041, 10042, 10120, 10121, 10122, 10190, 10191, 10192, 10193, 10194, 10195, 10196, 10197, 10198, 10199, 10200, 10201, 10202, 10260, 10261, 10262, 10263, 10264, 10265, 10266, 10267, 10268, 10269, 10300, 10301, 10302, 10303, 10304, 10305, 10306, 10307, 10308, 10309, 10320, 10420, 10421, 10422, 10423, 10424, 10425, 10426, 10427, 10428, 10429, 10450, 10470, 10520, 10521, 10522, 10523, 10524, 10525, 10526, 10527, 10528, 10529, 10540, 10541, 10542, 10543, 10544, 10545, 10546, 10547, 10548, 10549, 10600, 10601, 10602, 10710, 10711, 10712, 10713, 10714, 10715, 10716, 10717, 10718, 10719, 10720, 10721, 10722, 10723, 10724, 10725, 10726, 10727, 10728, 10729, 10770, 10771, 10772, 10773, 10774, 10775, 10776, 10777, 10778, 10779, 10820]\n",
      "Sąrašas nuskaitytas iš: D:\\DI\\Data\\MIT&ZIVE\\VU\\DUOM_VU\\records_npy\\test_subjcode_lst.csv\n",
      "\n",
      "Aplankas rezultatams: D:\\DI\\Data\\MIT&ZIVE\\VU\\DUOM_VU\\rezultatai_test_subjcode_lst\n",
      "Directory 'D:\\DI\\Data\\MIT&ZIVE\\VU\\DUOM_VU\\rezultatai_test_subjcode_lst' already exists\n",
      "\n",
      "SubjCode: 10000 userNr: 1000 file_name: 1630673.825 signal_length: 127999\n",
      "test_labels:  [0 1] [762   4] 766\n",
      "pradėjome predict_cnn_fda_vu_v1\n"
     ]
    },
    {
     "name": "stderr",
     "output_type": "stream",
     "text": [
      " c:\\Users\\Lenovo\\miniconda3\\envs\\ecg\\lib\\site-packages\\sklearn\\base.py:310: UserWarning:Trying to unpickle estimator StandardScaler from version 1.0.1 when using version 0.24.1. This might lead to breaking code or invalid results. Use at your own risk.\n"
     ]
    },
    {
     "name": "stdout",
     "output_type": "stream",
     "text": [
      "pred_labels:  [0 1 2 3] [756   5   2   3] 766\n",
      "N:  759 S:  4 V:  0  Nprec: 1.00 Nrec: 1.00 Nfsc: 1.00  Sprec: 0.40 Srec: 0.50 Sfsc: 0.44  Vprec: 0.00 Vrec: 0.00 Vfsc: 0.00\n",
      "\n",
      "SubjCode: 10001 userNr: 1000 file_name: 1626941.468 signal_length: 127999\n",
      "test_labels:  [0 1] [859   2] 861\n",
      "pradėjome predict_cnn_fda_vu_v1\n"
     ]
    },
    {
     "name": "stderr",
     "output_type": "stream",
     "text": [
      " c:\\Users\\Lenovo\\miniconda3\\envs\\ecg\\lib\\site-packages\\sklearn\\base.py:310: UserWarning:Trying to unpickle estimator StandardScaler from version 1.0.1 when using version 0.24.1. This might lead to breaking code or invalid results. Use at your own risk.\n"
     ]
    },
    {
     "name": "stdout",
     "output_type": "stream",
     "text": [
      "pred_labels:  [0 1 2 3] [854   1   4   2] 861\n",
      "N:  857 S:  2 V:  0  Nprec: 1.00 Nrec: 1.00 Nfsc: 1.00  Sprec: 1.00 Srec: 0.50 Sfsc: 0.67  Vprec: 0.00 Vrec: 0.00 Vfsc: 0.00\n",
      "\n",
      "SubjCode: 10002 userNr: 1000 file_name: 1632923.661 signal_length: 575999\n",
      "test_labels:  [0 1] [4849    1] 4850\n",
      "pradėjome predict_cnn_fda_vu_v1\n"
     ]
    },
    {
     "name": "stderr",
     "output_type": "stream",
     "text": [
      " c:\\Users\\Lenovo\\miniconda3\\envs\\ecg\\lib\\site-packages\\sklearn\\base.py:310: UserWarning:Trying to unpickle estimator StandardScaler from version 1.0.1 when using version 0.24.1. This might lead to breaking code or invalid results. Use at your own risk.\n"
     ]
    },
    {
     "name": "stdout",
     "output_type": "stream",
     "text": [
      "pred_labels:  [0 1 2 3] [4796   29   22    3] 4850\n",
      "N: 4846 S:  1 V:  0  Nprec: 1.00 Nrec: 0.99 Nfsc: 0.99  Sprec: 0.03 Srec: 1.00 Sfsc: 0.07  Vprec: 0.00 Vrec: 0.00 Vfsc: 0.00\n",
      "\n",
      "SubjCode: 10040 userNr: 1004 file_name: 1630715.197 signal_length: 127999\n",
      "test_labels:  [0 1] [610   2] 612\n",
      "pradėjome predict_cnn_fda_vu_v1\n"
     ]
    },
    {
     "name": "stderr",
     "output_type": "stream",
     "text": [
      " c:\\Users\\Lenovo\\miniconda3\\envs\\ecg\\lib\\site-packages\\sklearn\\base.py:310: UserWarning:Trying to unpickle estimator StandardScaler from version 1.0.1 when using version 0.24.1. This might lead to breaking code or invalid results. Use at your own risk.\n"
     ]
    },
    {
     "name": "stdout",
     "output_type": "stream",
     "text": [
      "pred_labels:  [0 1 2 3] [606   1   3   2] 612\n",
      "N:  608 S:  2 V:  0  Nprec: 1.00 Nrec: 1.00 Nfsc: 1.00  Sprec: 1.00 Srec: 0.50 Sfsc: 0.67  Vprec: 0.00 Vrec: 0.00 Vfsc: 0.00\n",
      "\n",
      "SubjCode: 10041 userNr: 1004 file_name: 1630714.569 signal_length: 127999\n",
      "test_labels:  [0 1] [605   1] 606\n",
      "pradėjome predict_cnn_fda_vu_v1\n"
     ]
    },
    {
     "name": "stderr",
     "output_type": "stream",
     "text": [
      " c:\\Users\\Lenovo\\miniconda3\\envs\\ecg\\lib\\site-packages\\sklearn\\base.py:310: UserWarning:Trying to unpickle estimator StandardScaler from version 1.0.1 when using version 0.24.1. This might lead to breaking code or invalid results. Use at your own risk.\n"
     ]
    },
    {
     "name": "stdout",
     "output_type": "stream",
     "text": [
      "pred_labels:  [0 1 3] [603   1   2] 606\n",
      "N:  603 S:  1 V:  0  Nprec: 1.00 Nrec: 1.00 Nfsc: 1.00  Sprec: 1.00 Srec: 1.00 Sfsc: 1.00  Vprec: 0.00 Vrec: 0.00 Vfsc: 0.00\n",
      "\n",
      "SubjCode: 10042 userNr: 1004 file_name: 1630729.576 signal_length: 127999\n",
      "test_labels:  [0] [643] 643\n",
      "pradėjome predict_cnn_fda_vu_v1\n"
     ]
    },
    {
     "name": "stderr",
     "output_type": "stream",
     "text": [
      " c:\\Users\\Lenovo\\miniconda3\\envs\\ecg\\lib\\site-packages\\sklearn\\base.py:310: UserWarning:Trying to unpickle estimator StandardScaler from version 1.0.1 when using version 0.24.1. This might lead to breaking code or invalid results. Use at your own risk.\n"
     ]
    },
    {
     "name": "stdout",
     "output_type": "stream",
     "text": [
      "pred_labels:  [0 3] [641   2] 643\n",
      "N:  641 S:  0 V:  0  Nprec: 1.00 Nrec: 1.00 Nfsc: 1.00  Sprec: 0.00 Srec: 0.00 Sfsc: 0.00  Vprec: 0.00 Vrec: 0.00 Vfsc: 0.00\n",
      "\n",
      "SubjCode: 10120 userNr: 1012 file_name: 1631702.918 signal_length: 127999\n",
      "test_labels:  [0 1 2] [756   1   4] 761\n",
      "pradėjome predict_cnn_fda_vu_v1\n"
     ]
    },
    {
     "name": "stderr",
     "output_type": "stream",
     "text": [
      " c:\\Users\\Lenovo\\miniconda3\\envs\\ecg\\lib\\site-packages\\sklearn\\base.py:310: UserWarning:Trying to unpickle estimator StandardScaler from version 1.0.1 when using version 0.24.1. This might lead to breaking code or invalid results. Use at your own risk.\n"
     ]
    },
    {
     "name": "stdout",
     "output_type": "stream",
     "text": [
      "pred_labels:  [0 1 2 3] [511 117 124   9] 761\n",
      "N:  749 S:  0 V:  3  Nprec: 1.00 Nrec: 0.68 Nfsc: 0.81  Sprec: 0.00 Srec: 0.00 Sfsc: 0.00  Vprec: 0.02 Vrec: 1.00 Vfsc: 0.05\n",
      "\n",
      "SubjCode: 10121 userNr: 1012 file_name: 1631727.631 signal_length: 127999\n",
      "test_labels:  [0 1] [644   2] 646\n",
      "pradėjome predict_cnn_fda_vu_v1\n"
     ]
    },
    {
     "name": "stderr",
     "output_type": "stream",
     "text": [
      " c:\\Users\\Lenovo\\miniconda3\\envs\\ecg\\lib\\site-packages\\sklearn\\base.py:310: UserWarning:Trying to unpickle estimator StandardScaler from version 1.0.1 when using version 0.24.1. This might lead to breaking code or invalid results. Use at your own risk.\n"
     ]
    },
    {
     "name": "stdout",
     "output_type": "stream",
     "text": [
      "pred_labels:  [0 1 2 3] [514 125   5   2] 646\n",
      "N:  642 S:  2 V:  0  Nprec: 1.00 Nrec: 0.80 Nfsc: 0.89  Sprec: 0.01 Srec: 0.50 Sfsc: 0.02  Vprec: 0.00 Vrec: 0.00 Vfsc: 0.00\n",
      "\n",
      "SubjCode: 10122 userNr: 1012 file_name: 1631734.441 signal_length: 127999\n",
      "test_labels:  [0 1] [485   2] 487\n",
      "pradėjome predict_cnn_fda_vu_v1\n"
     ]
    },
    {
     "name": "stderr",
     "output_type": "stream",
     "text": [
      " c:\\Users\\Lenovo\\miniconda3\\envs\\ecg\\lib\\site-packages\\sklearn\\base.py:310: UserWarning:Trying to unpickle estimator StandardScaler from version 1.0.1 when using version 0.24.1. This might lead to breaking code or invalid results. Use at your own risk.\n"
     ]
    },
    {
     "name": "stdout",
     "output_type": "stream",
     "text": [
      "pred_labels:  [0 1 3] [483   2   2] 487\n",
      "N:  483 S:  2 V:  0  Nprec: 1.00 Nrec: 1.00 Nfsc: 1.00  Sprec: 1.00 Srec: 1.00 Sfsc: 1.00  Vprec: 0.00 Vrec: 0.00 Vfsc: 0.00\n",
      "\n",
      "SubjCode: 10190 userNr: 1019 file_name: 1631036.053 signal_length: 127999\n",
      "test_labels:  [0 2] [875 123] 998\n",
      "pradėjome predict_cnn_fda_vu_v1\n"
     ]
    },
    {
     "name": "stderr",
     "output_type": "stream",
     "text": [
      " c:\\Users\\Lenovo\\miniconda3\\envs\\ecg\\lib\\site-packages\\sklearn\\base.py:310: UserWarning:Trying to unpickle estimator StandardScaler from version 1.0.1 when using version 0.24.1. This might lead to breaking code or invalid results. Use at your own risk.\n"
     ]
    },
    {
     "name": "stdout",
     "output_type": "stream",
     "text": [
      "pred_labels:  [0 1 2 3] [873   3 120   2] 998\n",
      "N:  873 S:  0 V:123  Nprec: 1.00 Nrec: 1.00 Nfsc: 1.00  Sprec: 0.00 Srec: 0.00 Sfsc: 0.00  Vprec: 0.98 Vrec: 0.96 Vfsc: 0.97\n",
      "\n",
      "SubjCode: 10191 userNr: 1019 file_name: 1631013.491 signal_length: 127999\n",
      "test_labels:  [0 2] [672 105] 777\n",
      "pradėjome predict_cnn_fda_vu_v1\n"
     ]
    },
    {
     "name": "stderr",
     "output_type": "stream",
     "text": [
      " c:\\Users\\Lenovo\\miniconda3\\envs\\ecg\\lib\\site-packages\\sklearn\\base.py:310: UserWarning:Trying to unpickle estimator StandardScaler from version 1.0.1 when using version 0.24.1. This might lead to breaking code or invalid results. Use at your own risk.\n"
     ]
    },
    {
     "name": "stdout",
     "output_type": "stream",
     "text": [
      "pred_labels:  [0 1 2 3] [669   3 102   3] 777\n",
      "N:  670 S:  0 V:104  Nprec: 1.00 Nrec: 1.00 Nfsc: 1.00  Sprec: 0.00 Srec: 0.00 Sfsc: 0.00  Vprec: 0.99 Vrec: 0.97 Vfsc: 0.98\n",
      "\n",
      "SubjCode: 10192 userNr: 1019 file_name: 1631012.235 signal_length: 127999\n",
      "test_labels:  [0 2] [777 101] 878\n",
      "pradėjome predict_cnn_fda_vu_v1\n"
     ]
    },
    {
     "name": "stderr",
     "output_type": "stream",
     "text": [
      " c:\\Users\\Lenovo\\miniconda3\\envs\\ecg\\lib\\site-packages\\sklearn\\base.py:310: UserWarning:Trying to unpickle estimator StandardScaler from version 1.0.1 when using version 0.24.1. This might lead to breaking code or invalid results. Use at your own risk.\n"
     ]
    },
    {
     "name": "stdout",
     "output_type": "stream",
     "text": [
      "pred_labels:  [0 1 2 3] [768   1 107   2] 878\n",
      "N:  775 S:  0 V:101  Nprec: 1.00 Nrec: 0.99 Nfsc: 1.00  Sprec: 0.00 Srec: 0.00 Sfsc: 0.00  Vprec: 0.93 Vrec: 0.99 Vfsc: 0.96\n",
      "\n",
      "SubjCode: 10193 userNr: 1019 file_name: 1631032.919 signal_length: 127999\n",
      "test_labels:  [0 2] [862 100] 962\n",
      "pradėjome predict_cnn_fda_vu_v1\n"
     ]
    },
    {
     "name": "stderr",
     "output_type": "stream",
     "text": [
      " c:\\Users\\Lenovo\\miniconda3\\envs\\ecg\\lib\\site-packages\\sklearn\\base.py:310: UserWarning:Trying to unpickle estimator StandardScaler from version 1.0.1 when using version 0.24.1. This might lead to breaking code or invalid results. Use at your own risk.\n"
     ]
    },
    {
     "name": "stdout",
     "output_type": "stream",
     "text": [
      "pred_labels:  [0 1 2 3] [860   2  98   2] 962\n",
      "N:  860 S:  0 V:100  Nprec: 1.00 Nrec: 1.00 Nfsc: 1.00  Sprec: 0.00 Srec: 0.00 Sfsc: 0.00  Vprec: 1.00 Vrec: 0.98 Vfsc: 0.99\n",
      "\n",
      "SubjCode: 10194 userNr: 1019 file_name: 1631012.861 signal_length: 127999\n",
      "test_labels:  [0 2] [745  99] 844\n",
      "pradėjome predict_cnn_fda_vu_v1\n"
     ]
    },
    {
     "name": "stderr",
     "output_type": "stream",
     "text": [
      " c:\\Users\\Lenovo\\miniconda3\\envs\\ecg\\lib\\site-packages\\sklearn\\base.py:310: UserWarning:Trying to unpickle estimator StandardScaler from version 1.0.1 when using version 0.24.1. This might lead to breaking code or invalid results. Use at your own risk.\n"
     ]
    },
    {
     "name": "stdout",
     "output_type": "stream",
     "text": [
      "pred_labels:  [0 1 2 3] [714   3 121   6] 844\n",
      "N:  739 S:  0 V: 99  Nprec: 1.00 Nrec: 0.97 Nfsc: 0.98  Sprec: 0.00 Srec: 0.00 Sfsc: 0.00  Vprec: 0.81 Vrec: 0.99 Vfsc: 0.89\n",
      "\n",
      "SubjCode: 10195 userNr: 1019 file_name: 1631032.294 signal_length: 127999\n",
      "test_labels:  [0 2] [716  96] 812\n",
      "pradėjome predict_cnn_fda_vu_v1\n"
     ]
    },
    {
     "name": "stderr",
     "output_type": "stream",
     "text": [
      " c:\\Users\\Lenovo\\miniconda3\\envs\\ecg\\lib\\site-packages\\sklearn\\base.py:310: UserWarning:Trying to unpickle estimator StandardScaler from version 1.0.1 when using version 0.24.1. This might lead to breaking code or invalid results. Use at your own risk.\n"
     ]
    },
    {
     "name": "stdout",
     "output_type": "stream",
     "text": [
      "pred_labels:  [0 1 2 3] [713   4  75  20] 812\n",
      "N:  714 S:  0 V: 78  Nprec: 1.00 Nrec: 1.00 Nfsc: 1.00  Sprec: 0.00 Srec: 0.00 Sfsc: 0.00  Vprec: 0.96 Vrec: 0.92 Vfsc: 0.94\n",
      "\n",
      "SubjCode: 10196 userNr: 1019 file_name: 1631037.304 signal_length: 127999\n",
      "test_labels:  [0 2] [813  91] 904\n",
      "pradėjome predict_cnn_fda_vu_v1\n"
     ]
    },
    {
     "name": "stderr",
     "output_type": "stream",
     "text": [
      " c:\\Users\\Lenovo\\miniconda3\\envs\\ecg\\lib\\site-packages\\sklearn\\base.py:310: UserWarning:Trying to unpickle estimator StandardScaler from version 1.0.1 when using version 0.24.1. This might lead to breaking code or invalid results. Use at your own risk.\n"
     ]
    },
    {
     "name": "stdout",
     "output_type": "stream",
     "text": [
      "pred_labels:  [0 1 2 3] [812   1  85   6] 904\n",
      "N:  811 S:  0 V: 87  Nprec: 1.00 Nrec: 1.00 Nfsc: 1.00  Sprec: 0.00 Srec: 0.00 Sfsc: 0.00  Vprec: 0.99 Vrec: 0.97 Vfsc: 0.98\n",
      "\n",
      "SubjCode: 10197 userNr: 1019 file_name: 1631014.117 signal_length: 127999\n",
      "test_labels:  [0 2] [689  90] 779\n",
      "pradėjome predict_cnn_fda_vu_v1\n"
     ]
    },
    {
     "name": "stderr",
     "output_type": "stream",
     "text": [
      " c:\\Users\\Lenovo\\miniconda3\\envs\\ecg\\lib\\site-packages\\sklearn\\base.py:310: UserWarning:Trying to unpickle estimator StandardScaler from version 1.0.1 when using version 0.24.1. This might lead to breaking code or invalid results. Use at your own risk.\n"
     ]
    },
    {
     "name": "stdout",
     "output_type": "stream",
     "text": [
      "pred_labels:  [0 1 2 3] [672   4  93  10] 779\n",
      "N:  680 S:  0 V: 89  Nprec: 1.00 Nrec: 0.99 Nfsc: 0.99  Sprec: 0.00 Srec: 0.00 Sfsc: 0.00  Vprec: 0.92 Vrec: 0.97 Vfsc: 0.95\n",
      "\n",
      "SubjCode: 10198 userNr: 1019 file_name: 1631036.678 signal_length: 127999\n",
      "test_labels:  [0 2] [865  89] 954\n",
      "pradėjome predict_cnn_fda_vu_v1\n"
     ]
    },
    {
     "name": "stderr",
     "output_type": "stream",
     "text": [
      " c:\\Users\\Lenovo\\miniconda3\\envs\\ecg\\lib\\site-packages\\sklearn\\base.py:310: UserWarning:Trying to unpickle estimator StandardScaler from version 1.0.1 when using version 0.24.1. This might lead to breaking code or invalid results. Use at your own risk.\n"
     ]
    },
    {
     "name": "stdout",
     "output_type": "stream",
     "text": [
      "pred_labels:  [0 1 2 3] [864   4  84   2] 954\n",
      "N:  863 S:  0 V: 89  Nprec: 1.00 Nrec: 1.00 Nfsc: 1.00  Sprec: 0.00 Srec: 0.00 Sfsc: 0.00  Vprec: 1.00 Vrec: 0.94 Vfsc: 0.97\n",
      "\n",
      "SubjCode: 10199 userNr: 1019 file_name: 1631029.786 signal_length: 127999\n",
      "test_labels:  [0 2] [704  88] 792\n",
      "pradėjome predict_cnn_fda_vu_v1\n"
     ]
    },
    {
     "name": "stderr",
     "output_type": "stream",
     "text": [
      " c:\\Users\\Lenovo\\miniconda3\\envs\\ecg\\lib\\site-packages\\sklearn\\base.py:310: UserWarning:Trying to unpickle estimator StandardScaler from version 1.0.1 when using version 0.24.1. This might lead to breaking code or invalid results. Use at your own risk.\n"
     ]
    },
    {
     "name": "stdout",
     "output_type": "stream",
     "text": [
      "pred_labels:  [0 1 2 3] [700   2  67  23] 792\n",
      "N:  702 S:  0 V: 67  Nprec: 1.00 Nrec: 1.00 Nfsc: 1.00  Sprec: 0.00 Srec: 0.00 Sfsc: 0.00  Vprec: 0.97 Vrec: 0.97 Vfsc: 0.97\n",
      "\n",
      "SubjCode: 10200 userNr: 1020 file_name: 1632121.089 signal_length: 127999\n",
      "test_labels:  [0 2] [658   1] 659\n",
      "pradėjome predict_cnn_fda_vu_v1\n"
     ]
    },
    {
     "name": "stderr",
     "output_type": "stream",
     "text": [
      " c:\\Users\\Lenovo\\miniconda3\\envs\\ecg\\lib\\site-packages\\sklearn\\base.py:310: UserWarning:Trying to unpickle estimator StandardScaler from version 1.0.1 when using version 0.24.1. This might lead to breaking code or invalid results. Use at your own risk.\n"
     ]
    },
    {
     "name": "stdout",
     "output_type": "stream",
     "text": [
      "pred_labels:  [0 1 2 3] [635  19   3   2] 659\n",
      "N:  656 S:  0 V:  1  Nprec: 1.00 Nrec: 0.97 Nfsc: 0.98  Sprec: 0.00 Srec: 0.00 Sfsc: 0.00  Vprec: 0.00 Vrec: 0.00 Vfsc: 0.00\n",
      "\n",
      "SubjCode: 10201 userNr: 1020 file_name: 1632123.567 signal_length: 127999\n",
      "test_labels:  [0 2] [616   1] 617\n",
      "pradėjome predict_cnn_fda_vu_v1\n"
     ]
    },
    {
     "name": "stderr",
     "output_type": "stream",
     "text": [
      " c:\\Users\\Lenovo\\miniconda3\\envs\\ecg\\lib\\site-packages\\sklearn\\base.py:310: UserWarning:Trying to unpickle estimator StandardScaler from version 1.0.1 when using version 0.24.1. This might lead to breaking code or invalid results. Use at your own risk.\n"
     ]
    },
    {
     "name": "stdout",
     "output_type": "stream",
     "text": [
      "pred_labels:  [0 1 2 3] [585  26   4   2] 617\n",
      "N:  614 S:  0 V:  1  Nprec: 1.00 Nrec: 0.95 Nfsc: 0.98  Sprec: 0.00 Srec: 0.00 Sfsc: 0.00  Vprec: 0.25 Vrec: 1.00 Vfsc: 0.40\n",
      "\n",
      "SubjCode: 10202 userNr: 1020 file_name: 1632121.708 signal_length: 127999\n",
      "test_labels:  [0] [654] 654\n",
      "pradėjome predict_cnn_fda_vu_v1\n"
     ]
    },
    {
     "name": "stderr",
     "output_type": "stream",
     "text": [
      " c:\\Users\\Lenovo\\miniconda3\\envs\\ecg\\lib\\site-packages\\sklearn\\base.py:310: UserWarning:Trying to unpickle estimator StandardScaler from version 1.0.1 when using version 0.24.1. This might lead to breaking code or invalid results. Use at your own risk.\n"
     ]
    },
    {
     "name": "stdout",
     "output_type": "stream",
     "text": [
      "pred_labels:  [0 1 3] [629  23   2] 654\n",
      "N:  652 S:  0 V:  0  Nprec: 1.00 Nrec: 0.96 Nfsc: 0.98  Sprec: 0.00 Srec: 0.00 Sfsc: 0.00  Vprec: 0.00 Vrec: 0.00 Vfsc: 0.00\n",
      "\n",
      "SubjCode: 10260 userNr: 1026 file_name: 1632731.258 signal_length: 127999\n",
      "test_labels:  [0 2] [724  21] 745\n",
      "pradėjome predict_cnn_fda_vu_v1\n"
     ]
    },
    {
     "name": "stderr",
     "output_type": "stream",
     "text": [
      " c:\\Users\\Lenovo\\miniconda3\\envs\\ecg\\lib\\site-packages\\sklearn\\base.py:310: UserWarning:Trying to unpickle estimator StandardScaler from version 1.0.1 when using version 0.24.1. This might lead to breaking code or invalid results. Use at your own risk.\n"
     ]
    },
    {
     "name": "stdout",
     "output_type": "stream",
     "text": [
      "pred_labels:  [0 2 3] [646  42  57] 745\n",
      "N:  667 S:  0 V: 21  Nprec: 1.00 Nrec: 0.97 Nfsc: 0.98  Sprec: 0.00 Srec: 0.00 Sfsc: 0.00  Vprec: 0.50 Vrec: 1.00 Vfsc: 0.67\n",
      "\n",
      "SubjCode: 10261 userNr: 1026 file_name: 1632729.377 signal_length: 127999\n",
      "test_labels:  [0 2] [893  19] 912\n",
      "pradėjome predict_cnn_fda_vu_v1\n"
     ]
    },
    {
     "name": "stderr",
     "output_type": "stream",
     "text": [
      " c:\\Users\\Lenovo\\miniconda3\\envs\\ecg\\lib\\site-packages\\sklearn\\base.py:310: UserWarning:Trying to unpickle estimator StandardScaler from version 1.0.1 when using version 0.24.1. This might lead to breaking code or invalid results. Use at your own risk.\n"
     ]
    },
    {
     "name": "stdout",
     "output_type": "stream",
     "text": [
      "pred_labels:  [0 1 2 3] [666   5 106 135] 912\n",
      "N:  759 S:  0 V: 18  Nprec: 1.00 Nrec: 0.88 Nfsc: 0.93  Sprec: 0.00 Srec: 0.00 Sfsc: 0.00  Vprec: 0.17 Vrec: 1.00 Vfsc: 0.29\n",
      "\n",
      "SubjCode: 10262 userNr: 1026 file_name: 1632730.004 signal_length: 127999\n",
      "test_labels:  [0 2] [872  17] 889\n",
      "pradėjome predict_cnn_fda_vu_v1\n"
     ]
    },
    {
     "name": "stderr",
     "output_type": "stream",
     "text": [
      " c:\\Users\\Lenovo\\miniconda3\\envs\\ecg\\lib\\site-packages\\sklearn\\base.py:310: UserWarning:Trying to unpickle estimator StandardScaler from version 1.0.1 when using version 0.24.1. This might lead to breaking code or invalid results. Use at your own risk.\n"
     ]
    },
    {
     "name": "stdout",
     "output_type": "stream",
     "text": [
      "pred_labels:  [0 1 2 3] [714   3  66 106] 889\n",
      "N:  766 S:  0 V: 17  Nprec: 1.00 Nrec: 0.93 Nfsc: 0.96  Sprec: 0.00 Srec: 0.00 Sfsc: 0.00  Vprec: 0.26 Vrec: 1.00 Vfsc: 0.41\n",
      "\n",
      "SubjCode: 10263 userNr: 1026 file_name: 1632730.631 signal_length: 127999\n",
      "test_labels:  [0 1 2] [814   1  15] 830\n",
      "pradėjome predict_cnn_fda_vu_v1\n"
     ]
    },
    {
     "name": "stderr",
     "output_type": "stream",
     "text": [
      " c:\\Users\\Lenovo\\miniconda3\\envs\\ecg\\lib\\site-packages\\sklearn\\base.py:310: UserWarning:Trying to unpickle estimator StandardScaler from version 1.0.1 when using version 0.24.1. This might lead to breaking code or invalid results. Use at your own risk.\n"
     ]
    },
    {
     "name": "stdout",
     "output_type": "stream",
     "text": [
      "pred_labels:  [0 1 2 3] [712   3  51  64] 830\n",
      "N:  750 S:  1 V: 15  Nprec: 1.00 Nrec: 0.95 Nfsc: 0.97  Sprec: 0.00 Srec: 0.00 Sfsc: 0.00  Vprec: 0.29 Vrec: 1.00 Vfsc: 0.45\n",
      "\n",
      "SubjCode: 10264 userNr: 1026 file_name: 1632728.75 signal_length: 127999\n",
      "test_labels:  [0 2] [841  10] 851\n",
      "pradėjome predict_cnn_fda_vu_v1\n"
     ]
    },
    {
     "name": "stderr",
     "output_type": "stream",
     "text": [
      " c:\\Users\\Lenovo\\miniconda3\\envs\\ecg\\lib\\site-packages\\sklearn\\base.py:310: UserWarning:Trying to unpickle estimator StandardScaler from version 1.0.1 when using version 0.24.1. This might lead to breaking code or invalid results. Use at your own risk.\n"
     ]
    },
    {
     "name": "stdout",
     "output_type": "stream",
     "text": [
      "pred_labels:  [0 1 2 3] [688   4  68  91] 851\n",
      "N:  750 S:  0 V: 10  Nprec: 1.00 Nrec: 0.92 Nfsc: 0.96  Sprec: 0.00 Srec: 0.00 Sfsc: 0.00  Vprec: 0.15 Vrec: 1.00 Vfsc: 0.26\n",
      "\n",
      "SubjCode: 10265 userNr: 1026 file_name: 1632725.61 signal_length: 127999\n",
      "test_labels:  [0 1 2] [763   2   4] 769\n",
      "pradėjome predict_cnn_fda_vu_v1\n"
     ]
    },
    {
     "name": "stderr",
     "output_type": "stream",
     "text": [
      " c:\\Users\\Lenovo\\miniconda3\\envs\\ecg\\lib\\site-packages\\sklearn\\base.py:310: UserWarning:Trying to unpickle estimator StandardScaler from version 1.0.1 when using version 0.24.1. This might lead to breaking code or invalid results. Use at your own risk.\n"
     ]
    },
    {
     "name": "stdout",
     "output_type": "stream",
     "text": [
      "pred_labels:  [0 2 3] [703  19  47] 769\n",
      "N:  716 S:  2 V:  4  Nprec: 1.00 Nrec: 0.98 Nfsc: 0.99  Sprec: 0.00 Srec: 0.00 Sfsc: 0.00  Vprec: 0.21 Vrec: 1.00 Vfsc: 0.35\n",
      "\n",
      "SubjCode: 10266 userNr: 1026 file_name: 1632726.237 signal_length: 127999\n",
      "test_labels:  [0 1 2] [743   1   5] 749\n",
      "pradėjome predict_cnn_fda_vu_v1\n"
     ]
    },
    {
     "name": "stderr",
     "output_type": "stream",
     "text": [
      " c:\\Users\\Lenovo\\miniconda3\\envs\\ecg\\lib\\site-packages\\sklearn\\base.py:310: UserWarning:Trying to unpickle estimator StandardScaler from version 1.0.1 when using version 0.24.1. This might lead to breaking code or invalid results. Use at your own risk.\n"
     ]
    },
    {
     "name": "stdout",
     "output_type": "stream",
     "text": [
      "pred_labels:  [0 2 3] [716  12  21] 749\n",
      "N:  723 S:  0 V:  5  Nprec: 1.00 Nrec: 0.99 Nfsc: 1.00  Sprec: 0.00 Srec: 0.00 Sfsc: 0.00  Vprec: 0.42 Vrec: 1.00 Vfsc: 0.59\n",
      "\n",
      "SubjCode: 10267 userNr: 1026 file_name: 1632728.123 signal_length: 127999\n",
      "test_labels:  [0 2] [739   6] 745\n",
      "pradėjome predict_cnn_fda_vu_v1\n"
     ]
    },
    {
     "name": "stderr",
     "output_type": "stream",
     "text": [
      " c:\\Users\\Lenovo\\miniconda3\\envs\\ecg\\lib\\site-packages\\sklearn\\base.py:310: UserWarning:Trying to unpickle estimator StandardScaler from version 1.0.1 when using version 0.24.1. This might lead to breaking code or invalid results. Use at your own risk.\n"
     ]
    },
    {
     "name": "stdout",
     "output_type": "stream",
     "text": [
      "pred_labels:  [0 2 3] [725  12   8] 745\n",
      "N:  731 S:  0 V:  6  Nprec: 1.00 Nrec: 0.99 Nfsc: 1.00  Sprec: 0.00 Srec: 0.00 Sfsc: 0.00  Vprec: 0.50 Vrec: 1.00 Vfsc: 0.67\n",
      "\n",
      "SubjCode: 10268 userNr: 1026 file_name: 1632724.979 signal_length: 127999\n",
      "test_labels:  [0 2] [793   5] 798\n",
      "pradėjome predict_cnn_fda_vu_v1\n"
     ]
    },
    {
     "name": "stderr",
     "output_type": "stream",
     "text": [
      " c:\\Users\\Lenovo\\miniconda3\\envs\\ecg\\lib\\site-packages\\sklearn\\base.py:310: UserWarning:Trying to unpickle estimator StandardScaler from version 1.0.1 when using version 0.24.1. This might lead to breaking code or invalid results. Use at your own risk.\n"
     ]
    },
    {
     "name": "stdout",
     "output_type": "stream",
     "text": [
      "pred_labels:  [0 1 2 3] [759   2  12  25] 798\n",
      "N:  768 S:  0 V:  5  Nprec: 1.00 Nrec: 0.99 Nfsc: 0.99  Sprec: 0.00 Srec: 0.00 Sfsc: 0.00  Vprec: 0.42 Vrec: 1.00 Vfsc: 0.59\n",
      "\n",
      "SubjCode: 10269 userNr: 1026 file_name: 1632727.496 signal_length: 127999\n",
      "test_labels:  [0 1 2] [757   1   3] 761\n",
      "pradėjome predict_cnn_fda_vu_v1\n"
     ]
    },
    {
     "name": "stderr",
     "output_type": "stream",
     "text": [
      " c:\\Users\\Lenovo\\miniconda3\\envs\\ecg\\lib\\site-packages\\sklearn\\base.py:310: UserWarning:Trying to unpickle estimator StandardScaler from version 1.0.1 when using version 0.24.1. This might lead to breaking code or invalid results. Use at your own risk.\n"
     ]
    },
    {
     "name": "stdout",
     "output_type": "stream",
     "text": [
      "pred_labels:  [0 2 3] [735  10  16] 761\n",
      "N:  741 S:  1 V:  3  Nprec: 1.00 Nrec: 0.99 Nfsc: 1.00  Sprec: 0.00 Srec: 0.00 Sfsc: 0.00  Vprec: 0.30 Vrec: 1.00 Vfsc: 0.46\n",
      "\n",
      "SubjCode: 10300 userNr: 1030 file_name: 1633439.208 signal_length: 127999\n",
      "test_labels:  [0 1] [964 101] 1065\n",
      "pradėjome predict_cnn_fda_vu_v1\n"
     ]
    },
    {
     "name": "stderr",
     "output_type": "stream",
     "text": [
      " c:\\Users\\Lenovo\\miniconda3\\envs\\ecg\\lib\\site-packages\\sklearn\\base.py:310: UserWarning:Trying to unpickle estimator StandardScaler from version 1.0.1 when using version 0.24.1. This might lead to breaking code or invalid results. Use at your own risk.\n"
     ]
    },
    {
     "name": "stdout",
     "output_type": "stream",
     "text": [
      "pred_labels:  [0 1 2 3] [951  46  66   2] 1065\n",
      "N:  962 S:101 V:  0  Nprec: 0.99 Nrec: 0.98 Nfsc: 0.99  Sprec: 0.70 Srec: 0.32 Sfsc: 0.44  Vprec: 0.00 Vrec: 0.00 Vfsc: 0.00\n",
      "\n",
      "SubjCode: 10301 userNr: 1030 file_name: 1633436.702 signal_length: 127999\n",
      "test_labels:  [0 1] [1004   97] 1101\n",
      "pradėjome predict_cnn_fda_vu_v1\n"
     ]
    },
    {
     "name": "stderr",
     "output_type": "stream",
     "text": [
      " c:\\Users\\Lenovo\\miniconda3\\envs\\ecg\\lib\\site-packages\\sklearn\\base.py:310: UserWarning:Trying to unpickle estimator StandardScaler from version 1.0.1 when using version 0.24.1. This might lead to breaking code or invalid results. Use at your own risk.\n"
     ]
    },
    {
     "name": "stdout",
     "output_type": "stream",
     "text": [
      "pred_labels:  [0 1 2 3] [909  67 120   5] 1101\n",
      "N:  999 S: 97 V:  0  Nprec: 1.00 Nrec: 0.91 Nfsc: 0.95  Sprec: 0.22 Srec: 0.15 Sfsc: 0.18  Vprec: 0.00 Vrec: 0.00 Vfsc: 0.00\n",
      "\n",
      "SubjCode: 10302 userNr: 1030 file_name: 1633441.087 signal_length: 127999\n",
      "test_labels:  [0 1] [993  88] 1081\n",
      "pradėjome predict_cnn_fda_vu_v1\n"
     ]
    },
    {
     "name": "stderr",
     "output_type": "stream",
     "text": [
      " c:\\Users\\Lenovo\\miniconda3\\envs\\ecg\\lib\\site-packages\\sklearn\\base.py:310: UserWarning:Trying to unpickle estimator StandardScaler from version 1.0.1 when using version 0.24.1. This might lead to breaking code or invalid results. Use at your own risk.\n"
     ]
    },
    {
     "name": "stdout",
     "output_type": "stream",
     "text": [
      "pred_labels:  [0 1 2 3] [916  92  67   6] 1081\n",
      "N:  987 S: 88 V:  0  Nprec: 1.00 Nrec: 0.93 Nfsc: 0.96  Sprec: 0.41 Srec: 0.43 Sfsc: 0.42  Vprec: 0.00 Vrec: 0.00 Vfsc: 0.00\n",
      "\n",
      "SubjCode: 10303 userNr: 1030 file_name: 1633437.957 signal_length: 127999\n",
      "test_labels:  [0 1] [961  85] 1046\n",
      "pradėjome predict_cnn_fda_vu_v1\n"
     ]
    },
    {
     "name": "stderr",
     "output_type": "stream",
     "text": [
      " c:\\Users\\Lenovo\\miniconda3\\envs\\ecg\\lib\\site-packages\\sklearn\\base.py:310: UserWarning:Trying to unpickle estimator StandardScaler from version 1.0.1 when using version 0.24.1. This might lead to breaking code or invalid results. Use at your own risk.\n"
     ]
    },
    {
     "name": "stdout",
     "output_type": "stream",
     "text": [
      "pred_labels:  [0 1 2 3] [940  41  63   2] 1046\n",
      "N:  959 S: 85 V:  0  Nprec: 0.99 Nrec: 0.97 Nfsc: 0.98  Sprec: 0.59 Srec: 0.28 Sfsc: 0.38  Vprec: 0.00 Vrec: 0.00 Vfsc: 0.00\n",
      "\n",
      "SubjCode: 10304 userNr: 1030 file_name: 1633428.56 signal_length: 127999\n",
      "test_labels:  [0 1] [1035   85] 1120\n",
      "pradėjome predict_cnn_fda_vu_v1\n"
     ]
    },
    {
     "name": "stderr",
     "output_type": "stream",
     "text": [
      " c:\\Users\\Lenovo\\miniconda3\\envs\\ecg\\lib\\site-packages\\sklearn\\base.py:310: UserWarning:Trying to unpickle estimator StandardScaler from version 1.0.1 when using version 0.24.1. This might lead to breaking code or invalid results. Use at your own risk.\n"
     ]
    },
    {
     "name": "stdout",
     "output_type": "stream",
     "text": [
      "pred_labels:  [0 1 2 3] [947  86  59  28] 1120\n",
      "N: 1008 S: 84 V:  0  Nprec: 0.99 Nrec: 0.93 Nfsc: 0.96  Sprec: 0.42 Srec: 0.43 Sfsc: 0.42  Vprec: 0.00 Vrec: 0.00 Vfsc: 0.00\n",
      "\n",
      "SubjCode: 10305 userNr: 1030 file_name: 1633442.966 signal_length: 127999\n",
      "test_labels:  [0 1] [901  83] 984\n",
      "pradėjome predict_cnn_fda_vu_v1\n"
     ]
    },
    {
     "name": "stderr",
     "output_type": "stream",
     "text": [
      " c:\\Users\\Lenovo\\miniconda3\\envs\\ecg\\lib\\site-packages\\sklearn\\base.py:310: UserWarning:Trying to unpickle estimator StandardScaler from version 1.0.1 when using version 0.24.1. This might lead to breaking code or invalid results. Use at your own risk.\n"
     ]
    },
    {
     "name": "stdout",
     "output_type": "stream",
     "text": [
      "pred_labels:  [0 1 2 3] [877  42  63   2] 984\n",
      "N:  899 S: 83 V:  0  Nprec: 1.00 Nrec: 0.97 Nfsc: 0.99  Sprec: 0.62 Srec: 0.31 Sfsc: 0.42  Vprec: 0.00 Vrec: 0.00 Vfsc: 0.00\n",
      "\n",
      "SubjCode: 10306 userNr: 1030 file_name: 1633429.186 signal_length: 127999\n",
      "test_labels:  [0 1] [1115   83] 1198\n",
      "pradėjome predict_cnn_fda_vu_v1\n"
     ]
    },
    {
     "name": "stderr",
     "output_type": "stream",
     "text": [
      " c:\\Users\\Lenovo\\miniconda3\\envs\\ecg\\lib\\site-packages\\sklearn\\base.py:310: UserWarning:Trying to unpickle estimator StandardScaler from version 1.0.1 when using version 0.24.1. This might lead to breaking code or invalid results. Use at your own risk.\n"
     ]
    },
    {
     "name": "stdout",
     "output_type": "stream",
     "text": [
      "pred_labels:  [0 1 2 3] [832 178 165  23] 1198\n",
      "N: 1092 S: 83 V:  0  Nprec: 0.99 Nrec: 0.76 Nfsc: 0.86  Sprec: 0.03 Srec: 0.06 Sfsc: 0.04  Vprec: 0.00 Vrec: 0.00 Vfsc: 0.00\n",
      "\n",
      "SubjCode: 10307 userNr: 1030 file_name: 1633444.847 signal_length: 127999\n",
      "test_labels:  [0 1 2] [943  70   3] 1016\n",
      "pradėjome predict_cnn_fda_vu_v1\n"
     ]
    },
    {
     "name": "stderr",
     "output_type": "stream",
     "text": [
      " c:\\Users\\Lenovo\\miniconda3\\envs\\ecg\\lib\\site-packages\\sklearn\\base.py:310: UserWarning:Trying to unpickle estimator StandardScaler from version 1.0.1 when using version 0.24.1. This might lead to breaking code or invalid results. Use at your own risk.\n"
     ]
    },
    {
     "name": "stdout",
     "output_type": "stream",
     "text": [
      "pred_labels:  [0 1 2 3] [894  32  87   3] 1016\n",
      "N:  940 S: 70 V:  3  Nprec: 1.00 Nrec: 0.95 Nfsc: 0.97  Sprec: 0.19 Srec: 0.09 Sfsc: 0.12  Vprec: 0.02 Vrec: 0.67 Vfsc: 0.04\n",
      "\n",
      "SubjCode: 10308 userNr: 1030 file_name: 1633442.341 signal_length: 127999\n",
      "test_labels:  [0 1 2] [1015   71    1] 1087\n",
      "pradėjome predict_cnn_fda_vu_v1\n"
     ]
    },
    {
     "name": "stderr",
     "output_type": "stream",
     "text": [
      " c:\\Users\\Lenovo\\miniconda3\\envs\\ecg\\lib\\site-packages\\sklearn\\base.py:310: UserWarning:Trying to unpickle estimator StandardScaler from version 1.0.1 when using version 0.24.1. This might lead to breaking code or invalid results. Use at your own risk.\n"
     ]
    },
    {
     "name": "stdout",
     "output_type": "stream",
     "text": [
      "pred_labels:  [0 1 2 3] [932  68  77  10] 1087\n",
      "N: 1006 S: 70 V:  1  Nprec: 1.00 Nrec: 0.92 Nfsc: 0.96  Sprec: 0.18 Srec: 0.17 Sfsc: 0.17  Vprec: 0.01 Vrec: 1.00 Vfsc: 0.03\n",
      "\n",
      "SubjCode: 10309 userNr: 1030 file_name: 1633441.716 signal_length: 127999\n",
      "test_labels:  [0 1 2] [956  70   1] 1027\n",
      "pradėjome predict_cnn_fda_vu_v1\n"
     ]
    },
    {
     "name": "stderr",
     "output_type": "stream",
     "text": [
      " c:\\Users\\Lenovo\\miniconda3\\envs\\ecg\\lib\\site-packages\\sklearn\\base.py:310: UserWarning:Trying to unpickle estimator StandardScaler from version 1.0.1 when using version 0.24.1. This might lead to breaking code or invalid results. Use at your own risk.\n"
     ]
    },
    {
     "name": "stdout",
     "output_type": "stream",
     "text": [
      "pred_labels:  [0 1 2 3] [932  57  34   4] 1027\n",
      "N:  952 S: 70 V:  1  Nprec: 0.99 Nrec: 0.97 Nfsc: 0.98  Sprec: 0.67 Srec: 0.54 Sfsc: 0.60  Vprec: 0.03 Vrec: 1.00 Vfsc: 0.06\n",
      "\n",
      "SubjCode: 10320 userNr: 1032 file_name: 1633540.147 signal_length: 127999\n",
      "test_labels:  [0] [649] 649\n",
      "pradėjome predict_cnn_fda_vu_v1\n"
     ]
    },
    {
     "name": "stderr",
     "output_type": "stream",
     "text": [
      " c:\\Users\\Lenovo\\miniconda3\\envs\\ecg\\lib\\site-packages\\sklearn\\base.py:310: UserWarning:Trying to unpickle estimator StandardScaler from version 1.0.1 when using version 0.24.1. This might lead to breaking code or invalid results. Use at your own risk.\n"
     ]
    },
    {
     "name": "stdout",
     "output_type": "stream",
     "text": [
      "pred_labels:  [0 1 2 3] [637   8   2   2] 649\n",
      "N:  647 S:  0 V:  0  Nprec: 1.00 Nrec: 0.98 Nfsc: 0.99  Sprec: 0.00 Srec: 0.00 Sfsc: 0.00  Vprec: 0.00 Vrec: 0.00 Vfsc: 0.00\n",
      "\n",
      "SubjCode: 10420 userNr: 1042 file_name: 1634730.312 signal_length: 127999\n",
      "test_labels:  [0 2] [820  12] 832\n",
      "pradėjome predict_cnn_fda_vu_v1\n"
     ]
    },
    {
     "name": "stderr",
     "output_type": "stream",
     "text": [
      " c:\\Users\\Lenovo\\miniconda3\\envs\\ecg\\lib\\site-packages\\sklearn\\base.py:310: UserWarning:Trying to unpickle estimator StandardScaler from version 1.0.1 when using version 0.24.1. This might lead to breaking code or invalid results. Use at your own risk.\n"
     ]
    },
    {
     "name": "stdout",
     "output_type": "stream",
     "text": [
      "pred_labels:  [0 1 2 3] [816   2  11   3] 832\n",
      "N:  817 S:  0 V: 12  Nprec: 1.00 Nrec: 1.00 Nfsc: 1.00  Sprec: 0.00 Srec: 0.00 Sfsc: 0.00  Vprec: 1.00 Vrec: 0.92 Vfsc: 0.96\n",
      "\n",
      "SubjCode: 10421 userNr: 1042 file_name: 1634733.451 signal_length: 127999\n",
      "test_labels:  [0 2] [809  12] 821\n",
      "pradėjome predict_cnn_fda_vu_v1\n"
     ]
    },
    {
     "name": "stderr",
     "output_type": "stream",
     "text": [
      " c:\\Users\\Lenovo\\miniconda3\\envs\\ecg\\lib\\site-packages\\sklearn\\base.py:310: UserWarning:Trying to unpickle estimator StandardScaler from version 1.0.1 when using version 0.24.1. This might lead to breaking code or invalid results. Use at your own risk.\n"
     ]
    },
    {
     "name": "stdout",
     "output_type": "stream",
     "text": [
      "pred_labels:  [0 1 2 3] [808   1   9   3] 821\n",
      "N:  807 S:  0 V: 11  Nprec: 1.00 Nrec: 1.00 Nfsc: 1.00  Sprec: 0.00 Srec: 0.00 Sfsc: 0.00  Vprec: 1.00 Vrec: 0.82 Vfsc: 0.90\n",
      "\n",
      "SubjCode: 10422 userNr: 1042 file_name: 1634729.058 signal_length: 127999\n",
      "test_labels:  [0 2] [819  11] 830\n",
      "pradėjome predict_cnn_fda_vu_v1\n"
     ]
    },
    {
     "name": "stderr",
     "output_type": "stream",
     "text": [
      " c:\\Users\\Lenovo\\miniconda3\\envs\\ecg\\lib\\site-packages\\sklearn\\base.py:310: UserWarning:Trying to unpickle estimator StandardScaler from version 1.0.1 when using version 0.24.1. This might lead to breaking code or invalid results. Use at your own risk.\n"
     ]
    },
    {
     "name": "stdout",
     "output_type": "stream",
     "text": [
      "pred_labels:  [0 1 2 3] [810   4  11   5] 830\n",
      "N:  814 S:  0 V: 11  Nprec: 1.00 Nrec: 0.99 Nfsc: 1.00  Sprec: 0.00 Srec: 0.00 Sfsc: 0.00  Vprec: 0.82 Vrec: 0.82 Vfsc: 0.82\n",
      "\n",
      "SubjCode: 10423 userNr: 1042 file_name: 1634728.431 signal_length: 127999\n",
      "test_labels:  [0 1 2] [829   1   7] 837\n",
      "pradėjome predict_cnn_fda_vu_v1\n"
     ]
    },
    {
     "name": "stderr",
     "output_type": "stream",
     "text": [
      " c:\\Users\\Lenovo\\miniconda3\\envs\\ecg\\lib\\site-packages\\sklearn\\base.py:310: UserWarning:Trying to unpickle estimator StandardScaler from version 1.0.1 when using version 0.24.1. This might lead to breaking code or invalid results. Use at your own risk.\n"
     ]
    },
    {
     "name": "stdout",
     "output_type": "stream",
     "text": [
      "pred_labels:  [0 1 2 3] [815   5  13   4] 837\n",
      "N:  825 S:  1 V:  7  Nprec: 1.00 Nrec: 0.99 Nfsc: 0.99  Sprec: 0.20 Srec: 1.00 Sfsc: 0.33  Vprec: 0.54 Vrec: 1.00 Vfsc: 0.70\n",
      "\n",
      "SubjCode: 10424 userNr: 1042 file_name: 1634736.586 signal_length: 127999\n",
      "test_labels:  [0 1 2] [735   1   4] 740\n",
      "pradėjome predict_cnn_fda_vu_v1\n"
     ]
    },
    {
     "name": "stderr",
     "output_type": "stream",
     "text": [
      " c:\\Users\\Lenovo\\miniconda3\\envs\\ecg\\lib\\site-packages\\sklearn\\base.py:310: UserWarning:Trying to unpickle estimator StandardScaler from version 1.0.1 when using version 0.24.1. This might lead to breaking code or invalid results. Use at your own risk.\n"
     ]
    },
    {
     "name": "stdout",
     "output_type": "stream",
     "text": [
      "pred_labels:  [0 1 2 3] [729   2   5   4] 740\n",
      "N:  732 S:  0 V:  4  Nprec: 1.00 Nrec: 0.99 Nfsc: 1.00  Sprec: 0.00 Srec: 0.00 Sfsc: 0.00  Vprec: 0.60 Vrec: 0.75 Vfsc: 0.67\n",
      "\n",
      "SubjCode: 10425 userNr: 1042 file_name: 1634724.665 signal_length: 127999\n",
      "test_labels:  [0 2] [826   5] 831\n",
      "pradėjome predict_cnn_fda_vu_v1\n"
     ]
    },
    {
     "name": "stderr",
     "output_type": "stream",
     "text": [
      " c:\\Users\\Lenovo\\miniconda3\\envs\\ecg\\lib\\site-packages\\sklearn\\base.py:310: UserWarning:Trying to unpickle estimator StandardScaler from version 1.0.1 when using version 0.24.1. This might lead to breaking code or invalid results. Use at your own risk.\n"
     ]
    },
    {
     "name": "stdout",
     "output_type": "stream",
     "text": [
      "pred_labels:  [0 2 3] [821   6   4] 831\n",
      "N:  822 S:  0 V:  5  Nprec: 1.00 Nrec: 1.00 Nfsc: 1.00  Sprec: 0.00 Srec: 0.00 Sfsc: 0.00  Vprec: 0.83 Vrec: 1.00 Vfsc: 0.91\n",
      "\n",
      "SubjCode: 10426 userNr: 1042 file_name: 1634729.685 signal_length: 127999\n",
      "test_labels:  [0 2] [823   5] 828\n",
      "pradėjome predict_cnn_fda_vu_v1\n"
     ]
    },
    {
     "name": "stderr",
     "output_type": "stream",
     "text": [
      " c:\\Users\\Lenovo\\miniconda3\\envs\\ecg\\lib\\site-packages\\sklearn\\base.py:310: UserWarning:Trying to unpickle estimator StandardScaler from version 1.0.1 when using version 0.24.1. This might lead to breaking code or invalid results. Use at your own risk.\n"
     ]
    },
    {
     "name": "stdout",
     "output_type": "stream",
     "text": [
      "pred_labels:  [0 1 2 3] [818   2   2   6] 828\n",
      "N:  818 S:  0 V:  4  Nprec: 1.00 Nrec: 1.00 Nfsc: 1.00  Sprec: 0.00 Srec: 0.00 Sfsc: 0.00  Vprec: 1.00 Vrec: 0.50 Vfsc: 0.67\n",
      "\n",
      "SubjCode: 10427 userNr: 1042 file_name: 1634732.824 signal_length: 127999\n",
      "test_labels:  [0 2] [773   4] 777\n",
      "pradėjome predict_cnn_fda_vu_v1\n"
     ]
    },
    {
     "name": "stderr",
     "output_type": "stream",
     "text": [
      " c:\\Users\\Lenovo\\miniconda3\\envs\\ecg\\lib\\site-packages\\sklearn\\base.py:310: UserWarning:Trying to unpickle estimator StandardScaler from version 1.0.1 when using version 0.24.1. This might lead to breaking code or invalid results. Use at your own risk.\n"
     ]
    },
    {
     "name": "stdout",
     "output_type": "stream",
     "text": [
      "pred_labels:  [0 1 2 3] [770   1   3   3] 777\n",
      "N:  771 S:  0 V:  3  Nprec: 1.00 Nrec: 1.00 Nfsc: 1.00  Sprec: 0.00 Srec: 0.00 Sfsc: 0.00  Vprec: 1.00 Vrec: 1.00 Vfsc: 1.00\n",
      "\n",
      "SubjCode: 10428 userNr: 1042 file_name: 1634731.57 signal_length: 127999\n",
      "test_labels:  [0 2] [800   4] 804\n",
      "pradėjome predict_cnn_fda_vu_v1\n"
     ]
    },
    {
     "name": "stderr",
     "output_type": "stream",
     "text": [
      " c:\\Users\\Lenovo\\miniconda3\\envs\\ecg\\lib\\site-packages\\sklearn\\base.py:310: UserWarning:Trying to unpickle estimator StandardScaler from version 1.0.1 when using version 0.24.1. This might lead to breaking code or invalid results. Use at your own risk.\n"
     ]
    },
    {
     "name": "stdout",
     "output_type": "stream",
     "text": [
      "pred_labels:  [0 1 2 3] [797   1   3   3] 804\n",
      "N:  797 S:  0 V:  4  Nprec: 1.00 Nrec: 1.00 Nfsc: 1.00  Sprec: 0.00 Srec: 0.00 Sfsc: 0.00  Vprec: 1.00 Vrec: 0.75 Vfsc: 0.86\n",
      "\n",
      "SubjCode: 10429 userNr: 1042 file_name: 1634742.234 signal_length: 127999\n",
      "test_labels:  [0 2] [715   3] 718\n",
      "pradėjome predict_cnn_fda_vu_v1\n"
     ]
    },
    {
     "name": "stderr",
     "output_type": "stream",
     "text": [
      " c:\\Users\\Lenovo\\miniconda3\\envs\\ecg\\lib\\site-packages\\sklearn\\base.py:310: UserWarning:Trying to unpickle estimator StandardScaler from version 1.0.1 when using version 0.24.1. This might lead to breaking code or invalid results. Use at your own risk.\n"
     ]
    },
    {
     "name": "stdout",
     "output_type": "stream",
     "text": [
      "pred_labels:  [0 1 2 3] [711   1   3   3] 718\n",
      "N:  713 S:  0 V:  2  Nprec: 1.00 Nrec: 1.00 Nfsc: 1.00  Sprec: 0.00 Srec: 0.00 Sfsc: 0.00  Vprec: 0.67 Vrec: 1.00 Vfsc: 0.80\n",
      "\n",
      "SubjCode: 10450 userNr: 1045 file_name: 1635191.425 signal_length: 127999\n",
      "test_labels:  [0] [815] 815\n",
      "pradėjome predict_cnn_fda_vu_v1\n"
     ]
    },
    {
     "name": "stderr",
     "output_type": "stream",
     "text": [
      " c:\\Users\\Lenovo\\miniconda3\\envs\\ecg\\lib\\site-packages\\sklearn\\base.py:310: UserWarning:Trying to unpickle estimator StandardScaler from version 1.0.1 when using version 0.24.1. This might lead to breaking code or invalid results. Use at your own risk.\n"
     ]
    },
    {
     "name": "stdout",
     "output_type": "stream",
     "text": [
      "pred_labels:  [0 1 2 3] [807   2   1   5] 815\n",
      "N:  810 S:  0 V:  0  Nprec: 1.00 Nrec: 1.00 Nfsc: 1.00  Sprec: 0.00 Srec: 0.00 Sfsc: 0.00  Vprec: 0.00 Vrec: 0.00 Vfsc: 0.00\n",
      "\n",
      "SubjCode: 10470 userNr: 1047 file_name: 1635144.614 signal_length: 127999\n",
      "test_labels:  [0] [612] 612\n",
      "pradėjome predict_cnn_fda_vu_v1\n"
     ]
    },
    {
     "name": "stderr",
     "output_type": "stream",
     "text": [
      " c:\\Users\\Lenovo\\miniconda3\\envs\\ecg\\lib\\site-packages\\sklearn\\base.py:310: UserWarning:Trying to unpickle estimator StandardScaler from version 1.0.1 when using version 0.24.1. This might lead to breaking code or invalid results. Use at your own risk.\n"
     ]
    },
    {
     "name": "stdout",
     "output_type": "stream",
     "text": [
      "pred_labels:  [0 1 2 3] [595   5   7   5] 612\n",
      "N:  607 S:  0 V:  0  Nprec: 1.00 Nrec: 0.98 Nfsc: 0.99  Sprec: 0.00 Srec: 0.00 Sfsc: 0.00  Vprec: 0.00 Vrec: 0.00 Vfsc: 0.00\n",
      "\n",
      "SubjCode: 10520 userNr: 1052 file_name: 1636486.195 signal_length: 127999\n",
      "test_labels:  [0 1] [564   2] 566\n",
      "pradėjome predict_cnn_fda_vu_v1\n"
     ]
    },
    {
     "name": "stderr",
     "output_type": "stream",
     "text": [
      " c:\\Users\\Lenovo\\miniconda3\\envs\\ecg\\lib\\site-packages\\sklearn\\base.py:310: UserWarning:Trying to unpickle estimator StandardScaler from version 1.0.1 when using version 0.24.1. This might lead to breaking code or invalid results. Use at your own risk.\n"
     ]
    },
    {
     "name": "stdout",
     "output_type": "stream",
     "text": [
      "pred_labels:  [0 1 3] [562   2   2] 566\n",
      "N:  562 S:  2 V:  0  Nprec: 1.00 Nrec: 1.00 Nfsc: 1.00  Sprec: 1.00 Srec: 1.00 Sfsc: 1.00  Vprec: 0.00 Vrec: 0.00 Vfsc: 0.00\n",
      "\n",
      "SubjCode: 10521 userNr: 1052 file_name: 1636488.668 signal_length: 127999\n",
      "test_labels:  [0 1] [574   2] 576\n",
      "pradėjome predict_cnn_fda_vu_v1\n"
     ]
    },
    {
     "name": "stderr",
     "output_type": "stream",
     "text": [
      " c:\\Users\\Lenovo\\miniconda3\\envs\\ecg\\lib\\site-packages\\sklearn\\base.py:310: UserWarning:Trying to unpickle estimator StandardScaler from version 1.0.1 when using version 0.24.1. This might lead to breaking code or invalid results. Use at your own risk.\n"
     ]
    },
    {
     "name": "stdout",
     "output_type": "stream",
     "text": [
      "pred_labels:  [0 1 2 3] [572   1   1   2] 576\n",
      "N:  572 S:  2 V:  0  Nprec: 1.00 Nrec: 1.00 Nfsc: 1.00  Sprec: 1.00 Srec: 0.50 Sfsc: 0.67  Vprec: 0.00 Vrec: 0.00 Vfsc: 0.00\n",
      "\n",
      "SubjCode: 10522 userNr: 1052 file_name: 1636481.252 signal_length: 127999\n",
      "test_labels:  [0 1] [654   2] 656\n",
      "pradėjome predict_cnn_fda_vu_v1\n"
     ]
    },
    {
     "name": "stderr",
     "output_type": "stream",
     "text": [
      " c:\\Users\\Lenovo\\miniconda3\\envs\\ecg\\lib\\site-packages\\sklearn\\base.py:310: UserWarning:Trying to unpickle estimator StandardScaler from version 1.0.1 when using version 0.24.1. This might lead to breaking code or invalid results. Use at your own risk.\n"
     ]
    },
    {
     "name": "stdout",
     "output_type": "stream",
     "text": [
      "pred_labels:  [0 1 2 3] [600  53   1   2] 656\n",
      "N:  652 S:  2 V:  0  Nprec: 1.00 Nrec: 0.92 Nfsc: 0.96  Sprec: 0.04 Srec: 1.00 Sfsc: 0.07  Vprec: 0.00 Vrec: 0.00 Vfsc: 0.00\n",
      "\n",
      "SubjCode: 10523 userNr: 1052 file_name: 1636489.286 signal_length: 127999\n",
      "test_labels:  [0 1] [690   2] 692\n",
      "pradėjome predict_cnn_fda_vu_v1\n"
     ]
    },
    {
     "name": "stderr",
     "output_type": "stream",
     "text": [
      " c:\\Users\\Lenovo\\miniconda3\\envs\\ecg\\lib\\site-packages\\sklearn\\base.py:310: UserWarning:Trying to unpickle estimator StandardScaler from version 1.0.1 when using version 0.24.1. This might lead to breaking code or invalid results. Use at your own risk.\n"
     ]
    },
    {
     "name": "stdout",
     "output_type": "stream",
     "text": [
      "pred_labels:  [0 1 2 3] [672  17   1   2] 692\n",
      "N:  688 S:  2 V:  0  Nprec: 1.00 Nrec: 0.98 Nfsc: 0.99  Sprec: 0.06 Srec: 0.50 Sfsc: 0.11  Vprec: 0.00 Vrec: 0.00 Vfsc: 0.00\n",
      "\n",
      "SubjCode: 10524 userNr: 1052 file_name: 1636487.434 signal_length: 127999\n",
      "test_labels:  [0 1] [582   2] 584\n",
      "pradėjome predict_cnn_fda_vu_v1\n"
     ]
    },
    {
     "name": "stderr",
     "output_type": "stream",
     "text": [
      " c:\\Users\\Lenovo\\miniconda3\\envs\\ecg\\lib\\site-packages\\sklearn\\base.py:310: UserWarning:Trying to unpickle estimator StandardScaler from version 1.0.1 when using version 0.24.1. This might lead to breaking code or invalid results. Use at your own risk.\n"
     ]
    },
    {
     "name": "stdout",
     "output_type": "stream",
     "text": [
      "pred_labels:  [0 1 3] [579   3   2] 584\n",
      "N:  580 S:  2 V:  0  Nprec: 1.00 Nrec: 0.99 Nfsc: 1.00  Sprec: 0.00 Srec: 0.00 Sfsc: 0.00  Vprec: 0.00 Vrec: 0.00 Vfsc: 0.00\n",
      "\n",
      "SubjCode: 10525 userNr: 1052 file_name: 1636480.01 signal_length: 127999\n",
      "test_labels:  [0 1] [629   1] 630\n",
      "pradėjome predict_cnn_fda_vu_v1\n"
     ]
    },
    {
     "name": "stderr",
     "output_type": "stream",
     "text": [
      " c:\\Users\\Lenovo\\miniconda3\\envs\\ecg\\lib\\site-packages\\sklearn\\base.py:310: UserWarning:Trying to unpickle estimator StandardScaler from version 1.0.1 when using version 0.24.1. This might lead to breaking code or invalid results. Use at your own risk.\n"
     ]
    },
    {
     "name": "stdout",
     "output_type": "stream",
     "text": [
      "pred_labels:  [0 1 2 3] [618   5   3   4] 630\n",
      "N:  625 S:  1 V:  0  Nprec: 1.00 Nrec: 0.99 Nfsc: 0.99  Sprec: 0.00 Srec: 0.00 Sfsc: 0.00  Vprec: 0.00 Vrec: 0.00 Vfsc: 0.00\n",
      "\n",
      "SubjCode: 10526 userNr: 1052 file_name: 1636491.143 signal_length: 127999\n",
      "test_labels:  [0 1] [535   1] 536\n",
      "pradėjome predict_cnn_fda_vu_v1\n"
     ]
    },
    {
     "name": "stderr",
     "output_type": "stream",
     "text": [
      " c:\\Users\\Lenovo\\miniconda3\\envs\\ecg\\lib\\site-packages\\sklearn\\base.py:310: UserWarning:Trying to unpickle estimator StandardScaler from version 1.0.1 when using version 0.24.1. This might lead to breaking code or invalid results. Use at your own risk.\n"
     ]
    },
    {
     "name": "stdout",
     "output_type": "stream",
     "text": [
      "pred_labels:  [0 2 3] [532   2   2] 536\n",
      "N:  533 S:  1 V:  0  Nprec: 1.00 Nrec: 1.00 Nfsc: 1.00  Sprec: 0.00 Srec: 0.00 Sfsc: 0.00  Vprec: 0.00 Vrec: 0.00 Vfsc: 0.00\n",
      "\n",
      "SubjCode: 10527 userNr: 1052 file_name: 1636490.526 signal_length: 127999\n",
      "test_labels:  [0 1] [543   1] 544\n",
      "pradėjome predict_cnn_fda_vu_v1\n"
     ]
    },
    {
     "name": "stderr",
     "output_type": "stream",
     "text": [
      " c:\\Users\\Lenovo\\miniconda3\\envs\\ecg\\lib\\site-packages\\sklearn\\base.py:310: UserWarning:Trying to unpickle estimator StandardScaler from version 1.0.1 when using version 0.24.1. This might lead to breaking code or invalid results. Use at your own risk.\n"
     ]
    },
    {
     "name": "stdout",
     "output_type": "stream",
     "text": [
      "pred_labels:  [0 1 2 3] [534   1   4   5] 544\n",
      "N:  538 S:  1 V:  0  Nprec: 1.00 Nrec: 0.99 Nfsc: 1.00  Sprec: 1.00 Srec: 1.00 Sfsc: 1.00  Vprec: 0.00 Vrec: 0.00 Vfsc: 0.00\n",
      "\n",
      "SubjCode: 10528 userNr: 1052 file_name: 1636485.578 signal_length: 127999\n",
      "test_labels:  [0 1] [579   1] 580\n",
      "pradėjome predict_cnn_fda_vu_v1\n"
     ]
    },
    {
     "name": "stderr",
     "output_type": "stream",
     "text": [
      " c:\\Users\\Lenovo\\miniconda3\\envs\\ecg\\lib\\site-packages\\sklearn\\base.py:310: UserWarning:Trying to unpickle estimator StandardScaler from version 1.0.1 when using version 0.24.1. This might lead to breaking code or invalid results. Use at your own risk.\n"
     ]
    },
    {
     "name": "stdout",
     "output_type": "stream",
     "text": [
      "pred_labels:  [0 1 3] [577   1   2] 580\n",
      "N:  577 S:  1 V:  0  Nprec: 1.00 Nrec: 1.00 Nfsc: 1.00  Sprec: 1.00 Srec: 1.00 Sfsc: 1.00  Vprec: 0.00 Vrec: 0.00 Vfsc: 0.00\n",
      "\n",
      "SubjCode: 10529 userNr: 1052 file_name: 1636478.772 signal_length: 127999\n",
      "test_labels:  [0 1] [646   1] 647\n",
      "pradėjome predict_cnn_fda_vu_v1\n"
     ]
    },
    {
     "name": "stderr",
     "output_type": "stream",
     "text": [
      " c:\\Users\\Lenovo\\miniconda3\\envs\\ecg\\lib\\site-packages\\sklearn\\base.py:310: UserWarning:Trying to unpickle estimator StandardScaler from version 1.0.1 when using version 0.24.1. This might lead to breaking code or invalid results. Use at your own risk.\n"
     ]
    },
    {
     "name": "stdout",
     "output_type": "stream",
     "text": [
      "pred_labels:  [0 1 3] [628  17   2] 647\n",
      "N:  644 S:  1 V:  0  Nprec: 1.00 Nrec: 0.97 Nfsc: 0.99  Sprec: 0.00 Srec: 0.00 Sfsc: 0.00  Vprec: 0.00 Vrec: 0.00 Vfsc: 0.00\n",
      "\n",
      "SubjCode: 10540 userNr: 1054 file_name: 1636406.984 signal_length: 127999\n",
      "test_labels:  [0 1 2] [597   2   1] 600\n",
      "pradėjome predict_cnn_fda_vu_v1\n"
     ]
    },
    {
     "name": "stderr",
     "output_type": "stream",
     "text": [
      " c:\\Users\\Lenovo\\miniconda3\\envs\\ecg\\lib\\site-packages\\sklearn\\base.py:310: UserWarning:Trying to unpickle estimator StandardScaler from version 1.0.1 when using version 0.24.1. This might lead to breaking code or invalid results. Use at your own risk.\n"
     ]
    },
    {
     "name": "stdout",
     "output_type": "stream",
     "text": [
      "pred_labels:  [0 1 2 3] [594   1   2   3] 600\n",
      "N:  595 S:  2 V:  0  Nprec: 1.00 Nrec: 1.00 Nfsc: 1.00  Sprec: 1.00 Srec: 0.50 Sfsc: 0.67  Vprec: 0.00 Vrec: 0.00 Vfsc: 0.00\n",
      "\n",
      "SubjCode: 10541 userNr: 1054 file_name: 1636414.518 signal_length: 127999\n",
      "test_labels:  [0 1] [643   3] 646\n",
      "pradėjome predict_cnn_fda_vu_v1\n"
     ]
    },
    {
     "name": "stderr",
     "output_type": "stream",
     "text": [
      " c:\\Users\\Lenovo\\miniconda3\\envs\\ecg\\lib\\site-packages\\sklearn\\base.py:310: UserWarning:Trying to unpickle estimator StandardScaler from version 1.0.1 when using version 0.24.1. This might lead to breaking code or invalid results. Use at your own risk.\n"
     ]
    },
    {
     "name": "stdout",
     "output_type": "stream",
     "text": [
      "pred_labels:  [0 1 2 3] [640   1   3   2] 646\n",
      "N:  641 S:  3 V:  0  Nprec: 1.00 Nrec: 1.00 Nfsc: 1.00  Sprec: 1.00 Srec: 0.33 Sfsc: 0.50  Vprec: 0.00 Vrec: 0.00 Vfsc: 0.00\n",
      "\n",
      "SubjCode: 10542 userNr: 1054 file_name: 1636419.539 signal_length: 127999\n",
      "test_labels:  [0 1 2] [560   2   1] 563\n",
      "pradėjome predict_cnn_fda_vu_v1\n"
     ]
    },
    {
     "name": "stderr",
     "output_type": "stream",
     "text": [
      " c:\\Users\\Lenovo\\miniconda3\\envs\\ecg\\lib\\site-packages\\sklearn\\base.py:310: UserWarning:Trying to unpickle estimator StandardScaler from version 1.0.1 when using version 0.24.1. This might lead to breaking code or invalid results. Use at your own risk.\n"
     ]
    },
    {
     "name": "stdout",
     "output_type": "stream",
     "text": [
      "pred_labels:  [0 1 2 3] [551   2   7   3] 563\n",
      "N:  557 S:  2 V:  1  Nprec: 1.00 Nrec: 0.99 Nfsc: 0.99  Sprec: 0.50 Srec: 0.50 Sfsc: 0.50  Vprec: 0.00 Vrec: 0.00 Vfsc: 0.00\n",
      "\n",
      "SubjCode: 10543 userNr: 1054 file_name: 1636418.907 signal_length: 127999\n",
      "test_labels:  [0 1] [545   2] 547\n",
      "pradėjome predict_cnn_fda_vu_v1\n"
     ]
    },
    {
     "name": "stderr",
     "output_type": "stream",
     "text": [
      " c:\\Users\\Lenovo\\miniconda3\\envs\\ecg\\lib\\site-packages\\sklearn\\base.py:310: UserWarning:Trying to unpickle estimator StandardScaler from version 1.0.1 when using version 0.24.1. This might lead to breaking code or invalid results. Use at your own risk.\n"
     ]
    },
    {
     "name": "stdout",
     "output_type": "stream",
     "text": [
      "pred_labels:  [0 1 2 3] [541   2   2   2] 547\n",
      "N:  543 S:  2 V:  0  Nprec: 1.00 Nrec: 1.00 Nfsc: 1.00  Sprec: 1.00 Srec: 1.00 Sfsc: 1.00  Vprec: 0.00 Vrec: 0.00 Vfsc: 0.00\n",
      "\n",
      "SubjCode: 10544 userNr: 1054 file_name: 1636423.305 signal_length: 127999\n",
      "test_labels:  [0 1] [631   2] 633\n",
      "pradėjome predict_cnn_fda_vu_v1\n"
     ]
    },
    {
     "name": "stderr",
     "output_type": "stream",
     "text": [
      " c:\\Users\\Lenovo\\miniconda3\\envs\\ecg\\lib\\site-packages\\sklearn\\base.py:310: UserWarning:Trying to unpickle estimator StandardScaler from version 1.0.1 when using version 0.24.1. This might lead to breaking code or invalid results. Use at your own risk.\n"
     ]
    },
    {
     "name": "stdout",
     "output_type": "stream",
     "text": [
      "pred_labels:  [0 2 3] [627   4   2] 633\n",
      "N:  629 S:  2 V:  0  Nprec: 1.00 Nrec: 1.00 Nfsc: 1.00  Sprec: 0.00 Srec: 0.00 Sfsc: 0.00  Vprec: 0.00 Vrec: 0.00 Vfsc: 0.00\n",
      "\n",
      "SubjCode: 10545 userNr: 1054 file_name: 1636409.501 signal_length: 127999\n",
      "test_labels:  [0 1] [571   1] 572\n",
      "pradėjome predict_cnn_fda_vu_v1\n"
     ]
    },
    {
     "name": "stderr",
     "output_type": "stream",
     "text": [
      " c:\\Users\\Lenovo\\miniconda3\\envs\\ecg\\lib\\site-packages\\sklearn\\base.py:310: UserWarning:Trying to unpickle estimator StandardScaler from version 1.0.1 when using version 0.24.1. This might lead to breaking code or invalid results. Use at your own risk.\n"
     ]
    },
    {
     "name": "stdout",
     "output_type": "stream",
     "text": [
      "pred_labels:  [0 1 3] [569   1   2] 572\n",
      "N:  569 S:  1 V:  0  Nprec: 1.00 Nrec: 1.00 Nfsc: 1.00  Sprec: 1.00 Srec: 1.00 Sfsc: 1.00  Vprec: 0.00 Vrec: 0.00 Vfsc: 0.00\n",
      "\n",
      "SubjCode: 10546 userNr: 1054 file_name: 1636422.678 signal_length: 127999\n",
      "test_labels:  [0 1] [583   1] 584\n",
      "pradėjome predict_cnn_fda_vu_v1\n"
     ]
    },
    {
     "name": "stderr",
     "output_type": "stream",
     "text": [
      " c:\\Users\\Lenovo\\miniconda3\\envs\\ecg\\lib\\site-packages\\sklearn\\base.py:310: UserWarning:Trying to unpickle estimator StandardScaler from version 1.0.1 when using version 0.24.1. This might lead to breaking code or invalid results. Use at your own risk.\n"
     ]
    },
    {
     "name": "stdout",
     "output_type": "stream",
     "text": [
      "pred_labels:  [0 1 2 3] [580   1   1   2] 584\n",
      "N:  581 S:  1 V:  0  Nprec: 1.00 Nrec: 1.00 Nfsc: 1.00  Sprec: 0.00 Srec: 0.00 Sfsc: 0.00  Vprec: 0.00 Vrec: 0.00 Vfsc: 0.00\n",
      "\n",
      "SubjCode: 10547 userNr: 1054 file_name: 1636422.051 signal_length: 127999\n",
      "test_labels:  [0 1] [583   1] 584\n",
      "pradėjome predict_cnn_fda_vu_v1\n"
     ]
    },
    {
     "name": "stderr",
     "output_type": "stream",
     "text": [
      " c:\\Users\\Lenovo\\miniconda3\\envs\\ecg\\lib\\site-packages\\sklearn\\base.py:310: UserWarning:Trying to unpickle estimator StandardScaler from version 1.0.1 when using version 0.24.1. This might lead to breaking code or invalid results. Use at your own risk.\n"
     ]
    },
    {
     "name": "stdout",
     "output_type": "stream",
     "text": [
      "pred_labels:  [0 1 3] [581   1   2] 584\n",
      "N:  581 S:  1 V:  0  Nprec: 1.00 Nrec: 1.00 Nfsc: 1.00  Sprec: 1.00 Srec: 1.00 Sfsc: 1.00  Vprec: 0.00 Vrec: 0.00 Vfsc: 0.00\n",
      "\n",
      "SubjCode: 10548 userNr: 1054 file_name: 1636411.382 signal_length: 127999\n",
      "test_labels:  [0 1] [595   1] 596\n",
      "pradėjome predict_cnn_fda_vu_v1\n"
     ]
    },
    {
     "name": "stderr",
     "output_type": "stream",
     "text": [
      " c:\\Users\\Lenovo\\miniconda3\\envs\\ecg\\lib\\site-packages\\sklearn\\base.py:310: UserWarning:Trying to unpickle estimator StandardScaler from version 1.0.1 when using version 0.24.1. This might lead to breaking code or invalid results. Use at your own risk.\n"
     ]
    },
    {
     "name": "stdout",
     "output_type": "stream",
     "text": [
      "pred_labels:  [0 1 3] [593   1   2] 596\n",
      "N:  593 S:  1 V:  0  Nprec: 1.00 Nrec: 1.00 Nfsc: 1.00  Sprec: 1.00 Srec: 1.00 Sfsc: 1.00  Vprec: 0.00 Vrec: 0.00 Vfsc: 0.00\n",
      "\n",
      "SubjCode: 10549 userNr: 1054 file_name: 1636418.28 signal_length: 127999\n",
      "test_labels:  [0 1] [543   1] 544\n",
      "pradėjome predict_cnn_fda_vu_v1\n"
     ]
    },
    {
     "name": "stderr",
     "output_type": "stream",
     "text": [
      " c:\\Users\\Lenovo\\miniconda3\\envs\\ecg\\lib\\site-packages\\sklearn\\base.py:310: UserWarning:Trying to unpickle estimator StandardScaler from version 1.0.1 when using version 0.24.1. This might lead to breaking code or invalid results. Use at your own risk.\n"
     ]
    },
    {
     "name": "stdout",
     "output_type": "stream",
     "text": [
      "pred_labels:  [0 1 3] [541   1   2] 544\n",
      "N:  541 S:  1 V:  0  Nprec: 1.00 Nrec: 1.00 Nfsc: 1.00  Sprec: 1.00 Srec: 1.00 Sfsc: 1.00  Vprec: 0.00 Vrec: 0.00 Vfsc: 0.00\n",
      "\n",
      "SubjCode: 10600 userNr: 1060 file_name: 1637025.544 signal_length: 127999\n",
      "test_labels:  [0 1] [712   2] 714\n",
      "pradėjome predict_cnn_fda_vu_v1\n"
     ]
    },
    {
     "name": "stderr",
     "output_type": "stream",
     "text": [
      " c:\\Users\\Lenovo\\miniconda3\\envs\\ecg\\lib\\site-packages\\sklearn\\base.py:310: UserWarning:Trying to unpickle estimator StandardScaler from version 1.0.1 when using version 0.24.1. This might lead to breaking code or invalid results. Use at your own risk.\n"
     ]
    },
    {
     "name": "stdout",
     "output_type": "stream",
     "text": [
      "pred_labels:  [0 1 2 3] [554 156   2   2] 714\n",
      "N:  710 S:  2 V:  0  Nprec: 1.00 Nrec: 0.78 Nfsc: 0.88  Sprec: 0.00 Srec: 0.00 Sfsc: 0.00  Vprec: 0.00 Vrec: 0.00 Vfsc: 0.00\n",
      "\n",
      "SubjCode: 10601 userNr: 1060 file_name: 1637023.072 signal_length: 127999\n",
      "test_labels:  [0 1] [705   2] 707\n",
      "pradėjome predict_cnn_fda_vu_v1\n"
     ]
    },
    {
     "name": "stderr",
     "output_type": "stream",
     "text": [
      " c:\\Users\\Lenovo\\miniconda3\\envs\\ecg\\lib\\site-packages\\sklearn\\base.py:310: UserWarning:Trying to unpickle estimator StandardScaler from version 1.0.1 when using version 0.24.1. This might lead to breaking code or invalid results. Use at your own risk.\n"
     ]
    },
    {
     "name": "stdout",
     "output_type": "stream",
     "text": [
      "pred_labels:  [0 1 2 3] [553 150   2   2] 707\n",
      "N:  703 S:  2 V:  0  Nprec: 1.00 Nrec: 0.79 Nfsc: 0.88  Sprec: 0.00 Srec: 0.00 Sfsc: 0.00  Vprec: 0.00 Vrec: 0.00 Vfsc: 0.00\n",
      "\n",
      "SubjCode: 10602 userNr: 1060 file_name: 1637022.455 signal_length: 127999\n",
      "test_labels:  [0] [714] 714\n",
      "pradėjome predict_cnn_fda_vu_v1\n"
     ]
    },
    {
     "name": "stderr",
     "output_type": "stream",
     "text": [
      " c:\\Users\\Lenovo\\miniconda3\\envs\\ecg\\lib\\site-packages\\sklearn\\base.py:310: UserWarning:Trying to unpickle estimator StandardScaler from version 1.0.1 when using version 0.24.1. This might lead to breaking code or invalid results. Use at your own risk.\n"
     ]
    },
    {
     "name": "stdout",
     "output_type": "stream",
     "text": [
      "pred_labels:  [0 1 3] [631  80   3] 714\n",
      "N:  711 S:  0 V:  0  Nprec: 1.00 Nrec: 0.89 Nfsc: 0.94  Sprec: 0.00 Srec: 0.00 Sfsc: 0.00  Vprec: 0.00 Vrec: 0.00 Vfsc: 0.00\n",
      "\n",
      "SubjCode: 10710 userNr: 1071 file_name: 1638800.54 signal_length: 127999\n",
      "test_labels:  [0 2] [701  26] 727\n",
      "pradėjome predict_cnn_fda_vu_v1\n"
     ]
    },
    {
     "name": "stderr",
     "output_type": "stream",
     "text": [
      " c:\\Users\\Lenovo\\miniconda3\\envs\\ecg\\lib\\site-packages\\sklearn\\base.py:310: UserWarning:Trying to unpickle estimator StandardScaler from version 1.0.1 when using version 0.24.1. This might lead to breaking code or invalid results. Use at your own risk.\n"
     ]
    },
    {
     "name": "stdout",
     "output_type": "stream",
     "text": [
      "pred_labels:  [0 1 2 3] [698  13   9   7] 727\n",
      "N:  698 S:  0 V: 22  Nprec: 1.00 Nrec: 1.00 Nfsc: 1.00  Sprec: 0.00 Srec: 0.00 Sfsc: 0.00  Vprec: 1.00 Vrec: 0.41 Vfsc: 0.58\n",
      "\n",
      "SubjCode: 10711 userNr: 1071 file_name: 1638796.812 signal_length: 127999\n",
      "test_labels:  [0 2] [697  24] 721\n",
      "pradėjome predict_cnn_fda_vu_v1\n"
     ]
    },
    {
     "name": "stderr",
     "output_type": "stream",
     "text": [
      " c:\\Users\\Lenovo\\miniconda3\\envs\\ecg\\lib\\site-packages\\sklearn\\base.py:310: UserWarning:Trying to unpickle estimator StandardScaler from version 1.0.1 when using version 0.24.1. This might lead to breaking code or invalid results. Use at your own risk.\n"
     ]
    },
    {
     "name": "stdout",
     "output_type": "stream",
     "text": [
      "pred_labels:  [0 1 2 3] [678  13  15  15] 721\n",
      "N:  685 S:  0 V: 21  Nprec: 1.00 Nrec: 0.99 Nfsc: 0.99  Sprec: 0.00 Srec: 0.00 Sfsc: 0.00  Vprec: 0.73 Vrec: 0.52 Vfsc: 0.61\n",
      "\n",
      "SubjCode: 10712 userNr: 1071 file_name: 1638803.644 signal_length: 127999\n",
      "test_labels:  [0 2] [702  23] 725\n",
      "pradėjome predict_cnn_fda_vu_v1\n"
     ]
    },
    {
     "name": "stderr",
     "output_type": "stream",
     "text": [
      " c:\\Users\\Lenovo\\miniconda3\\envs\\ecg\\lib\\site-packages\\sklearn\\base.py:310: UserWarning:Trying to unpickle estimator StandardScaler from version 1.0.1 when using version 0.24.1. This might lead to breaking code or invalid results. Use at your own risk.\n"
     ]
    },
    {
     "name": "stdout",
     "output_type": "stream",
     "text": [
      "pred_labels:  [0 1 2 3] [682  15  14  14] 725\n",
      "N:  690 S:  0 V: 21  Nprec: 1.00 Nrec: 0.99 Nfsc: 0.99  Sprec: 0.00 Srec: 0.00 Sfsc: 0.00  Vprec: 0.71 Vrec: 0.48 Vfsc: 0.57\n",
      "\n",
      "SubjCode: 10713 userNr: 1071 file_name: 1638793.707 signal_length: 127999\n",
      "test_labels:  [0 2] [664  20] 684\n",
      "pradėjome predict_cnn_fda_vu_v1\n"
     ]
    },
    {
     "name": "stderr",
     "output_type": "stream",
     "text": [
      " c:\\Users\\Lenovo\\miniconda3\\envs\\ecg\\lib\\site-packages\\sklearn\\base.py:310: UserWarning:Trying to unpickle estimator StandardScaler from version 1.0.1 when using version 0.24.1. This might lead to breaking code or invalid results. Use at your own risk.\n"
     ]
    },
    {
     "name": "stdout",
     "output_type": "stream",
     "text": [
      "pred_labels:  [0 1 2 3] [661  10   9   4] 684\n",
      "N:  661 S:  0 V: 19  Nprec: 1.00 Nrec: 1.00 Nfsc: 1.00  Sprec: 0.00 Srec: 0.00 Sfsc: 0.00  Vprec: 1.00 Vrec: 0.47 Vfsc: 0.64\n",
      "\n",
      "SubjCode: 10714 userNr: 1071 file_name: 1638799.92 signal_length: 127999\n",
      "test_labels:  [0 2] [767  20] 787\n",
      "pradėjome predict_cnn_fda_vu_v1\n"
     ]
    },
    {
     "name": "stderr",
     "output_type": "stream",
     "text": [
      " c:\\Users\\Lenovo\\miniconda3\\envs\\ecg\\lib\\site-packages\\sklearn\\base.py:310: UserWarning:Trying to unpickle estimator StandardScaler from version 1.0.1 when using version 0.24.1. This might lead to breaking code or invalid results. Use at your own risk.\n"
     ]
    },
    {
     "name": "stdout",
     "output_type": "stream",
     "text": [
      "pred_labels:  [0 1 2 3] [745  22  11   9] 787\n",
      "N:  760 S:  0 V: 18  Nprec: 1.00 Nrec: 0.98 Nfsc: 0.99  Sprec: 0.00 Srec: 0.00 Sfsc: 0.00  Vprec: 0.55 Vrec: 0.33 Vfsc: 0.41\n",
      "\n",
      "SubjCode: 10715 userNr: 1071 file_name: 1638804.264 signal_length: 127999\n",
      "test_labels:  [0 2] [684  18] 702\n",
      "pradėjome predict_cnn_fda_vu_v1\n"
     ]
    },
    {
     "name": "stderr",
     "output_type": "stream",
     "text": [
      " c:\\Users\\Lenovo\\miniconda3\\envs\\ecg\\lib\\site-packages\\sklearn\\base.py:310: UserWarning:Trying to unpickle estimator StandardScaler from version 1.0.1 when using version 0.24.1. This might lead to breaking code or invalid results. Use at your own risk.\n"
     ]
    },
    {
     "name": "stdout",
     "output_type": "stream",
     "text": [
      "pred_labels:  [0 1 2 3] [660   9  14  19] 702\n",
      "N:  667 S:  0 V: 16  Nprec: 1.00 Nrec: 0.99 Nfsc: 0.99  Sprec: 0.00 Srec: 0.00 Sfsc: 0.00  Vprec: 0.57 Vrec: 0.50 Vfsc: 0.53\n",
      "\n",
      "SubjCode: 10716 userNr: 1071 file_name: 1638801.16 signal_length: 127999\n",
      "test_labels:  [0 2] [730  18] 748\n",
      "pradėjome predict_cnn_fda_vu_v1\n"
     ]
    },
    {
     "name": "stderr",
     "output_type": "stream",
     "text": [
      " c:\\Users\\Lenovo\\miniconda3\\envs\\ecg\\lib\\site-packages\\sklearn\\base.py:310: UserWarning:Trying to unpickle estimator StandardScaler from version 1.0.1 when using version 0.24.1. This might lead to breaking code or invalid results. Use at your own risk.\n"
     ]
    },
    {
     "name": "stdout",
     "output_type": "stream",
     "text": [
      "pred_labels:  [0 1 2 3] [706   9  16  17] 748\n",
      "N:  715 S:  0 V: 16  Nprec: 1.00 Nrec: 0.99 Nfsc: 0.99  Sprec: 0.00 Srec: 0.00 Sfsc: 0.00  Vprec: 0.56 Vrec: 0.56 Vfsc: 0.56\n",
      "\n",
      "SubjCode: 10717 userNr: 1071 file_name: 1638798.056 signal_length: 127999\n",
      "test_labels:  [0 2] [728  17] 745\n",
      "pradėjome predict_cnn_fda_vu_v1\n"
     ]
    },
    {
     "name": "stderr",
     "output_type": "stream",
     "text": [
      " c:\\Users\\Lenovo\\miniconda3\\envs\\ecg\\lib\\site-packages\\sklearn\\base.py:310: UserWarning:Trying to unpickle estimator StandardScaler from version 1.0.1 when using version 0.24.1. This might lead to breaking code or invalid results. Use at your own risk.\n"
     ]
    },
    {
     "name": "stdout",
     "output_type": "stream",
     "text": [
      "pred_labels:  [0 1 2 3] [710  15   9  11] 745\n",
      "N:  718 S:  0 V: 16  Nprec: 1.00 Nrec: 0.99 Nfsc: 0.99  Sprec: 0.00 Srec: 0.00 Sfsc: 0.00  Vprec: 0.78 Vrec: 0.44 Vfsc: 0.56\n",
      "\n",
      "SubjCode: 10718 userNr: 1071 file_name: 1638796.192 signal_length: 127999\n",
      "test_labels:  [0 2] [749  17] 766\n",
      "pradėjome predict_cnn_fda_vu_v1\n"
     ]
    },
    {
     "name": "stderr",
     "output_type": "stream",
     "text": [
      " c:\\Users\\Lenovo\\miniconda3\\envs\\ecg\\lib\\site-packages\\sklearn\\base.py:310: UserWarning:Trying to unpickle estimator StandardScaler from version 1.0.1 when using version 0.24.1. This might lead to breaking code or invalid results. Use at your own risk.\n"
     ]
    },
    {
     "name": "stdout",
     "output_type": "stream",
     "text": [
      "pred_labels:  [0 1 2 3] [661  24  40  41] 766\n",
      "N:  709 S:  0 V: 16  Nprec: 1.00 Nrec: 0.93 Nfsc: 0.96  Sprec: 0.00 Srec: 0.00 Sfsc: 0.00  Vprec: 0.15 Vrec: 0.38 Vfsc: 0.21\n",
      "\n",
      "SubjCode: 10719 userNr: 1071 file_name: 1638798.676 signal_length: 127999\n",
      "test_labels:  [0 2] [692  17] 709\n",
      "pradėjome predict_cnn_fda_vu_v1\n"
     ]
    },
    {
     "name": "stderr",
     "output_type": "stream",
     "text": [
      " c:\\Users\\Lenovo\\miniconda3\\envs\\ecg\\lib\\site-packages\\sklearn\\base.py:310: UserWarning:Trying to unpickle estimator StandardScaler from version 1.0.1 when using version 0.24.1. This might lead to breaking code or invalid results. Use at your own risk.\n"
     ]
    },
    {
     "name": "stdout",
     "output_type": "stream",
     "text": [
      "pred_labels:  [0 1 2 3] [679   6  13  11] 709\n",
      "N:  682 S:  0 V: 16  Nprec: 1.00 Nrec: 1.00 Nfsc: 1.00  Sprec: 0.00 Srec: 0.00 Sfsc: 0.00  Vprec: 0.92 Vrec: 0.75 Vfsc: 0.83\n",
      "\n",
      "SubjCode: 10720 userNr: 1072 file_name: 1638909.955 signal_length: 127999\n",
      "test_labels:  [0 1 2] [465   2 153] 620\n",
      "pradėjome predict_cnn_fda_vu_v1\n"
     ]
    },
    {
     "name": "stderr",
     "output_type": "stream",
     "text": [
      " c:\\Users\\Lenovo\\miniconda3\\envs\\ecg\\lib\\site-packages\\sklearn\\base.py:310: UserWarning:Trying to unpickle estimator StandardScaler from version 1.0.1 when using version 0.24.1. This might lead to breaking code or invalid results. Use at your own risk.\n"
     ]
    },
    {
     "name": "stdout",
     "output_type": "stream",
     "text": [
      "pred_labels:  [0 2 3] [465 153   2] 620\n",
      "N:  463 S:  2 V:153  Nprec: 1.00 Nrec: 1.00 Nfsc: 1.00  Sprec: 0.00 Srec: 0.00 Sfsc: 0.00  Vprec: 1.00 Vrec: 1.00 Vfsc: 1.00\n",
      "\n",
      "SubjCode: 10721 userNr: 1072 file_name: 1638917.396 signal_length: 127999\n",
      "test_labels:  [0 1 2] [480   1 138] 619\n",
      "pradėjome predict_cnn_fda_vu_v1\n"
     ]
    },
    {
     "name": "stderr",
     "output_type": "stream",
     "text": [
      " c:\\Users\\Lenovo\\miniconda3\\envs\\ecg\\lib\\site-packages\\sklearn\\base.py:310: UserWarning:Trying to unpickle estimator StandardScaler from version 1.0.1 when using version 0.24.1. This might lead to breaking code or invalid results. Use at your own risk.\n"
     ]
    },
    {
     "name": "stdout",
     "output_type": "stream",
     "text": [
      "pred_labels:  [0 2 3] [480 136   3] 619\n",
      "N:  478 S:  1 V:137  Nprec: 1.00 Nrec: 1.00 Nfsc: 1.00  Sprec: 0.00 Srec: 0.00 Sfsc: 0.00  Vprec: 1.00 Vrec: 0.99 Vfsc: 1.00\n",
      "\n",
      "SubjCode: 10722 userNr: 1072 file_name: 1638913.675 signal_length: 127999\n",
      "test_labels:  [0 1 2] [502   1 130] 633\n",
      "pradėjome predict_cnn_fda_vu_v1\n"
     ]
    },
    {
     "name": "stderr",
     "output_type": "stream",
     "text": [
      " c:\\Users\\Lenovo\\miniconda3\\envs\\ecg\\lib\\site-packages\\sklearn\\base.py:310: UserWarning:Trying to unpickle estimator StandardScaler from version 1.0.1 when using version 0.24.1. This might lead to breaking code or invalid results. Use at your own risk.\n"
     ]
    },
    {
     "name": "stdout",
     "output_type": "stream",
     "text": [
      "pred_labels:  [0 2 3] [502 129   2] 633\n",
      "N:  501 S:  1 V:129  Nprec: 1.00 Nrec: 1.00 Nfsc: 1.00  Sprec: 0.00 Srec: 0.00 Sfsc: 0.00  Vprec: 1.00 Vrec: 1.00 Vfsc: 1.00\n",
      "\n",
      "SubjCode: 10723 userNr: 1072 file_name: 1638909.332 signal_length: 127999\n",
      "test_labels:  [0 1 2] [483   2 126] 611\n",
      "pradėjome predict_cnn_fda_vu_v1\n"
     ]
    },
    {
     "name": "stderr",
     "output_type": "stream",
     "text": [
      " c:\\Users\\Lenovo\\miniconda3\\envs\\ecg\\lib\\site-packages\\sklearn\\base.py:310: UserWarning:Trying to unpickle estimator StandardScaler from version 1.0.1 when using version 0.24.1. This might lead to breaking code or invalid results. Use at your own risk.\n"
     ]
    },
    {
     "name": "stdout",
     "output_type": "stream",
     "text": [
      "pred_labels:  [0 1 2 3] [482   1 126   2] 611\n",
      "N:  481 S:  2 V:126  Nprec: 1.00 Nrec: 1.00 Nfsc: 1.00  Sprec: 1.00 Srec: 0.50 Sfsc: 0.67  Vprec: 1.00 Vrec: 1.00 Vfsc: 1.00\n",
      "\n",
      "SubjCode: 10724 userNr: 1072 file_name: 1638912.435 signal_length: 127999\n",
      "test_labels:  [0 2] [483 127] 610\n",
      "pradėjome predict_cnn_fda_vu_v1\n"
     ]
    },
    {
     "name": "stderr",
     "output_type": "stream",
     "text": [
      " c:\\Users\\Lenovo\\miniconda3\\envs\\ecg\\lib\\site-packages\\sklearn\\base.py:310: UserWarning:Trying to unpickle estimator StandardScaler from version 1.0.1 when using version 0.24.1. This might lead to breaking code or invalid results. Use at your own risk.\n"
     ]
    },
    {
     "name": "stdout",
     "output_type": "stream",
     "text": [
      "pred_labels:  [0 2 3] [479 129   2] 610\n",
      "N:  481 S:  0 V:127  Nprec: 1.00 Nrec: 1.00 Nfsc: 1.00  Sprec: 0.00 Srec: 0.00 Sfsc: 0.00  Vprec: 0.98 Vrec: 1.00 Vfsc: 0.99\n",
      "\n",
      "SubjCode: 10725 userNr: 1072 file_name: 1638911.815 signal_length: 127999\n",
      "test_labels:  [0 1 2] [487   2 121] 610\n",
      "pradėjome predict_cnn_fda_vu_v1\n"
     ]
    },
    {
     "name": "stderr",
     "output_type": "stream",
     "text": [
      " c:\\Users\\Lenovo\\miniconda3\\envs\\ecg\\lib\\site-packages\\sklearn\\base.py:310: UserWarning:Trying to unpickle estimator StandardScaler from version 1.0.1 when using version 0.24.1. This might lead to breaking code or invalid results. Use at your own risk.\n"
     ]
    },
    {
     "name": "stdout",
     "output_type": "stream",
     "text": [
      "pred_labels:  [0 1 2 3] [487   1 120   2] 610\n",
      "N:  485 S:  2 V:121  Nprec: 1.00 Nrec: 1.00 Nfsc: 1.00  Sprec: 0.00 Srec: 0.00 Sfsc: 0.00  Vprec: 0.99 Vrec: 0.98 Vfsc: 0.99\n",
      "\n",
      "SubjCode: 10726 userNr: 1072 file_name: 1638916.776 signal_length: 127999\n",
      "test_labels:  [0 2] [494 122] 616\n",
      "pradėjome predict_cnn_fda_vu_v1\n"
     ]
    },
    {
     "name": "stderr",
     "output_type": "stream",
     "text": [
      " c:\\Users\\Lenovo\\miniconda3\\envs\\ecg\\lib\\site-packages\\sklearn\\base.py:310: UserWarning:Trying to unpickle estimator StandardScaler from version 1.0.1 when using version 0.24.1. This might lead to breaking code or invalid results. Use at your own risk.\n"
     ]
    },
    {
     "name": "stdout",
     "output_type": "stream",
     "text": [
      "pred_labels:  [0 2 3] [492 122   2] 616\n",
      "N:  492 S:  0 V:122  Nprec: 1.00 Nrec: 1.00 Nfsc: 1.00  Sprec: 0.00 Srec: 0.00 Sfsc: 0.00  Vprec: 1.00 Vrec: 1.00 Vfsc: 1.00\n",
      "\n",
      "SubjCode: 10727 userNr: 1072 file_name: 1638918.64 signal_length: 127999\n",
      "test_labels:  [0 2] [499 116] 615\n",
      "pradėjome predict_cnn_fda_vu_v1\n"
     ]
    },
    {
     "name": "stderr",
     "output_type": "stream",
     "text": [
      " c:\\Users\\Lenovo\\miniconda3\\envs\\ecg\\lib\\site-packages\\sklearn\\base.py:310: UserWarning:Trying to unpickle estimator StandardScaler from version 1.0.1 when using version 0.24.1. This might lead to breaking code or invalid results. Use at your own risk.\n"
     ]
    },
    {
     "name": "stdout",
     "output_type": "stream",
     "text": [
      "pred_labels:  [0 2 3] [496 117   2] 615\n",
      "N:  497 S:  0 V:116  Nprec: 1.00 Nrec: 1.00 Nfsc: 1.00  Sprec: 0.00 Srec: 0.00 Sfsc: 0.00  Vprec: 0.99 Vrec: 1.00 Vfsc: 1.00\n",
      "\n",
      "SubjCode: 10728 userNr: 1072 file_name: 1638916.156 signal_length: 127999\n",
      "test_labels:  [0 2] [537 114] 651\n",
      "pradėjome predict_cnn_fda_vu_v1\n"
     ]
    },
    {
     "name": "stderr",
     "output_type": "stream",
     "text": [
      " c:\\Users\\Lenovo\\miniconda3\\envs\\ecg\\lib\\site-packages\\sklearn\\base.py:310: UserWarning:Trying to unpickle estimator StandardScaler from version 1.0.1 when using version 0.24.1. This might lead to breaking code or invalid results. Use at your own risk.\n"
     ]
    },
    {
     "name": "stdout",
     "output_type": "stream",
     "text": [
      "pred_labels:  [0 2 3] [536 113   2] 651\n",
      "N:  536 S:  0 V:113  Nprec: 1.00 Nrec: 1.00 Nfsc: 1.00  Sprec: 0.00 Srec: 0.00 Sfsc: 0.00  Vprec: 1.00 Vrec: 1.00 Vfsc: 1.00\n",
      "\n",
      "SubjCode: 10729 userNr: 1072 file_name: 1638910.575 signal_length: 127999\n",
      "test_labels:  [0 1 2] [525   2 111] 638\n",
      "pradėjome predict_cnn_fda_vu_v1\n"
     ]
    },
    {
     "name": "stderr",
     "output_type": "stream",
     "text": [
      " c:\\Users\\Lenovo\\miniconda3\\envs\\ecg\\lib\\site-packages\\sklearn\\base.py:310: UserWarning:Trying to unpickle estimator StandardScaler from version 1.0.1 when using version 0.24.1. This might lead to breaking code or invalid results. Use at your own risk.\n"
     ]
    },
    {
     "name": "stdout",
     "output_type": "stream",
     "text": [
      "pred_labels:  [0 1 2 3] [525   1 109   3] 638\n",
      "N:  523 S:  2 V:110  Nprec: 1.00 Nrec: 1.00 Nfsc: 1.00  Sprec: 1.00 Srec: 0.50 Sfsc: 0.67  Vprec: 1.00 Vrec: 0.99 Vfsc: 1.00\n",
      "\n",
      "SubjCode: 10770 userNr: 1077 file_name: 1640633.548 signal_length: 127999\n",
      "test_labels:  [0 1] [512  87] 599\n",
      "pradėjome predict_cnn_fda_vu_v1\n"
     ]
    },
    {
     "name": "stderr",
     "output_type": "stream",
     "text": [
      " c:\\Users\\Lenovo\\miniconda3\\envs\\ecg\\lib\\site-packages\\sklearn\\base.py:310: UserWarning:Trying to unpickle estimator StandardScaler from version 1.0.1 when using version 0.24.1. This might lead to breaking code or invalid results. Use at your own risk.\n"
     ]
    },
    {
     "name": "stdout",
     "output_type": "stream",
     "text": [
      "pred_labels:  [0 1 2 3] [581   8   4   6] 599\n",
      "N:  510 S: 83 V:  0  Nprec: 0.88 Nrec: 1.00 Nfsc: 0.93  Sprec: 1.00 Srec: 0.10 Sfsc: 0.18  Vprec: 0.00 Vrec: 0.00 Vfsc: 0.00\n",
      "\n",
      "SubjCode: 10771 userNr: 1077 file_name: 1640637.299 signal_length: 127999\n",
      "test_labels:  [0 1] [503  84] 587\n",
      "pradėjome predict_cnn_fda_vu_v1\n"
     ]
    },
    {
     "name": "stderr",
     "output_type": "stream",
     "text": [
      " c:\\Users\\Lenovo\\miniconda3\\envs\\ecg\\lib\\site-packages\\sklearn\\base.py:310: UserWarning:Trying to unpickle estimator StandardScaler from version 1.0.1 when using version 0.24.1. This might lead to breaking code or invalid results. Use at your own risk.\n"
     ]
    },
    {
     "name": "stdout",
     "output_type": "stream",
     "text": [
      "pred_labels:  [0 1 3] [576   9   2] 587\n",
      "N:  501 S: 84 V:  0  Nprec: 0.87 Nrec: 1.00 Nfsc: 0.93  Sprec: 1.00 Srec: 0.11 Sfsc: 0.19  Vprec: 0.00 Vrec: 0.00 Vfsc: 0.00\n",
      "\n",
      "SubjCode: 10772 userNr: 1077 file_name: 1640632.924 signal_length: 127999\n",
      "test_labels:  [0 1] [522  70] 592\n",
      "pradėjome predict_cnn_fda_vu_v1\n"
     ]
    },
    {
     "name": "stderr",
     "output_type": "stream",
     "text": [
      " c:\\Users\\Lenovo\\miniconda3\\envs\\ecg\\lib\\site-packages\\sklearn\\base.py:310: UserWarning:Trying to unpickle estimator StandardScaler from version 1.0.1 when using version 0.24.1. This might lead to breaking code or invalid results. Use at your own risk.\n"
     ]
    },
    {
     "name": "stdout",
     "output_type": "stream",
     "text": [
      "pred_labels:  [0 1 2 3] [583   5   1   3] 592\n",
      "N:  520 S: 69 V:  0  Nprec: 0.89 Nrec: 1.00 Nfsc: 0.94  Sprec: 1.00 Srec: 0.07 Sfsc: 0.14  Vprec: 0.00 Vrec: 0.00 Vfsc: 0.00\n",
      "\n",
      "SubjCode: 10773 userNr: 1077 file_name: 1640636.674 signal_length: 127999\n",
      "test_labels:  [0 1] [547  49] 596\n",
      "pradėjome predict_cnn_fda_vu_v1\n"
     ]
    },
    {
     "name": "stderr",
     "output_type": "stream",
     "text": [
      " c:\\Users\\Lenovo\\miniconda3\\envs\\ecg\\lib\\site-packages\\sklearn\\base.py:310: UserWarning:Trying to unpickle estimator StandardScaler from version 1.0.1 when using version 0.24.1. This might lead to breaking code or invalid results. Use at your own risk.\n"
     ]
    },
    {
     "name": "stdout",
     "output_type": "stream",
     "text": [
      "pred_labels:  [0 1 3] [591   3   2] 596\n",
      "N:  545 S: 49 V:  0  Nprec: 0.92 Nrec: 1.00 Nfsc: 0.96  Sprec: 1.00 Srec: 0.06 Sfsc: 0.12  Vprec: 0.00 Vrec: 0.00 Vfsc: 0.00\n",
      "\n",
      "SubjCode: 10774 userNr: 1077 file_name: 1640634.173 signal_length: 127999\n",
      "test_labels:  [0 1] [558  35] 593\n",
      "pradėjome predict_cnn_fda_vu_v1\n"
     ]
    },
    {
     "name": "stderr",
     "output_type": "stream",
     "text": [
      " c:\\Users\\Lenovo\\miniconda3\\envs\\ecg\\lib\\site-packages\\sklearn\\base.py:310: UserWarning:Trying to unpickle estimator StandardScaler from version 1.0.1 when using version 0.24.1. This might lead to breaking code or invalid results. Use at your own risk.\n"
     ]
    },
    {
     "name": "stdout",
     "output_type": "stream",
     "text": [
      "pred_labels:  [0 1 3] [584   7   2] 593\n",
      "N:  556 S: 35 V:  0  Nprec: 0.95 Nrec: 1.00 Nfsc: 0.97  Sprec: 0.86 Srec: 0.17 Sfsc: 0.29  Vprec: 0.00 Vrec: 0.00 Vfsc: 0.00\n",
      "\n",
      "SubjCode: 10775 userNr: 1077 file_name: 1640636.05 signal_length: 127999\n",
      "test_labels:  [0 1] [571  22] 593\n",
      "pradėjome predict_cnn_fda_vu_v1\n"
     ]
    },
    {
     "name": "stderr",
     "output_type": "stream",
     "text": [
      " c:\\Users\\Lenovo\\miniconda3\\envs\\ecg\\lib\\site-packages\\sklearn\\base.py:310: UserWarning:Trying to unpickle estimator StandardScaler from version 1.0.1 when using version 0.24.1. This might lead to breaking code or invalid results. Use at your own risk.\n"
     ]
    },
    {
     "name": "stdout",
     "output_type": "stream",
     "text": [
      "pred_labels:  [0 1 3] [588   3   2] 593\n",
      "N:  569 S: 22 V:  0  Nprec: 0.97 Nrec: 1.00 Nfsc: 0.98  Sprec: 1.00 Srec: 0.14 Sfsc: 0.24  Vprec: 0.00 Vrec: 0.00 Vfsc: 0.00\n",
      "\n",
      "SubjCode: 10776 userNr: 1077 file_name: 1640632.299 signal_length: 127999\n",
      "test_labels:  [0 1] [592  16] 608\n",
      "pradėjome predict_cnn_fda_vu_v1\n"
     ]
    },
    {
     "name": "stderr",
     "output_type": "stream",
     "text": [
      " c:\\Users\\Lenovo\\miniconda3\\envs\\ecg\\lib\\site-packages\\sklearn\\base.py:310: UserWarning:Trying to unpickle estimator StandardScaler from version 1.0.1 when using version 0.24.1. This might lead to breaking code or invalid results. Use at your own risk.\n"
     ]
    },
    {
     "name": "stdout",
     "output_type": "stream",
     "text": [
      "pred_labels:  [0 1 2 3] [588   6   6   8] 608\n",
      "N:  584 S: 16 V:  0  Nprec: 0.98 Nrec: 0.99 Nfsc: 0.98  Sprec: 0.83 Srec: 0.31 Sfsc: 0.45  Vprec: 0.00 Vrec: 0.00 Vfsc: 0.00\n",
      "\n",
      "SubjCode: 10777 userNr: 1077 file_name: 1640650.27 signal_length: 127999\n",
      "test_labels:  [0 1] [476  13] 489\n",
      "pradėjome predict_cnn_fda_vu_v1\n"
     ]
    },
    {
     "name": "stderr",
     "output_type": "stream",
     "text": [
      " c:\\Users\\Lenovo\\miniconda3\\envs\\ecg\\lib\\site-packages\\sklearn\\base.py:310: UserWarning:Trying to unpickle estimator StandardScaler from version 1.0.1 when using version 0.24.1. This might lead to breaking code or invalid results. Use at your own risk.\n"
     ]
    },
    {
     "name": "stdout",
     "output_type": "stream",
     "text": [
      "pred_labels:  [0 2 3] [485   1   3] 489\n",
      "N:  473 S: 13 V:  0  Nprec: 0.97 Nrec: 1.00 Nfsc: 0.99  Sprec: 0.00 Srec: 0.00 Sfsc: 0.00  Vprec: 0.00 Vrec: 0.00 Vfsc: 0.00\n",
      "\n",
      "SubjCode: 10778 userNr: 1077 file_name: 1640634.797 signal_length: 127999\n",
      "test_labels:  [0 1] [583   9] 592\n",
      "pradėjome predict_cnn_fda_vu_v1\n"
     ]
    },
    {
     "name": "stderr",
     "output_type": "stream",
     "text": [
      " c:\\Users\\Lenovo\\miniconda3\\envs\\ecg\\lib\\site-packages\\sklearn\\base.py:310: UserWarning:Trying to unpickle estimator StandardScaler from version 1.0.1 when using version 0.24.1. This might lead to breaking code or invalid results. Use at your own risk.\n"
     ]
    },
    {
     "name": "stdout",
     "output_type": "stream",
     "text": [
      "pred_labels:  [0 1 3] [588   2   2] 592\n",
      "N:  581 S:  9 V:  0  Nprec: 0.99 Nrec: 1.00 Nfsc: 0.99  Sprec: 1.00 Srec: 0.22 Sfsc: 0.36  Vprec: 0.00 Vrec: 0.00 Vfsc: 0.00\n",
      "\n",
      "SubjCode: 10779 userNr: 1077 file_name: 1640635.422 signal_length: 127999\n",
      "test_labels:  [0 1] [593   4] 597\n",
      "pradėjome predict_cnn_fda_vu_v1\n"
     ]
    },
    {
     "name": "stderr",
     "output_type": "stream",
     "text": [
      " c:\\Users\\Lenovo\\miniconda3\\envs\\ecg\\lib\\site-packages\\sklearn\\base.py:310: UserWarning:Trying to unpickle estimator StandardScaler from version 1.0.1 when using version 0.24.1. This might lead to breaking code or invalid results. Use at your own risk.\n"
     ]
    },
    {
     "name": "stdout",
     "output_type": "stream",
     "text": [
      "pred_labels:  [0 1 3] [594   1   2] 597\n",
      "N:  591 S:  4 V:  0  Nprec: 0.99 Nrec: 1.00 Nfsc: 1.00  Sprec: 0.00 Srec: 0.00 Sfsc: 0.00  Vprec: 0.00 Vrec: 0.00 Vfsc: 0.00\n",
      "\n",
      "SubjCode: 10820 userNr: 1082 file_name: 1643240.229 signal_length: 127999\n",
      "test_labels:  [0] [741] 741\n",
      "pradėjome predict_cnn_fda_vu_v1\n"
     ]
    },
    {
     "name": "stderr",
     "output_type": "stream",
     "text": [
      " c:\\Users\\Lenovo\\miniconda3\\envs\\ecg\\lib\\site-packages\\sklearn\\base.py:310: UserWarning:Trying to unpickle estimator StandardScaler from version 1.0.1 when using version 0.24.1. This might lead to breaking code or invalid results. Use at your own risk.\n"
     ]
    },
    {
     "name": "stdout",
     "output_type": "stream",
     "text": [
      "pred_labels:  [0 3] [739   2] 741\n",
      "N:  739 S:  0 V:  0  Nprec: 1.00 Nrec: 1.00 Nfsc: 1.00  Sprec: 0.00 Srec: 0.00 Sfsc: 0.00  Vprec: 0.00 Vrec: 0.00 Vfsc: 0.00\n",
      "\n",
      "\n",
      "Runtime: 01:36:02\n"
     ]
    }
   ],
   "source": [
    "# Pagrindinis skriptas - ciklas per ECG įrašus\n",
    "\n",
    "pd.set_option(\"display.max_rows\", 6000, \"display.max_columns\",200)\n",
    "pd.set_option('display.width', 1000)\n",
    "\n",
    "import warnings\n",
    "# warnings.filterwarnings(\"ignore\")\n",
    "\n",
    "print(\"\\nAtliekama pūpsnių pacientų įrašuose klasifikacija\")\n",
    "\n",
    "# NURODOME PACIENTŲ SĄRAŠĄ. GALIMI ĮVAIRŪS VARIANTAI\n",
    "\n",
    "# Variantas: visi duomenys\n",
    "# Nuskaitome failą info_create.json ir duomenų rinkinio parametrus\n",
    "# file_path = Path(rec_dir,'info_create_z.json')\n",
    "# with open(file_path) as json_file:\n",
    "#     info_create = json.load(json_file)\n",
    "# SubjCodes =  info_create['SubjCodes'] # pacientų įrašų sąrašas\n",
    "\n",
    "# Variantas: mokymo imtis  \n",
    "# file_path = Path(rec_dir, 'train_subjcode_lst.csv')\n",
    "# SubjCodes = list(np.loadtxt(file_path, delimiter=',', dtype=\"int\"))\n",
    "\n",
    "# Variantas: validation imtis  \n",
    "# file_path = Path(rec_dir, 'validation_subjcode_lst.csv')\n",
    "# SubjCodes = list(np.loadtxt(file_path, delimiter=',', dtype=\"int\"))\n",
    "\n",
    "# Variantas: testinė imtis  \n",
    "file_path = Path(rec_dir, 'test_subjcode_lst.csv')\n",
    "SubjCodes = list(np.loadtxt(file_path, delimiter=',', dtype=\"int\"))\n",
    "\n",
    "# Pacientų įrašų sąrašas testavimui\n",
    "# file_path = 'testinis_sarasas.csv'\n",
    "# SubjCodes = [10020, 10021, 10051] #Testavimui\n",
    "# SubjCodes = [10051,10021] #Testavimo pacientų įrašų sąrašas\n",
    "\n",
    "print(\"Klasifikuojamų įrašų sąrašas:\", SubjCodes)\n",
    "print(f\"Sąrašas nuskaitytas iš: {file_path}\")\n",
    "\n",
    "# Suformuojamas aplankas rezultatams\n",
    "head_tail = os.path.split(file_path)\n",
    "filename, file_extension = os.path.splitext(head_tail[1])\n",
    "path_for_results = Path(db_path, 'rezultatai' + '_' + filename)\n",
    "print(f\"\\nAplankas rezultatams: {path_for_results}\")\n",
    "create_dir(path_for_results)\n",
    "\n",
    "# Kas kiek išvedamas apdorotų sekų skaičius\n",
    "show_period = 100\n",
    "\n",
    "# Klasių simbolinių vardų sąrašas ir klasių skaičius\n",
    "class_names = list(selected_beats.keys()) \n",
    "n_classes = len(selected_beats)\n",
    "# print(class_names)\n",
    "\n",
    "# Nuskaitome pūpsnių atributų masyvą\n",
    "file_path = Path(rec_dir, all_beats_attr_fname)\n",
    "all_beats_attr = pd.read_csv(file_path, index_col=0, dtype = {'userNr': int, 'recordingNr': int,\n",
    "                                                             'sample': int, 'symbol': str, 'label': int})\n",
    "all_beat_indices = all_beats_attr.index\n",
    "index_start = 0\n",
    "\n",
    "# Sukūriame masyvą, į kurį sudėsime visų įrašų pūpsnių anotuotus ir automatiškai surastus klasių numerius\n",
    "validation_set_stats = pd.DataFrame(columns=['idx', 'test_label', 'pred_label', 'SubjCode'])\n",
    "\n",
    "start_time = time.time()\n",
    "# Ciklas per pacientų įrašus\n",
    "for SubjCode in SubjCodes:\n",
    "    \n",
    "    # Nuskaitome EKG įrašą (npy formatu)\n",
    "    sign_raw = read_rec(rec_dir, SubjCode)\n",
    "    signal_length = sign_raw.shape[0]\n",
    "    signal = sign_raw\n",
    "\n",
    "    # Surandame ir išvedame įrašo atributus\n",
    "    file_name = get_filename(rec_dir, SubjCode)\n",
    "    userNr, recNr = split_SubjCode(SubjCode)\n",
    "    print(f\"\\nSubjCode: {SubjCode} userNr: {userNr:>2} file_name: {file_name:>2} signal_length: {signal_length}\")\n",
    "\n",
    "    # Filtruojame signalą\n",
    "    # signal = signal_filter(signal=sign_raw, sampling_rate=200, lowcut=0.2, method=\"butterworth\", order=5)\n",
    "\n",
    "    # Nuskaitome paciento įrašo anotacijas ir jų indeksus\n",
    "    df_rpeaks = zive_read_df_rpeaks(rec_dir, str(SubjCode))\n",
    "    atr_sample = df_rpeaks['sampleIndex'].to_numpy()\n",
    "    atr_symbol = df_rpeaks['annotationValue'].to_numpy()\n",
    "\n",
    "    # SUFORMUOJAME EKG ĮRAŠUI TESTINĮ ir PRISKIRTŲ KLASIŲ NUMERIŲ MASYVUS\n",
    "\n",
    "    # Jei pasitaiko symbol 'U' arba 'F', pūpsniui suteikiame klasę 3, kurią vėliau apvalysime  \n",
    "    test_labels = np.array([all_beats[symbol] for symbol in atr_symbol])\n",
    "\n",
    "    (unique, counts) = np.unique(test_labels, return_counts=True)\n",
    "    total = counts.sum()\n",
    "    print(\"test_labels: \", unique, counts, total)\n",
    "   \n",
    "    # EKG signalo pūpsnių klasifikacija su užduotu modeliu iš model_dir\n",
    "    pred_labels = predict_cnn_fda_vu_v1_micro(signal, atr_sample, model_dir)\n",
    "\n",
    "    # pred_labels turi būti tokio pat ilgio, kaip ir test_labels, praleisti (šiuo atveju pirmas\n",
    "    # ir paskutinis pūpsnys), o taip pat pakliuvęs į ommited sritį, pažymimi klase 3\n",
    "    if (len(test_labels) != len(pred_labels)):\n",
    "        raise Exception(f\"Klaida! SubjCode: {SubjCode}. Nesutampa test_labels ir pred_labels ilgiai\")     \n",
    "\n",
    "    (unique, counts) = np.unique(pred_labels, return_counts=True)\n",
    "    total = counts.sum()\n",
    "    print(\"pred_labels: \",unique, counts, total)\n",
    "\n",
    "    # Surandame vietas su ekstrasistolemis ir išvedame jų sąrašą vizualiniam įvertinimui. \n",
    "    classification=[]\n",
    "    for i, i_sample in enumerate(atr_sample):\n",
    "        if ((pred_labels[i] != 0) or test_labels[i] != 0):\n",
    "            classification.append({'sample':i_sample, 'annot':test_labels[i], 'pred':pred_labels[i]})\n",
    "\n",
    "    # Vietų sąrašas išvedamas\n",
    "    # Dirbant su daug įrašų sąrašo išvedimą reikia užblokuoti !!!!!!!!!!!!!!!!!!!!!!!!!!!\n",
    "    classification = []  # Užblokuota\n",
    "    if (classification):\n",
    "        for row in classification:\n",
    "            print(f\"sample: {row['sample']:>7}   annot_label: {row['annot']:>2}   pred_label: {row['pred']:>2}\")  \n",
    "    \n",
    "    # SUFORMUOJAME FREIMĄ validation_set_stats SU PŪPSNIŲ KLASIŲ ANOTUOTAIS IR AUTOMATIŠKAI \n",
    "    # SURASTAIS KLASIŲ NUMERIAIS, IŠMETANT KLASES SU NUMERIU = 3\n",
    "\n",
    "    # Surandame pradinį SubjCode įrašo indeksą faile all_beats_attr\n",
    "    selected_ind = all_beat_indices[(all_beats_attr['userNr']==userNr) & (all_beats_attr['recordingNr']==recNr)]\n",
    "    # print(f\"SubjCode: {SubjCode}  first elem: {selected_ind[0]} last elem: {selected_ind[-1]}  tot: {len(selected_ind)}\")\n",
    "    index_start = selected_ind[0]\n",
    "    # print('\\nSubjCode:',SubjCode, 'index_start:', index_start)   \n",
    "\n",
    "    #  Praleisdami indeksą, jei masyvuose test_labels ir pred_labels yra reikšmė == 3,\n",
    "    # suformuojame klasifikuotinų pūpsnių indeksų sąrašą\n",
    "    for idx in range(len(atr_sample)):\n",
    "        flag = (test_labels[idx] == 3) or (pred_labels[idx] == 3)\n",
    "        if (flag == False):\n",
    "            validation_stats = pd.DataFrame([{'idx':index_start+idx,'test_label':test_labels[idx],\n",
    "                                                'pred_label':pred_labels[idx], 'SubjCode': SubjCode}])\n",
    "            validation_set_stats = pd.concat([validation_set_stats, validation_stats])\n",
    "\n",
    "    # Suformuojame klasių numerių masyvus confusion matricai skaičiuoti, surandama confusion matrica\n",
    "    test_y = np.array(validation_set_stats[validation_set_stats['SubjCode']==SubjCode]['test_label']).astype('int') \n",
    "    # print(all_beats_attr.info())\n",
    "    pred_y = np.array(validation_set_stats[validation_set_stats['SubjCode']==SubjCode]['pred_label']).astype('int')\n",
    "   \n",
    "    # Atsikračius pūpsnių su klase = 3 ir suformavus masyvus, pred_y turi būti tokio pat ilgio, kaip ir test_y\n",
    "    if (len(test_y) != len(pred_y)):\n",
    "        raise Exception(f\"Klaida! SubjCode: {SubjCode}. Nesutampa test_y ir pred_y ilgiai\")     \n",
    "\n",
    "    confusion = confusion_matrix(test_y, pred_y)\n",
    "    # print(confusion)\n",
    "    prec,rec,fsc,sup = precision_recall_fscore_support(test_y, pred_y, labels=[0, 1, 2], zero_division=0)\n",
    "\n",
    "    str1 =f\"N:{int(sup[0]):>5} S:{(int(sup[1])):3} V:{int(sup[2]):3}\" \n",
    "    str2 = f\"  Nprec:{prec[0]:>5.2f} Nrec:{rec[0]:5.2f} Nfsc:{fsc[0]:5.2f}\"\n",
    "    str3 = f\"  Sprec:{prec[1]:>5.2f} Srec:{rec[1]:5.2f} Sfsc:{fsc[1]:5.2f}\"\n",
    "    str4 = f\"  Vprec:{prec[2]:>5.2f} Vrec:{rec[2]:5.2f} Vfsc:{fsc[2]:5.2f}\"\n",
    "    print(str1+str2+str3+str4)\n",
    "\n",
    "    # print(len(validation_set_stats))\n",
    "    # print(len(test_y))\n",
    "    # print(len(pred_y))\n",
    "\n",
    "end_time = time.time()\n",
    "print('\\n')\n",
    "runtime(end_time-start_time)\n",
    "\n",
    "# Sukūriame anotuotų ir automatiškai priskirtų klasių visų įrašų pūpsniams sąrašus \n",
    "validate_ind_lst = list(validation_set_stats['idx'])\n",
    "y_validate = np.array(validation_set_stats['test_label']).astype('int')\n",
    "y_predicted = np.array(validation_set_stats['pred_label']).astype('int')"
   ]
  },
  {
   "cell_type": "code",
   "execution_count": 4,
   "metadata": {},
   "outputs": [
    {
     "name": "stdout",
     "output_type": "stream",
     "text": [
      "\n",
      "MODELIO TIKSLUMO VERTINIMO REZULTATAI\n",
      "Modelis iš aplanko:  model_cnn_fda_vu_v0\n",
      "Klasės ['N', 'S', 'V']: [78968  1279  2550] Suma: 82797 \n",
      "\n",
      "APIBENDRINTI REZULTATAI\n",
      "\n",
      "Confusion Matrix\n",
      "       N     S     V\n",
      "N  76724  1394   850\n",
      "S    391   302   586\n",
      "V     21   120  2409\n",
      "\n",
      "\n",
      "Normalized Confusion Matrix\n",
      "      N     S     V\n",
      "N 0.972 0.018 0.011\n",
      "S 0.306 0.236 0.458\n",
      "V 0.008 0.047 0.945\n",
      "\n",
      "Classification Report\n",
      "\n",
      "              precision    recall  f1-score   support\n",
      "\n",
      "           N      0.995     0.972     0.983     78968\n",
      "           S      0.166     0.236     0.195      1279\n",
      "           V      0.627     0.945     0.753      2550\n",
      "\n",
      "    accuracy                          0.959     82797\n",
      "   macro avg      0.596     0.717     0.644     82797\n",
      "weighted avg      0.971     0.959     0.964     82797\n",
      "\n",
      "\n",
      "Apibendrinti_rezultatai įrašyti į:  D:\\DI\\Data\\MIT&ZIVE\\VU\\DUOM_VU\\rezultatai_test_subjcode_lst\\apibendrinti_rezultatai.csv\n"
     ]
    }
   ],
   "source": [
    "# MODELIO TIKSLUMO VERTINIMO IŠ VERTINIMO IMTIES REZULTATAI\n",
    "\n",
    "print(\"\\nMODELIO TIKSLUMO VERTINIMO REZULTATAI\")\n",
    "print(\"Modelis iš aplanko: \", model_dir)\n",
    "\n",
    "cols, dist, tot = get_freq_unique_values(y_validate, ['N', 'S', 'V'])\n",
    "print(f\"Klasės {cols}: {dist} Suma: {tot} \")\n",
    "\n",
    "# APIBENDRINTI REZULTATAI\n",
    "\n",
    "print('\\nAPIBENDRINTI REZULTATAI\\n')\n",
    "\n",
    "# Skaičiuojame ir išvedame klasifikavimo lentelę\n",
    "confusion = confusion_matrix(y_validate, y_predicted)\n",
    "pd.set_option('display.precision',3)\n",
    "show_confusion_matrix(confusion, class_names)\n",
    "# print('\\n')\n",
    "\n",
    "print(\"\\nClassification Report\\n\")\n",
    "# target_names = [key for (key, value) in selected_beats.items()]\n",
    "\n",
    "pd.set_option(\"display.max_rows\", 6000, \"display.max_columns\",200)\n",
    "pd.set_option('display.width', 1000)\n",
    "\n",
    "print(classification_report(y_validate, y_predicted, target_names=class_names, digits=3))\n",
    "report = classification_report(y_validate, y_predicted, target_names=class_names, output_dict=True)\n",
    "# output_dictbool, default=False, If True, return output as dict.\n",
    "df_report = pd.DataFrame(report).transpose()\n",
    "# https://medium.com/@asmaiya/you-can-something-like-this-84d28e0fd31f\n",
    "\n",
    "# Įrašome į diską\n",
    "filepath = Path(path_for_results, 'apibendrinti_rezultatai.csv') \n",
    "df_report.to_csv(filepath)    \n",
    "print(f'\\nApibendrinti_rezultatai įrašyti į:  {filepath}')\n"
   ]
  },
  {
   "cell_type": "code",
   "execution_count": 5,
   "metadata": {},
   "outputs": [
    {
     "name": "stdout",
     "output_type": "stream",
     "text": [
      "\n",
      "Rezultatų pasiskirstymas per pacientus\n",
      "Pacientų: 18\n",
      "\n",
      "userNr                   userId        N    S    V   Nprec  Nrec  Nfsc   Sprec  Srec  Sfsc   Vprec  Vrec  Vfsc     Err%   Noise%\n",
      "  1000 6034c808d6c2740008035ede     6462    7    0    1.00  0.99  1.00    0.11  0.57  0.19    0.00  0.00  0.00      0.9     25.2\n",
      "  1004 613b1c013d08d44862cdc8f2     1852    3    0    1.00  1.00  1.00    1.00  0.67  0.80    0.00  0.00  0.00      0.2     30.6\n",
      "  1012 6143507abd0cc5051b275171     1874    4    3    1.00  0.80  0.89    0.01  0.75  0.02    0.02  1.00  0.05     19.5     39.5\n",
      "  1019 6144c682bd0cc5acb7275368     7687    0  937    1.00  0.99  1.00    0.00  0.00  0.00    0.95  0.97  0.96      0.9     92.6\n",
      "  1020 614dbeaf4bac1cd48d017ae8     1922    0    2    1.00  0.96  0.98    0.00  0.00  0.00    0.14  0.50  0.22      3.9     43.9\n",
      "  1026 615708ba2312e518c0168e69     7371    4  104    1.00  0.96  0.98    0.00  0.00  0.00    0.26  1.00  0.41      4.2     57.5\n",
      "  1030 61632ace1e32557a62017bba     9804  831    5    1.00  0.93  0.96    0.33  0.28  0.30    0.00  0.80  0.01     12.3     53.0\n",
      "  1032 61632b201e32557db9017bbc      647    0    0    1.00  0.98  0.99    0.00  0.00  0.00    0.00  0.00  0.00      1.5     53.9\n",
      "  1042 617509a66d4fb46d3b637744     7916    1   63    1.00  1.00  1.00    0.05  1.00  0.10    0.82  0.86  0.84      0.5     59.2\n",
      "  1045 617ee9d16878b6710c6b47b1      810    0    0    1.00  1.00  1.00    0.00  0.00  0.00    0.00  0.00  0.00      0.4     71.4\n",
      "  1047 617eea296878b60aff6b47b3      607    0    0    1.00  0.98  0.99    0.00  0.00  0.00    0.00  0.00  0.00      2.0     89.3\n",
      "  1052 6190d45b3cd1d2e695303ce8     5971   15    0    1.00  0.98  0.99    0.08  0.53  0.14    0.00  0.00  0.00      1.8     54.8\n",
      "  1054 6190d4e63cd1d227c1303cea     5830   16    1    1.00  1.00  1.00    0.82  0.56  0.67    0.00  0.00  0.00      0.4     86.8\n",
      "  1060 619b4c3eb48132c6194e3dac     2124    4    0    1.00  0.82  0.90    0.00  0.00  0.00    0.00  0.00  0.00     18.3     85.1\n",
      "  1071 61b320c5cf0f342a0acb1c95     6985    0  181    1.00  0.98  0.99    0.00  0.00  0.00    0.58  0.48  0.53      2.8     61.6\n",
      "  1072 61b320e9cf0f344a0fcb1c96     4937   10 1254    1.00  1.00  1.00    0.67  0.20  0.31    1.00  1.00  1.00      0.2     97.1\n",
      "  1077 61d9ab50f552314db38e85e2     5430  384    0    0.94  1.00  0.97    0.93  0.11  0.19    0.00  0.00  0.00      6.1     80.9\n",
      "  1082 61fe66b5cd448a02d913470e      739    0    0    1.00  1.00  1.00    0.00  0.00  0.00    0.00  0.00  0.00      0.0     51.3\n",
      "\n",
      "Rezultatų pasiskirstymas per pacientus įrašytas į:  D:\\DI\\Data\\MIT&ZIVE\\VU\\DUOM_VU\\rezultatai_test_subjcode_lst\\rezultatu_pasiskirstymas_per_pacientus.csv\n"
     ]
    }
   ],
   "source": [
    "# KLAIDŲ PASISKIRSTYMAS PER PACIENTUS IR JŲ ĮRAŠUS\n",
    "\n",
    "from zive_util_vu import zive_read_df_data, create_SubjCode\n",
    "from sklearn.metrics import accuracy_score\n",
    "\n",
    "def collect_noise_locs(rec_dir, all_beats_attr):\n",
    "\n",
    "    noise_arr_tot = np.empty(0, dtype=int)\n",
    "    \n",
    "    grouped = all_beats_attr.groupby(['userNr', 'recordingNr'])\n",
    "    for key, group in grouped:\n",
    "        # print('\\n',key)\n",
    "        userNr = key[0]\n",
    "        recordingNr = key[1]\n",
    "\n",
    "        # SubjCode naudojamas atveju, kai duomenis yra formoje SubjCode.npy, SubjCode.json\n",
    "        SubjCode = create_SubjCode(userNr, recordingNr)\n",
    "        filepath = Path(rec_dir, str(SubjCode) + '.json') \n",
    "        df_noises = zive_read_df_data(filepath, 'noises')\n",
    "\n",
    "        noise_arr = np.full(shape=len(group), fill_value=0,  dtype=int)\n",
    "        idx_noise = 0\n",
    "\n",
    "        for i, row_i in group.iterrows():\n",
    "            sample = row_i['sample']\n",
    "            for j, row_j in df_noises.iterrows():\n",
    "                if ((sample > row_j['startIndex']) & (sample < row_j['endIndex'])):\n",
    "                    noise_arr[idx_noise] = 1\n",
    "                    idx_noise += 1\n",
    "        noise_arr_tot = np.append(noise_arr_tot, noise_arr)\n",
    "    return noise_arr_tot\n",
    "\n",
    "def get_error(y_test, y_pred):\n",
    "    # Error in %\n",
    "    n_errors = 0\n",
    "    for idx in range(len(y_pred)):\n",
    "        if (y_test[idx] != y_pred[idx]):\n",
    "            n_errors += 1\n",
    "    Err = float(n_errors)/len(y_pred)*100.\n",
    "    Err = round(Err, 1)\n",
    "    return Err\n",
    "\n",
    "# Pasiruošimas\n",
    "\n",
    "pd.set_option(\"display.max_rows\", 6000, \"display.max_columns\", 15)\n",
    "pd.set_option('display.width', 1000)\n",
    "\n",
    "# Sukuriame ir užpildome dataframe su sekų parametrais\n",
    "df_seq_errors = pd.DataFrame(columns= ['idx', 'userNr', 'file_name'])\n",
    "\n",
    "rows_list = []\n",
    "for idx in validate_ind_lst:\n",
    "# Surandame  userNr, recordingNr, symbol\n",
    "    userNr, recNr, label, symbol = get_beat_attributes(idx, all_beats_attr)\n",
    "    seq_attr = {'idx': idx, 'userNr':userNr, 'recordingNr':recNr}\n",
    "    rows_list.append(seq_attr)\n",
    "\n",
    "# print(rows_list[:10])\n",
    "\n",
    "# Čia įdedame informaciją, ar pūpsnys patenka į triukšmų zoną\n",
    "noise_arr = collect_noise_locs(rec_dir, all_beats_attr)\n",
    "noise_arr = noise_arr[validate_ind_lst]\n",
    "\n",
    "# print(noise_arr)\n",
    "# unique, counts = np.unique(noise_arr, return_counts=True)\n",
    "# print(unique, counts, noise_arr.shape[0])\n",
    "# print(counts.sum())\n",
    "\n",
    "df_seq_errors = pd.DataFrame(rows_list)\n",
    "\n",
    "df_seq_errors['labels'] = pd.Series(y_validate)\n",
    "df_seq_errors['preds'] = pd.Series(y_predicted)\n",
    "zeros_arr = np.zeros( y_predicted.shape[0], dtype=int)\n",
    "df_seq_errors['errors'] = pd.Series(zeros_arr)  \n",
    "df_seq_errors.loc[df_seq_errors['labels'] != df_seq_errors['preds'], 'errors'] = 1 \n",
    "df_seq_errors['noises'] = pd.Series(noise_arr)  \n",
    "\n",
    "# print(df_seq_errors.info())\n",
    "\n",
    "\n",
    "# Rezultatų pasiskirstymas per pacientus\n",
    "\n",
    "print(\"\\nRezultatų pasiskirstymas per pacientus\")\n",
    "\n",
    "# Pasiruošimas\n",
    "class_names = ['N', 'S', 'V']\n",
    "n_classes = len(class_names)\n",
    "df_user_errors = pd.DataFrame({'userNr':pd.Series(dtype='int'), 'userId':pd.Series(dtype='str'),  # ??????????????????????\n",
    "    'N':pd.Series(dtype='int'), 'S':pd.Series(dtype='int'), 'V':pd.Series(dtype='int'),\n",
    "    'Nprec':pd.Series(dtype='float') , 'Nrec':pd.Series(dtype='float'), 'Nfsc':pd.Series(dtype='float'),\n",
    "    'Sprec':pd.Series(dtype='float') , 'Srec':pd.Series(dtype='float'), 'Sfsc':pd.Series(dtype='float'),\n",
    "    'Vprec':pd.Series(dtype='float') , 'Vrec':pd.Series(dtype='float'), 'Vfsc':pd.Series(dtype='float'), \n",
    "    'Err%':pd.Series(dtype='float'), 'Noise%':pd.Series(dtype='float')})\n",
    "# Pandas Empty DataFrame with Specific Column Types\n",
    "# https://sparkbyexamples.com/pandas/pandas-empty-dataframe-with-specific-column-types/\n",
    "\n",
    "rows_list = []\n",
    "\n",
    "# Išgauname pacientų vidinę (eilės nr) numeraciją\n",
    "grouped  = df_seq_errors.groupby(['userNr'])\n",
    "userNrs = list(grouped.groups.keys())\n",
    "print(f'Pacientų: {len(userNrs)}\\n')\n",
    "\n",
    "for userNr in grouped.groups:\n",
    "# https://stackoverflow.com/questions/62041850/looping-over-pandas-groupby-output-when-grouping-by-multiple-columns-and-missin\n",
    "\n",
    "    y_test = df_seq_errors.loc[grouped.groups[userNr]]['labels'].to_numpy(dtype=int)\n",
    "    y_pred = df_seq_errors.loc[grouped.groups[userNr]]['preds'].to_numpy(dtype=int)\n",
    "\n",
    "    Err = get_error(y_test, y_pred)\n",
    "    \n",
    "    noise_arr = df_seq_errors.loc[grouped.groups[userNr]]['noises'].to_numpy(dtype=int)\n",
    "    Noise = np.sum(noise_arr, axis=0)/noise_arr.shape[0]*100.\n",
    "\n",
    "    # Testavimui\n",
    "    # acc = accuracy_score(y_test, y_pred)\n",
    "    # print(f\"userNr: {userNr} recordingNr:  {recordingNr} Accuracy: {acc:.2f}\")\n",
    "    # cnf_matrix = confusion_matrix_modified(y_test, y_pred, n_classes)\n",
    "    # show_confusion_matrix(cnf_matrix, class_names)\n",
    "    # https://towardsdatascience.com/confusion-matrix-for-your-multi-class-machine-learning-model-ff9aa3bf7826\n",
    "\n",
    "    prec,rec,fsc,sup = precision_recall_fscore_support(y_test, y_pred, labels=[0, 1, 2], zero_division=0)\n",
    "    userId = get_userId(rec_dir, userNr)\n",
    "\n",
    "    dict_user_errors = {'userNr':int(userNr),'userId':str(userId),   # //////////////////////////////////////////\n",
    "    'N':sup[0], 'S':sup[1], 'V':sup[2],\n",
    "    'Nprec':prec[0], 'Nrec':rec[0], 'Nfsc':fsc[0],\n",
    "    'Sprec':prec[1], 'Srec':rec[1], 'Sfsc':fsc[1],\n",
    "    'Vprec':prec[2], 'Vrec':rec[2], 'Vfsc':fsc[2], \n",
    "     'Err%':Err,  'Noise%':Noise\n",
    "    }\n",
    "    rows_list.append(dict_user_errors)\n",
    "\n",
    "df_user_errors =  pd.DataFrame(rows_list) \n",
    "\n",
    "# Išvedame suformuotą masyvą\n",
    "tit1 = f\"{'userNr':>6} {'userId':>24} {'N':>8} {'S':>4} {'V':>4}\"\n",
    "tit2 = f\"{'Nprec':>8} {'Nrec':>5} {'Nfsc':>5}\"\n",
    "tit3 = f\"{'Sprec':>8} {'Srec':>5} {'Sfsc':>5}\"\n",
    "tit4 = f\"{'Vprec':>8} {'Vrec':>5} {'Vfsc':>5} {'Err%':>8} {'Noise%':>8}\"\n",
    "print(tit1+tit2+tit3+tit4)\n",
    "\n",
    "for idx, row in  df_user_errors.iterrows():\n",
    "    str1 =f\"{int(row['userNr']):>6} {str(row['userId']):>6} {int(row['N']):>8} {int(row['S']):4} {int(row['V']):4}\" \n",
    "    str2 = f\"{row['Nprec']:>8.2f} {row['Nrec']:5.2f} {row['Nfsc']:5.2f}\"\n",
    "    str3 = f\"{row['Sprec']:>8.2f} {row['Srec']:5.2f} {row['Sfsc']:5.2f}\"\n",
    "    str4 = f\"{row['Vprec']:>8.2f} {row['Vrec']:5.2f} {row['Vfsc']:5.2f} {row['Err%']:8.1f} {row['Noise%']:8.1f}\"\n",
    "    print(str1+str2+str3+str4)\n",
    "\n",
    "filepath = Path(path_for_results, 'rezultatu_pasiskirstymas_per_pacientus.csv') \n",
    "df_user_errors.to_csv(filepath)    \n",
    "print(f'\\nRezultatų pasiskirstymas per pacientus įrašytas į:  {filepath}')\n",
    "\n",
    "# print(df_user_errors)\n",
    "\n"
   ]
  },
  {
   "cell_type": "code",
   "execution_count": 6,
   "metadata": {},
   "outputs": [
    {
     "name": "stdout",
     "output_type": "stream",
     "text": [
      "\n",
      "\n",
      "Rezultatų pasiskirstymas per pacientų įrašus\n",
      "Pacientų įrašų: 109\n",
      "\n",
      "\n",
      "userNr: 1000 userId: 6034c808d6c2740008035ede\n",
      "recordingNr       file_name        N    S    V   Nprec  Nrec  Nfsc   Sprec  Srec  Sfsc   Vprec  Vrec  Vfsc     Err%   Noise%\n",
      "     0          1630673.825      759    4    0    1.00  1.00  1.00    0.40  0.50  0.44    0.00  0.00  0.00      0.7     40.8\n",
      "     1          1626941.468      857    2    0    1.00  1.00  1.00    1.00  0.50  0.67    0.00  0.00  0.00      0.5     47.1\n",
      "     2          1632923.661     4846    1    0    1.00  0.99  0.99    0.03  1.00  0.07    0.00  0.00  0.00      1.0     18.9\n",
      "\n",
      "\n",
      "userNr: 1004 userId: 613b1c013d08d44862cdc8f2\n",
      "recordingNr       file_name        N    S    V   Nprec  Nrec  Nfsc   Sprec  Srec  Sfsc   Vprec  Vrec  Vfsc     Err%   Noise%\n",
      "     0          1630715.197      608    2    0    1.00  1.00  1.00    1.00  0.50  0.67    0.00  0.00  0.00      0.7     43.4\n",
      "     1          1630714.569      603    1    0    1.00  1.00  1.00    1.00  1.00  1.00    0.00  0.00  0.00      0.0     46.0\n",
      "     2          1630729.576      641    0    0    1.00  1.00  1.00    0.00  0.00  0.00    0.00  0.00  0.00      0.0      3.9\n",
      "\n",
      "\n",
      "userNr: 1012 userId: 6143507abd0cc5051b275171\n",
      "recordingNr       file_name        N    S    V   Nprec  Nrec  Nfsc   Sprec  Srec  Sfsc   Vprec  Vrec  Vfsc     Err%   Noise%\n",
      "     0          1631702.918      749    0    3    1.00  0.68  0.81    0.00  0.00  0.00    0.02  1.00  0.05     31.6     57.6\n",
      "     1          1631727.631      642    2    0    1.00  0.80  0.89    0.01  0.50  0.02    0.00  0.00  0.00     20.0     45.7\n",
      "     2          1631734.441      483    2    0    1.00  1.00  1.00    1.00  1.00  1.00    0.00  0.00  0.00      0.0      3.3\n",
      "\n",
      "\n",
      "userNr: 1019 userId: 6144c682bd0cc5acb7275368\n",
      "recordingNr       file_name        N    S    V   Nprec  Nrec  Nfsc   Sprec  Srec  Sfsc   Vprec  Vrec  Vfsc     Err%   Noise%\n",
      "     0          1631036.053      873    0  123    1.00  1.00  1.00    0.00  0.00  0.00    0.98  0.96  0.97      0.7    100.0\n",
      "     1          1631013.491      670    0  104    1.00  1.00  1.00    0.00  0.00  0.00    0.99  0.97  0.98      0.5    100.0\n",
      "     2          1631012.235      775    0  101    1.00  0.99  1.00    0.00  0.00  0.00    0.93  0.99  0.96      0.9    100.0\n",
      "     3          1631032.919      860    0  100    1.00  1.00  1.00    0.00  0.00  0.00    1.00  0.98  0.99      0.2     97.3\n",
      "     4          1631012.861      739    0   99    1.00  0.97  0.98    0.00  0.00  0.00    0.81  0.99  0.89      3.1     78.8\n",
      "     5          1631032.294      714    0   78    1.00  1.00  1.00    0.00  0.00  0.00    0.96  0.92  0.94      1.1    100.0\n",
      "     6          1631037.304      811    0   87    1.00  1.00  1.00    0.00  0.00  0.00    0.99  0.97  0.98      0.4     89.4\n",
      "     7          1631014.117      680    0   89    1.00  0.99  0.99    0.00  0.00  0.00    0.92  0.97  0.95      1.4     97.5\n",
      "     8          1631036.678      863    0   89    1.00  1.00  1.00    0.00  0.00  0.00    1.00  0.94  0.97      0.5     93.7\n",
      "     9          1631029.786      702    0   67    1.00  1.00  1.00    0.00  0.00  0.00    0.97  0.97  0.97      0.7     65.8\n",
      "\n",
      "\n",
      "userNr: 1020 userId: 614dbeaf4bac1cd48d017ae8\n",
      "recordingNr       file_name        N    S    V   Nprec  Nrec  Nfsc   Sprec  Srec  Sfsc   Vprec  Vrec  Vfsc     Err%   Noise%\n",
      "     0          1632121.089      656    0    1    1.00  0.97  0.98    0.00  0.00  0.00    0.00  0.00  0.00      3.5     43.7\n",
      "     1          1632123.567      614    0    1    1.00  0.95  0.98    0.00  0.00  0.00    0.25  1.00  0.40      4.7     46.8\n",
      "     2          1632121.708      652    0    0    1.00  0.96  0.98    0.00  0.00  0.00    0.00  0.00  0.00      3.5     41.3\n",
      "\n",
      "\n",
      "userNr: 1026 userId: 615708ba2312e518c0168e69\n",
      "recordingNr       file_name        N    S    V   Nprec  Nrec  Nfsc   Sprec  Srec  Sfsc   Vprec  Vrec  Vfsc     Err%   Noise%\n",
      "     0          1632731.258      667    0   21    1.00  0.97  0.98    0.00  0.00  0.00    0.50  1.00  0.67      3.1     72.7\n",
      "     1          1632729.377      759    0   18    1.00  0.88  0.93    0.00  0.00  0.00    0.17  1.00  0.29     12.0     72.8\n",
      "     2          1632730.004      766    0   17    1.00  0.93  0.96    0.00  0.00  0.00    0.26  1.00  0.41      6.6     80.2\n",
      "     3          1632730.631      750    1   15    1.00  0.95  0.97    0.00  0.00  0.00    0.29  1.00  0.45      5.1     58.2\n",
      "     4           1632728.75      750    0   10    1.00  0.92  0.96    0.00  0.00  0.00    0.15  1.00  0.26      8.2     56.6\n",
      "     5           1632725.61      716    2    4    1.00  0.98  0.99    0.00  0.00  0.00    0.21  1.00  0.35      2.4     65.7\n",
      "     6          1632726.237      723    0    5    1.00  0.99  1.00    0.00  0.00  0.00    0.42  1.00  0.59      1.0     39.6\n",
      "     7          1632728.123      731    0    6    1.00  0.99  1.00    0.00  0.00  0.00    0.50  1.00  0.67      0.8     49.3\n",
      "     8          1632724.979      768    0    5    1.00  0.99  0.99    0.00  0.00  0.00    0.42  1.00  0.59      1.2     34.2\n",
      "     9          1632727.496      741    1    3    1.00  0.99  1.00    0.00  0.00  0.00    0.30  1.00  0.46      0.9     46.3\n",
      "\n",
      "\n",
      "userNr: 1030 userId: 61632ace1e32557a62017bba\n",
      "recordingNr       file_name        N    S    V   Nprec  Nrec  Nfsc   Sprec  Srec  Sfsc   Vprec  Vrec  Vfsc     Err%   Noise%\n",
      "     0          1633439.208      962  101    0    0.99  0.98  0.99    0.70  0.32  0.44    0.00  0.00  0.00      8.0     63.1\n",
      "     1          1633436.702      999   97    0    1.00  0.91  0.95    0.22  0.15  0.18    0.00  0.00  0.00     15.9     54.7\n",
      "     2          1633441.087      987   88    0    1.00  0.93  0.96    0.41  0.43  0.42    0.00  0.00  0.00     11.5     46.2\n",
      "     3          1633437.957      959   85    0    0.99  0.97  0.98    0.59  0.28  0.38    0.00  0.00  0.00      8.1     53.5\n",
      "     4           1633428.56     1008   84    0    0.99  0.93  0.96    0.42  0.43  0.42    0.00  0.00  0.00     10.6     48.4\n",
      "     5          1633442.966      899   83    0    1.00  0.97  0.99    0.62  0.31  0.42    0.00  0.00  0.00      8.1     46.0\n",
      "     6          1633429.186     1092   83    0    0.99  0.76  0.86    0.03  0.06  0.04    0.00  0.00  0.00     29.2     53.9\n",
      "     7          1633444.847      940   70    3    1.00  0.95  0.97    0.19  0.09  0.12    0.02  0.67  0.04     11.1     62.9\n",
      "     8          1633442.341     1006   70    1    1.00  0.92  0.96    0.18  0.17  0.17    0.01  1.00  0.03     12.4     50.0\n",
      "     9          1633441.716      952   70    1    0.99  0.97  0.98    0.67  0.54  0.60    0.03  1.00  0.06      5.6     50.7\n",
      "\n",
      "\n",
      "userNr: 1032 userId: 61632b201e32557db9017bbc\n",
      "recordingNr       file_name        N    S    V   Nprec  Nrec  Nfsc   Sprec  Srec  Sfsc   Vprec  Vrec  Vfsc     Err%   Noise%\n",
      "     0          1633540.147      647    0    0    1.00  0.98  0.99    0.00  0.00  0.00    0.00  0.00  0.00      1.5     53.9\n",
      "\n",
      "\n",
      "userNr: 1042 userId: 617509a66d4fb46d3b637744\n",
      "recordingNr       file_name        N    S    V   Nprec  Nrec  Nfsc   Sprec  Srec  Sfsc   Vprec  Vrec  Vfsc     Err%   Noise%\n",
      "     0          1634730.312      817    0   12    1.00  1.00  1.00    0.00  0.00  0.00    1.00  0.92  0.96      0.4     79.4\n",
      "     1          1634733.451      807    0   11    1.00  1.00  1.00    0.00  0.00  0.00    1.00  0.82  0.90      0.4     46.2\n",
      "     2          1634729.058      814    0   11    1.00  0.99  1.00    0.00  0.00  0.00    0.82  0.82  0.82      1.0     60.6\n",
      "     3          1634728.431      825    1    7    1.00  0.99  0.99    0.20  1.00  0.33    0.54  1.00  0.70      1.2     70.7\n",
      "     4          1634736.586      732    0    4    1.00  0.99  1.00    0.00  0.00  0.00    0.60  0.75  0.67      0.7     68.1\n",
      "     5          1634724.665      822    0    5    1.00  1.00  1.00    0.00  0.00  0.00    0.83  1.00  0.91      0.1     41.0\n",
      "     6          1634729.685      818    0    4    1.00  1.00  1.00    0.00  0.00  0.00    1.00  0.50  0.67      0.2     75.3\n",
      "     7          1634732.824      771    0    3    1.00  1.00  1.00    0.00  0.00  0.00    1.00  1.00  1.00      0.1     37.0\n",
      "     8           1634731.57      797    0    4    1.00  1.00  1.00    0.00  0.00  0.00    1.00  0.75  0.86      0.1     67.4\n",
      "     9          1634742.234      713    0    2    1.00  1.00  1.00    0.00  0.00  0.00    0.67  1.00  0.80      0.3     44.2\n",
      "\n",
      "\n",
      "userNr: 1045 userId: 617ee9d16878b6710c6b47b1\n",
      "recordingNr       file_name        N    S    V   Nprec  Nrec  Nfsc   Sprec  Srec  Sfsc   Vprec  Vrec  Vfsc     Err%   Noise%\n",
      "     0          1635191.425      810    0    0    1.00  1.00  1.00    0.00  0.00  0.00    0.00  0.00  0.00      0.4     71.4\n",
      "\n",
      "\n",
      "userNr: 1047 userId: 617eea296878b60aff6b47b3\n",
      "recordingNr       file_name        N    S    V   Nprec  Nrec  Nfsc   Sprec  Srec  Sfsc   Vprec  Vrec  Vfsc     Err%   Noise%\n",
      "     0          1635144.614      607    0    0    1.00  0.98  0.99    0.00  0.00  0.00    0.00  0.00  0.00      2.0     89.3\n",
      "\n",
      "\n",
      "userNr: 1052 userId: 6190d45b3cd1d2e695303ce8\n",
      "recordingNr       file_name        N    S    V   Nprec  Nrec  Nfsc   Sprec  Srec  Sfsc   Vprec  Vrec  Vfsc     Err%   Noise%\n",
      "     0          1636486.195      562    2    0    1.00  1.00  1.00    1.00  1.00  1.00    0.00  0.00  0.00      0.0     97.3\n",
      "     1          1636488.668      572    2    0    1.00  1.00  1.00    1.00  0.50  0.67    0.00  0.00  0.00      0.2     39.0\n",
      "     2          1636481.252      652    2    0    1.00  0.92  0.96    0.04  1.00  0.07    0.00  0.00  0.00      8.0     42.8\n",
      "     3          1636489.286      688    2    0    1.00  0.98  0.99    0.06  0.50  0.11    0.00  0.00  0.00      2.5     65.5\n",
      "     4          1636487.434      580    2    0    1.00  0.99  1.00    0.00  0.00  0.00    0.00  0.00  0.00      0.9     15.3\n",
      "     5           1636480.01      625    1    0    1.00  0.99  0.99    0.00  0.00  0.00    0.00  0.00  0.00      1.3     10.1\n",
      "     6          1636491.143      533    1    0    1.00  1.00  1.00    0.00  0.00  0.00    0.00  0.00  0.00      0.4     80.1\n",
      "     7          1636490.526      538    1    0    1.00  0.99  1.00    1.00  1.00  1.00    0.00  0.00  0.00      0.7     77.4\n",
      "     8          1636485.578      577    1    0    1.00  1.00  1.00    1.00  1.00  1.00    0.00  0.00  0.00      0.0     94.8\n",
      "     9          1636478.772      644    1    0    1.00  0.97  0.99    0.00  0.00  0.00    0.00  0.00  0.00      2.8     35.5\n",
      "\n",
      "\n",
      "userNr: 1054 userId: 6190d4e63cd1d227c1303cea\n",
      "recordingNr       file_name        N    S    V   Nprec  Nrec  Nfsc   Sprec  Srec  Sfsc   Vprec  Vrec  Vfsc     Err%   Noise%\n",
      "     0          1636406.984      595    2    0    1.00  1.00  1.00    1.00  0.50  0.67    0.00  0.00  0.00      0.5     42.5\n",
      "     1          1636414.518      641    3    0    1.00  1.00  1.00    1.00  0.33  0.50    0.00  0.00  0.00      0.6     74.2\n",
      "     2          1636419.539      557    2    1    1.00  0.99  0.99    0.50  0.50  0.50    0.00  0.00  0.00      1.4    100.0\n",
      "     3          1636418.907      543    2    0    1.00  1.00  1.00    1.00  1.00  1.00    0.00  0.00  0.00      0.4    100.0\n",
      "     4          1636423.305      629    2    0    1.00  1.00  1.00    0.00  0.00  0.00    0.00  0.00  0.00      0.8     60.9\n",
      "     5          1636409.501      569    1    0    1.00  1.00  1.00    1.00  1.00  1.00    0.00  0.00  0.00      0.0     99.6\n",
      "     6          1636422.678      581    1    0    1.00  1.00  1.00    0.00  0.00  0.00    0.00  0.00  0.00      0.3    100.0\n",
      "     7          1636422.051      581    1    0    1.00  1.00  1.00    1.00  1.00  1.00    0.00  0.00  0.00      0.0    100.0\n",
      "     8          1636411.382      593    1    0    1.00  1.00  1.00    1.00  1.00  1.00    0.00  0.00  0.00      0.0    100.0\n",
      "     9           1636418.28      541    1    0    1.00  1.00  1.00    1.00  1.00  1.00    0.00  0.00  0.00      0.0     97.8\n",
      "\n",
      "\n",
      "userNr: 1060 userId: 619b4c3eb48132c6194e3dac\n",
      "recordingNr       file_name        N    S    V   Nprec  Nrec  Nfsc   Sprec  Srec  Sfsc   Vprec  Vrec  Vfsc     Err%   Noise%\n",
      "     0          1637025.544      710    2    0    1.00  0.78  0.88    0.00  0.00  0.00    0.00  0.00  0.00     22.2    100.0\n",
      "     1          1637023.072      703    2    0    1.00  0.79  0.88    0.00  0.00  0.00    0.00  0.00  0.00     21.6    100.0\n",
      "     2          1637022.455      711    0    0    1.00  0.89  0.94    0.00  0.00  0.00    0.00  0.00  0.00     11.3     55.4\n",
      "\n",
      "\n",
      "userNr: 1071 userId: 61b320c5cf0f342a0acb1c95\n",
      "recordingNr       file_name        N    S    V   Nprec  Nrec  Nfsc   Sprec  Srec  Sfsc   Vprec  Vrec  Vfsc     Err%   Noise%\n",
      "     0           1638800.54      698    0   22    1.00  1.00  1.00    0.00  0.00  0.00    1.00  0.41  0.58      1.8     72.8\n",
      "     1          1638796.812      685    0   21    1.00  0.99  0.99    0.00  0.00  0.00    0.73  0.52  0.61      2.4     52.7\n",
      "     2          1638803.644      690    0   21    1.00  0.99  0.99    0.00  0.00  0.00    0.71  0.48  0.57      2.7     51.3\n",
      "     3          1638793.707      661    0   19    1.00  1.00  1.00    0.00  0.00  0.00    1.00  0.47  0.64      1.5     59.3\n",
      "     4           1638799.92      760    0   18    1.00  0.98  0.99    0.00  0.00  0.00    0.55  0.33  0.41      3.5     52.7\n",
      "     5          1638804.264      667    0   16    1.00  0.99  0.99    0.00  0.00  0.00    0.57  0.50  0.53      2.2     73.9\n",
      "     6           1638801.16      715    0   16    1.00  0.99  0.99    0.00  0.00  0.00    0.56  0.56  0.56      2.3     71.8\n",
      "     7          1638798.056      718    0   16    1.00  0.99  0.99    0.00  0.00  0.00    0.78  0.44  0.56      2.3     70.8\n",
      "     8          1638796.192      709    0   16    1.00  0.93  0.96    0.00  0.00  0.00    0.15  0.38  0.21      8.3     55.7\n",
      "     9          1638798.676      682    0   16    1.00  1.00  1.00    0.00  0.00  0.00    0.92  0.75  0.83      1.0     55.6\n",
      "\n",
      "\n",
      "userNr: 1072 userId: 61b320e9cf0f344a0fcb1c96\n",
      "recordingNr       file_name        N    S    V   Nprec  Nrec  Nfsc   Sprec  Srec  Sfsc   Vprec  Vrec  Vfsc     Err%   Noise%\n",
      "     0          1638909.955      463    2  153    1.00  1.00  1.00    0.00  0.00  0.00    1.00  1.00  1.00      0.3    100.0\n",
      "     1          1638917.396      478    1  137    1.00  1.00  1.00    0.00  0.00  0.00    1.00  0.99  1.00      0.3     99.5\n",
      "     2          1638913.675      501    1  129    1.00  1.00  1.00    0.00  0.00  0.00    1.00  1.00  1.00      0.2     98.4\n",
      "     3          1638909.332      481    2  126    1.00  1.00  1.00    1.00  0.50  0.67    1.00  1.00  1.00      0.2    100.0\n",
      "     4          1638912.435      481    0  127    1.00  1.00  1.00    0.00  0.00  0.00    0.98  1.00  0.99      0.3     94.7\n",
      "     5          1638911.815      485    2  121    1.00  1.00  1.00    0.00  0.00  0.00    0.99  0.98  0.99      0.7    100.0\n",
      "     6          1638916.776      492    0  122    1.00  1.00  1.00    0.00  0.00  0.00    1.00  1.00  1.00      0.0     97.6\n",
      "     7           1638918.64      497    0  116    1.00  1.00  1.00    0.00  0.00  0.00    0.99  1.00  1.00      0.2     98.4\n",
      "     8          1638916.156      536    0  113    1.00  1.00  1.00    0.00  0.00  0.00    1.00  1.00  1.00      0.0     88.6\n",
      "     9          1638910.575      523    2  110    1.00  1.00  1.00    1.00  0.50  0.67    1.00  0.99  1.00      0.3     94.8\n",
      "\n",
      "\n",
      "userNr: 1077 userId: 61d9ab50f552314db38e85e2\n",
      "recordingNr       file_name        N    S    V   Nprec  Nrec  Nfsc   Sprec  Srec  Sfsc   Vprec  Vrec  Vfsc     Err%   Noise%\n",
      "     0          1640633.548      510   83    0    0.88  1.00  0.93    1.00  0.10  0.18    0.00  0.00  0.00     12.6     74.7\n",
      "     1          1640637.299      501   84    0    0.87  1.00  0.93    1.00  0.11  0.19    0.00  0.00  0.00     12.8     57.6\n",
      "     2          1640632.924      520   69    0    0.89  1.00  0.94    1.00  0.07  0.14    0.00  0.00  0.00     11.0    100.0\n",
      "     3          1640636.674      545   49    0    0.92  1.00  0.96    1.00  0.06  0.12    0.00  0.00  0.00      7.7     46.6\n",
      "     4          1640634.173      556   35    0    0.95  1.00  0.97    0.86  0.17  0.29    0.00  0.00  0.00      5.1    100.0\n",
      "     5           1640636.05      569   22    0    0.97  1.00  0.98    1.00  0.14  0.24    0.00  0.00  0.00      3.2     94.4\n",
      "     6          1640632.299      584   16    0    0.98  0.99  0.98    0.83  0.31  0.45    0.00  0.00  0.00      3.0     99.2\n",
      "     7           1640650.27      473   13    0    0.97  1.00  0.99    0.00  0.00  0.00    0.00  0.00  0.00      2.9     40.7\n",
      "     8          1640634.797      581    9    0    0.99  1.00  0.99    1.00  0.22  0.36    0.00  0.00  0.00      1.2    100.0\n",
      "     9          1640635.422      591    4    0    0.99  1.00  1.00    0.00  0.00  0.00    0.00  0.00  0.00      0.8     88.1\n",
      "\n",
      "\n",
      "userNr: 1082 userId: 61fe66b5cd448a02d913470e\n",
      "recordingNr       file_name        N    S    V   Nprec  Nrec  Nfsc   Sprec  Srec  Sfsc   Vprec  Vrec  Vfsc     Err%   Noise%\n",
      "     0          1643240.229      739    0    0    1.00  1.00  1.00    0.00  0.00  0.00    0.00  0.00  0.00      0.0     51.3\n",
      "\n",
      "Rezultatų pasiskirstymas per įrašus įrašytas į:  D:\\DI\\Data\\MIT&ZIVE\\VU\\DUOM_VU\\rezultatai_test_subjcode_lst\\rezultatu_pasiskirstymas_per_irasus.csv\n"
     ]
    }
   ],
   "source": [
    "# Rezultatų pasiskirstymas per pacientus ir jų įrašus\n",
    "# Skaičiuojama visoms 3 klasėms Precision(tikslumas), Recall (atgaminimas), Fscore (F rodiklis)\n",
    "# \n",
    "# https://towardsdatascience.com/you-dont-always-have-to-loop-through-rows-in-pandas-22a970b347ac\n",
    "# \n",
    "pd.set_option(\"display.max_rows\", 6000, \"display.max_columns\", 18)\n",
    "pd.set_option('display.width', 1000)\n",
    "\n",
    "# Rezultatų pasiskirstymas per pacientų įrašus\n",
    "print(\"\\n\\nRezultatų pasiskirstymas per pacientų įrašus\")\n",
    "\n",
    "# Pasiruošimas\n",
    "class_names = ['N', 'S', 'V']\n",
    "n_classes = len(class_names)\n",
    "df_rec_errors = pd.DataFrame({'userNr':pd.Series(dtype='int'),\n",
    "    'recordingNr':pd.Series(dtype='int'), 'file_name':pd.Series(dtype='str'),  \n",
    "    'N':pd.Series(dtype='int'), 'S':pd.Series(dtype='int'), 'V':pd.Series(dtype='int'),\n",
    "    'Nprec':pd.Series(dtype='float') , 'Nrec':pd.Series(dtype='float'), 'Nfsc':pd.Series(dtype='float'),\n",
    "    'Sprec':pd.Series(dtype='float') , 'Srec':pd.Series(dtype='float'), 'Sfsc':pd.Series(dtype='float'),\n",
    "    'Vprec':pd.Series(dtype='float') , 'Vrec':pd.Series(dtype='float'), 'Vfsc':pd.Series(dtype='float'), \n",
    "     'Err%':pd.Series(dtype='float'), 'Noise%':pd.Series(dtype='float')})\n",
    "# Pandas Empty DataFrame with Specific Column Types\n",
    "# https://sparkbyexamples.com/pandas/pandas-empty-dataframe-with-specific-column-types/\n",
    "\n",
    "rows_list = []\n",
    "\n",
    "# Sugrupuojame eilutes pagal 'userId','recordingId', suskaičiuojame, kiek kiekviename įraše\n",
    "# iš viso yra klasifikuojamų sekų (labels) ir kiek padaryta klaidų (errors).\n",
    "# Grupavimo objektą paverčiame į normalų dataframe objektą\n",
    "\n",
    "grouped  = df_seq_errors.groupby(['userNr','recordingNr'])\n",
    "print(f'Pacientų įrašų: {grouped.ngroups}')\n",
    "# print(f'{grouped.size()=}')\n",
    "\n",
    "for key in grouped.groups:\n",
    "# https://stackoverflow.com/questions/62041850/looping-over-pandas-groupby-output-when-grouping-by-multiple-columns-and-missin\n",
    "\n",
    "    # print(f'\\nGroup: {key}\\n{df_seq_errors.loc[grouped.groups[key]]}')\n",
    "    userNr = key[0]\n",
    "    recordingNr = key[1]\n",
    "    file_name = get_filename(rec_dir, create_SubjCode(userNr, recordingNr))\n",
    "    userId = get_userId(rec_dir, userNr)\n",
    "\n",
    "    y_test = df_seq_errors.loc[grouped.groups[key]]['labels'].to_numpy(dtype=int)\n",
    "    y_pred = df_seq_errors.loc[grouped.groups[key]]['preds'].to_numpy(dtype=int)\n",
    "\n",
    "    Err = get_error(y_test, y_pred)\n",
    "\n",
    "    noise_arr = df_seq_errors.loc[grouped.groups[key]]['noises'].to_numpy(dtype=int)\n",
    "    Noise = np.sum(noise_arr, axis=0)/noise_arr.shape[0]*100.\n",
    "\n",
    "\n",
    "    # *********************** Testavimui *******************************************************************\n",
    "    # acc = accuracy_score(y_test, y_pred)\n",
    "    # print(f\"userNr: {userNr} recordingNr:  {recordingNr} Accuracy: {acc:.2f}\")\n",
    "    # cnf_matrix = confusion_matrix_modified(y_test, y_pred, n_classes)\n",
    "    # show_confusion_matrix(cnf_matrix, class_names)\n",
    "    # https://towardsdatascience.com/confusion-matrix-for-your-multi-class-machine-learning-model-ff9aa3bf7826\n",
    "    # *********************************************************************************************************\n",
    "\n",
    "    prec,rec,fsc,sup = precision_recall_fscore_support(y_test, y_pred, labels=[0, 1, 2], zero_division=0)\n",
    "    \n",
    "    dict_rec_errors = {'userNr':int(userNr), 'recordingNr':recordingNr, 'file_name':file_name,\n",
    "    'N':sup[0], 'S':sup[1], 'V':sup[2],\n",
    "    'Nprec':prec[0], 'Nrec':rec[0], 'Nfsc':fsc[0],\n",
    "    'Sprec':prec[1], 'Srec':rec[1], 'Sfsc':fsc[1],\n",
    "    'Vprec':prec[2], 'Vrec':rec[2], 'Vfsc':fsc[2], \n",
    "     'Err%':Err, 'Noise%':Noise\n",
    "    }\n",
    "    rows_list.append(dict_rec_errors)\n",
    "\n",
    "df_rec_errors =  pd.DataFrame(rows_list) \n",
    "\n",
    "# Išvedame suformuotą masyvą\n",
    "grouped  = df_rec_errors.groupby('userNr')\n",
    "for userNr, group in grouped:\n",
    "    # print(group.dtypes)\n",
    "    print(\"\\n\")\n",
    "    userId = get_userId(rec_dir, userNr)\n",
    "    print(f\"{'userNr:'} {userNr} {'userId:'} {userId}\" )\n",
    "    tit1 = f\"{'recordingNr':>6} {'file_name':>15} {'N':>8} {'S':>4} {'V':>4}\"\n",
    "    tit2 = f\"{'Nprec':>8} {'Nrec':>5} {'Nfsc':>5}\"\n",
    "    tit3 = f\"{'Sprec':>8} {'Srec':>5} {'Sfsc':>5}\"\n",
    "    tit4 = f\"{'Vprec':>8} {'Vrec':>5} {'Vfsc':>5} {'Err%':>8} {'Noise%':>8}\"\n",
    "    print(tit1+tit2+tit3+tit4)\n",
    "\n",
    "    for idx, row in group.iterrows():\n",
    "        str1 =f\"{int(row['recordingNr']):>6} {str(row['file_name']):>20} {int(row['N']):>8} {int(row['S']):4} {int(row['V']):4}\" \n",
    "        str2 = f\"{row['Nprec']:>8.2f} {row['Nrec']:5.2f} {row['Nfsc']:5.2f}\"\n",
    "        str3 = f\"{row['Sprec']:>8.2f} {row['Srec']:5.2f} {row['Sfsc']:5.2f}\"\n",
    "        str4 = f\"{row['Vprec']:>8.2f} {row['Vrec']:5.2f} {row['Vfsc']:5.2f} {row['Err%']:8.1f} {row['Noise%']:8.1f}\"\n",
    "        print(str1+str2+str3+str4)\n",
    "\n",
    "filepath = Path(path_for_results, 'rezultatu_pasiskirstymas_per_irasus.csv') \n",
    "df_rec_errors.to_csv(filepath)    \n",
    "print(f'\\nRezultatų pasiskirstymas per įrašus įrašytas į:  {filepath}')\n"
   ]
  }
 ],
 "metadata": {
  "kernelspec": {
   "display_name": "Python 3.9.12 ('ecg')",
   "language": "python",
   "name": "python3"
  },
  "language_info": {
   "codemirror_mode": {
    "name": "ipython",
    "version": 3
   },
   "file_extension": ".py",
   "mimetype": "text/x-python",
   "name": "python",
   "nbconvert_exporter": "python",
   "pygments_lexer": "ipython3",
   "version": "3.9.12"
  },
  "vscode": {
   "interpreter": {
    "hash": "1f36dab35816871602f0a4fffa6415a4e758bca001397bb3d9f7e90aab6637a5"
   }
  }
 },
 "nbformat": 4,
 "nbformat_minor": 4
}
