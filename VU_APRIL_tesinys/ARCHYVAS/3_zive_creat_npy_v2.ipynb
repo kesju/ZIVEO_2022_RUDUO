{
 "cells": [
  {
   "cell_type": "code",
   "execution_count": 1,
   "metadata": {},
   "outputs": [
    {
     "name": "stdout",
     "output_type": "stream",
     "text": [
      "OS in my system :  win32\n",
      "\n",
      "Skriptas zive įrašų transformacijai\n",
      "\n",
      "Išeities duomenys skaitomi iš: C:\\DI\\Data\\MIT&ZIVE\\DUOM_VU\\records_selected\n",
      "Transformuoti duomenys rašomi į: C:\\DI\\Data\\MIT&ZIVE\\DUOM_VU\\records_npy\n",
      "\n",
      "\n"
     ]
    }
   ],
   "source": [
    "# Atnaujintas variantas, po to, kaip padaryti pakeitimai failų varduose 2022 03 26\n",
    "#\n",
    "# iš originalių Zive įrašų sukuriami įrašai *.npy ir anotacijų failai *.json.\n",
    "\n",
    "# Planas:\n",
    "# sukuriame tuščią dataframe df_list_selected, iš kurio darysime naują list.json\n",
    "# Nuskaitome iš bendros talpyklos list.json\n",
    "# pasidarom sąrašą userId:recordId1, recordId2,.... \n",
    "# ciklas per visus pacientus userId:\n",
    "#   suformuojame sąrašą recordId: ekstrasistolių skaičius ir surušiuojame pagal ekstrasistolių\n",
    "#   skaičių mažėjančia tvarka\n",
    "#   Surikiavus įrašus, įrašus atrenkame tokiu būdu:\n",
    "# \t\ta. Atrenkame pirmiausiai tuos įrašus, kurie turi daugiausiai ekstrasistolių. \n",
    "#       Jei visi įrašai turi ekstrasistolių, tai atrenkame pirmus 10 (iš surikiuotų įrašų pagal ekstrasistolių kiekį).\n",
    "#       Jei ne visi įrašai turi ekstrasistoles, tai atrenkame, tik tuos įrašus, kurie turi ekstrasistoles\n",
    "#       (bet ne daugiau 10 įrašų), ir jei įrašų atrinkta ne daugiau 9, pridedame dar vieną įrašą be ekstrasistolių.\n",
    "# \t\tb. Jei pacientas ekstrasistolių neturi, tai atrenkame ne daugiau vieno (pirmo) to paciento įrašo\n",
    "\n",
    "#   Atrinkus įrašus, papildome df_list_selected  \n",
    "# ciklo per pacientus pabaiga\n",
    "# įrašome visus atrinkus įrašus į record_selected\n",
    "# įrašome df_list_selected į list.json.\n",
    "# išvedame į ekraną suvestinę ir df_list_selected\n",
    "\n",
    "# SubjCode = userNr + recordingNr -- reikia taisyti /////////////////////////////////////////////////////\n",
    "\n",
    "import shutil, sys\n",
    "from icecream import ic\n",
    "from pathlib import Path\n",
    "import pandas as pd\n",
    "import numpy as np\n",
    "\n",
    "import json\n",
    "from zive_util_vu import zive_read_file_1ch, create_dir, create_SubjCode\n",
    "\n",
    "\n",
    "def get_userNr(rec_dir, userId):\n",
    "    # Panaudodami df masyvą df_transl su įrašų numeriais iš ZIVE numerių gauname įrašų eilės numerius\n",
    "    # Jei paciento Nr nėra - užvedamas įrašas\n",
    "    \n",
    "    # Patikriname, ar df_transl egzistuoja. Jei ne, sukuriame ir įrašome pirmą įraša\n",
    "    file_path = Path(rec_dir, 'df_transl.csv')\n",
    "    if (not file_path.exists()):\n",
    "        # Paruošiame masyvą - žodyną numerių vertimui iš userId, registrationId į userNr, registrationNr ir atgal\n",
    "        # ir įrašome į diską\n",
    "        first_rec = {'userId':[userId], 'userNr':[1000] }\n",
    "        df_transl = pd.DataFrame(first_rec)\n",
    "        file_path = Path(rec_dir, 'df_transl.csv')\n",
    "        df_transl.to_csv(file_path)\n",
    "        return df_transl.loc[0, 'userNr']\n",
    "\n",
    "    # Jei egzistuoja, nuskaitome vardų žodyną iš rec_dir aplanko\n",
    "    file_path = Path(rec_dir, 'df_transl.csv')\n",
    "    df_transl = pd.read_csv(file_path, index_col=0)\n",
    "    # print(df_transl)\n",
    "    # Ieškome, ar yra įrašas su userId\n",
    "    # Jei userId nerandame, sukuriame naują įrašą su userId, userNr \n",
    "    if (df_transl.loc[(df_transl['userId'] == userId)]).empty:\n",
    "        userNr = df_transl.loc[len(df_transl)-1, 'userNr'] + 1\n",
    "        print(\"userNr=\", userNr)\n",
    "        new_row = {'userId':userId, 'userNr':userNr}\n",
    "        df_transl = df_transl.append(new_row, ignore_index=True)\n",
    "        file_path = Path(rec_dir, 'df_transl.csv')\n",
    "        df_transl.to_csv(file_path)\n",
    "        return userNr\n",
    "    else:\n",
    "        # Jei userId randame, gražiname userNr\n",
    "        row = df_transl.loc[(df_transl['userId'] == userId)]\n",
    "        return row['userNr'].values[0]\n",
    "\n",
    "\n",
    "import warnings\n",
    "# warnings.filterwarnings(\"ignore\")\n",
    "\n",
    "my_os=sys.platform\n",
    "print(\"OS in my system : \",my_os)\n",
    "\n",
    "if my_os != 'linux':\n",
    "    OS = 'Windows'\n",
    "else:  \n",
    "    OS = 'Ubuntu'\n",
    "\n",
    "# Bendras duomenų aplankas, kuriame patalpintas subfolderis name_db\n",
    "\n",
    "if OS == 'Windows':\n",
    "    Duomenu_aplankas = 'C:\\DI\\Data\\MIT&ZIVE'   # variantas: Windows\n",
    "else:\n",
    "    Duomenu_aplankas = '/home/kesju/DI/Data/MIT&ZIVE/VU'   # arba variantas: UBUNTU, be Docker\n",
    "\n",
    "# jei variantas Docker pasirenkame:\n",
    "# Duomenu_aplankas = '/Data/MIT&ZIVE'\n",
    "\n",
    "# Vietinės talpyklos aplankas\n",
    "db_folder = 'DUOM_VU'\n",
    "\n",
    "# Nuoroda į aplanką su EKG duomenų rinkiniu\n",
    "db_path = Path(Duomenu_aplankas, db_folder)\n",
    "\n",
    "rec_dir = Path(db_path,'records_selected')\n",
    "\n",
    "# Nuoroda į aplanką su transformuotu EKG duomenų rinkiniu\n",
    "rec_dir_npy = Path(db_path, 'records_npy')\n",
    "\n",
    "# Paliekamų anotacijų sąrašas\n",
    "annot_list = ['N','S','V','U']\n",
    "\n",
    "# Diskretizavimo dažnis\n",
    "fs_zive = 200\n",
    "\n",
    "print(\"\\nSkriptas zive įrašų transformacijai\\n\")\n",
    "\n",
    "print(\"Išeities duomenys skaitomi iš:\", rec_dir)\n",
    "print(\"Transformuoti duomenys rašomi į:\", rec_dir_npy)\n",
    "print(\"\\n\")\n"
   ]
  },
  {
   "cell_type": "code",
   "execution_count": 2,
   "metadata": {},
   "outputs": [
    {
     "name": "stdout",
     "output_type": "stream",
     "text": [
      "Directory '/home/kesju/DI/Data/MIT&ZIVE/VU/DUOM_VU/records_npy' created successfully\n",
      "<pandas.core.groupby.generic.DataFrameGroupBy object at 0x7f59ad7ed4c0>\n",
      "\n",
      "\n",
      "userNr= 1001\n",
      "userNr= 1002\n"
     ]
    },
    {
     "name": "stderr",
     "output_type": "stream",
     "text": [
      "/tmp/ipykernel_11311/1419352098.py:62: FutureWarning: The frame.append method is deprecated and will be removed from pandas in a future version. Use pandas.concat instead.\n",
      "  df_transl = df_transl.append(new_row, ignore_index=True)\n",
      "/tmp/ipykernel_11311/1419352098.py:62: FutureWarning: The frame.append method is deprecated and will be removed from pandas in a future version. Use pandas.concat instead.\n",
      "  df_transl = df_transl.append(new_row, ignore_index=True)\n",
      "/tmp/ipykernel_11311/1419352098.py:62: FutureWarning: The frame.append method is deprecated and will be removed from pandas in a future version. Use pandas.concat instead.\n",
      "  df_transl = df_transl.append(new_row, ignore_index=True)\n"
     ]
    },
    {
     "name": "stdout",
     "output_type": "stream",
     "text": [
      "userNr= 1003\n",
      "userNr= 1004\n",
      "userNr= 1005\n",
      "userNr= 1006\n"
     ]
    },
    {
     "name": "stderr",
     "output_type": "stream",
     "text": [
      "/tmp/ipykernel_11311/1419352098.py:62: FutureWarning: The frame.append method is deprecated and will be removed from pandas in a future version. Use pandas.concat instead.\n",
      "  df_transl = df_transl.append(new_row, ignore_index=True)\n",
      "/tmp/ipykernel_11311/1419352098.py:62: FutureWarning: The frame.append method is deprecated and will be removed from pandas in a future version. Use pandas.concat instead.\n",
      "  df_transl = df_transl.append(new_row, ignore_index=True)\n",
      "/tmp/ipykernel_11311/1419352098.py:62: FutureWarning: The frame.append method is deprecated and will be removed from pandas in a future version. Use pandas.concat instead.\n",
      "  df_transl = df_transl.append(new_row, ignore_index=True)\n"
     ]
    },
    {
     "name": "stdout",
     "output_type": "stream",
     "text": [
      "userNr= 1007\n",
      "userNr= 1008\n",
      "userNr= 1009\n",
      "userNr= 1010\n"
     ]
    },
    {
     "name": "stderr",
     "output_type": "stream",
     "text": [
      "/tmp/ipykernel_11311/1419352098.py:62: FutureWarning: The frame.append method is deprecated and will be removed from pandas in a future version. Use pandas.concat instead.\n",
      "  df_transl = df_transl.append(new_row, ignore_index=True)\n",
      "/tmp/ipykernel_11311/1419352098.py:62: FutureWarning: The frame.append method is deprecated and will be removed from pandas in a future version. Use pandas.concat instead.\n",
      "  df_transl = df_transl.append(new_row, ignore_index=True)\n",
      "/tmp/ipykernel_11311/1419352098.py:62: FutureWarning: The frame.append method is deprecated and will be removed from pandas in a future version. Use pandas.concat instead.\n",
      "  df_transl = df_transl.append(new_row, ignore_index=True)\n",
      "/tmp/ipykernel_11311/1419352098.py:62: FutureWarning: The frame.append method is deprecated and will be removed from pandas in a future version. Use pandas.concat instead.\n",
      "  df_transl = df_transl.append(new_row, ignore_index=True)\n"
     ]
    },
    {
     "name": "stdout",
     "output_type": "stream",
     "text": [
      "userNr= 1011\n",
      "userNr= 1012\n",
      "userNr= 1013\n"
     ]
    },
    {
     "name": "stderr",
     "output_type": "stream",
     "text": [
      "/tmp/ipykernel_11311/1419352098.py:62: FutureWarning: The frame.append method is deprecated and will be removed from pandas in a future version. Use pandas.concat instead.\n",
      "  df_transl = df_transl.append(new_row, ignore_index=True)\n",
      "/tmp/ipykernel_11311/1419352098.py:62: FutureWarning: The frame.append method is deprecated and will be removed from pandas in a future version. Use pandas.concat instead.\n",
      "  df_transl = df_transl.append(new_row, ignore_index=True)\n",
      "/tmp/ipykernel_11311/1419352098.py:62: FutureWarning: The frame.append method is deprecated and will be removed from pandas in a future version. Use pandas.concat instead.\n",
      "  df_transl = df_transl.append(new_row, ignore_index=True)\n"
     ]
    },
    {
     "name": "stdout",
     "output_type": "stream",
     "text": [
      "userNr= 1014\n",
      "userNr= 1015\n"
     ]
    },
    {
     "name": "stderr",
     "output_type": "stream",
     "text": [
      "/tmp/ipykernel_11311/1419352098.py:62: FutureWarning: The frame.append method is deprecated and will be removed from pandas in a future version. Use pandas.concat instead.\n",
      "  df_transl = df_transl.append(new_row, ignore_index=True)\n",
      "/tmp/ipykernel_11311/1419352098.py:62: FutureWarning: The frame.append method is deprecated and will be removed from pandas in a future version. Use pandas.concat instead.\n",
      "  df_transl = df_transl.append(new_row, ignore_index=True)\n"
     ]
    },
    {
     "name": "stdout",
     "output_type": "stream",
     "text": [
      "userNr= 1016\n",
      "userNr= 1017\n"
     ]
    },
    {
     "name": "stderr",
     "output_type": "stream",
     "text": [
      "/tmp/ipykernel_11311/1419352098.py:62: FutureWarning: The frame.append method is deprecated and will be removed from pandas in a future version. Use pandas.concat instead.\n",
      "  df_transl = df_transl.append(new_row, ignore_index=True)\n",
      "/tmp/ipykernel_11311/1419352098.py:62: FutureWarning: The frame.append method is deprecated and will be removed from pandas in a future version. Use pandas.concat instead.\n",
      "  df_transl = df_transl.append(new_row, ignore_index=True)\n"
     ]
    },
    {
     "name": "stdout",
     "output_type": "stream",
     "text": [
      "userNr= 1018\n",
      "userNr= 1019\n",
      "userNr= 1020\n",
      "userNr= 1021\n"
     ]
    },
    {
     "name": "stderr",
     "output_type": "stream",
     "text": [
      "/tmp/ipykernel_11311/1419352098.py:62: FutureWarning: The frame.append method is deprecated and will be removed from pandas in a future version. Use pandas.concat instead.\n",
      "  df_transl = df_transl.append(new_row, ignore_index=True)\n",
      "/tmp/ipykernel_11311/1419352098.py:62: FutureWarning: The frame.append method is deprecated and will be removed from pandas in a future version. Use pandas.concat instead.\n",
      "  df_transl = df_transl.append(new_row, ignore_index=True)\n",
      "/tmp/ipykernel_11311/1419352098.py:62: FutureWarning: The frame.append method is deprecated and will be removed from pandas in a future version. Use pandas.concat instead.\n",
      "  df_transl = df_transl.append(new_row, ignore_index=True)\n",
      "/tmp/ipykernel_11311/1419352098.py:62: FutureWarning: The frame.append method is deprecated and will be removed from pandas in a future version. Use pandas.concat instead.\n",
      "  df_transl = df_transl.append(new_row, ignore_index=True)\n"
     ]
    },
    {
     "name": "stdout",
     "output_type": "stream",
     "text": [
      "userNr= 1022\n",
      "userNr= 1023\n",
      "userNr= 1024\n",
      "userNr= 1025\n",
      "userNr= 1026\n"
     ]
    },
    {
     "name": "stderr",
     "output_type": "stream",
     "text": [
      "/tmp/ipykernel_11311/1419352098.py:62: FutureWarning: The frame.append method is deprecated and will be removed from pandas in a future version. Use pandas.concat instead.\n",
      "  df_transl = df_transl.append(new_row, ignore_index=True)\n",
      "/tmp/ipykernel_11311/1419352098.py:62: FutureWarning: The frame.append method is deprecated and will be removed from pandas in a future version. Use pandas.concat instead.\n",
      "  df_transl = df_transl.append(new_row, ignore_index=True)\n",
      "/tmp/ipykernel_11311/1419352098.py:62: FutureWarning: The frame.append method is deprecated and will be removed from pandas in a future version. Use pandas.concat instead.\n",
      "  df_transl = df_transl.append(new_row, ignore_index=True)\n",
      "/tmp/ipykernel_11311/1419352098.py:62: FutureWarning: The frame.append method is deprecated and will be removed from pandas in a future version. Use pandas.concat instead.\n",
      "  df_transl = df_transl.append(new_row, ignore_index=True)\n"
     ]
    },
    {
     "name": "stdout",
     "output_type": "stream",
     "text": [
      "userNr= 1027\n",
      "userNr= 1028\n",
      "userNr= 1029\n",
      "userNr= 1030\n",
      "userNr= 1031\n"
     ]
    },
    {
     "name": "stderr",
     "output_type": "stream",
     "text": [
      "/tmp/ipykernel_11311/1419352098.py:62: FutureWarning: The frame.append method is deprecated and will be removed from pandas in a future version. Use pandas.concat instead.\n",
      "  df_transl = df_transl.append(new_row, ignore_index=True)\n",
      "/tmp/ipykernel_11311/1419352098.py:62: FutureWarning: The frame.append method is deprecated and will be removed from pandas in a future version. Use pandas.concat instead.\n",
      "  df_transl = df_transl.append(new_row, ignore_index=True)\n",
      "/tmp/ipykernel_11311/1419352098.py:62: FutureWarning: The frame.append method is deprecated and will be removed from pandas in a future version. Use pandas.concat instead.\n",
      "  df_transl = df_transl.append(new_row, ignore_index=True)\n",
      "/tmp/ipykernel_11311/1419352098.py:62: FutureWarning: The frame.append method is deprecated and will be removed from pandas in a future version. Use pandas.concat instead.\n",
      "  df_transl = df_transl.append(new_row, ignore_index=True)\n",
      "/tmp/ipykernel_11311/1419352098.py:62: FutureWarning: The frame.append method is deprecated and will be removed from pandas in a future version. Use pandas.concat instead.\n",
      "  df_transl = df_transl.append(new_row, ignore_index=True)\n",
      "/tmp/ipykernel_11311/1419352098.py:62: FutureWarning: The frame.append method is deprecated and will be removed from pandas in a future version. Use pandas.concat instead.\n",
      "  df_transl = df_transl.append(new_row, ignore_index=True)\n"
     ]
    },
    {
     "name": "stdout",
     "output_type": "stream",
     "text": [
      "userNr= 1032\n",
      "userNr= 1033\n",
      "userNr= 1034\n"
     ]
    },
    {
     "name": "stderr",
     "output_type": "stream",
     "text": [
      "/tmp/ipykernel_11311/1419352098.py:62: FutureWarning: The frame.append method is deprecated and will be removed from pandas in a future version. Use pandas.concat instead.\n",
      "  df_transl = df_transl.append(new_row, ignore_index=True)\n",
      "/tmp/ipykernel_11311/1419352098.py:62: FutureWarning: The frame.append method is deprecated and will be removed from pandas in a future version. Use pandas.concat instead.\n",
      "  df_transl = df_transl.append(new_row, ignore_index=True)\n",
      "/tmp/ipykernel_11311/1419352098.py:62: FutureWarning: The frame.append method is deprecated and will be removed from pandas in a future version. Use pandas.concat instead.\n",
      "  df_transl = df_transl.append(new_row, ignore_index=True)\n"
     ]
    },
    {
     "name": "stdout",
     "output_type": "stream",
     "text": [
      "userNr= 1035\n",
      "userNr= 1036\n",
      "userNr= 1037\n",
      "userNr= 1038\n",
      "userNr= 1039\n"
     ]
    },
    {
     "name": "stderr",
     "output_type": "stream",
     "text": [
      "/tmp/ipykernel_11311/1419352098.py:62: FutureWarning: The frame.append method is deprecated and will be removed from pandas in a future version. Use pandas.concat instead.\n",
      "  df_transl = df_transl.append(new_row, ignore_index=True)\n",
      "/tmp/ipykernel_11311/1419352098.py:62: FutureWarning: The frame.append method is deprecated and will be removed from pandas in a future version. Use pandas.concat instead.\n",
      "  df_transl = df_transl.append(new_row, ignore_index=True)\n",
      "/tmp/ipykernel_11311/1419352098.py:62: FutureWarning: The frame.append method is deprecated and will be removed from pandas in a future version. Use pandas.concat instead.\n",
      "  df_transl = df_transl.append(new_row, ignore_index=True)\n",
      "/tmp/ipykernel_11311/1419352098.py:62: FutureWarning: The frame.append method is deprecated and will be removed from pandas in a future version. Use pandas.concat instead.\n",
      "  df_transl = df_transl.append(new_row, ignore_index=True)\n",
      "/tmp/ipykernel_11311/1419352098.py:62: FutureWarning: The frame.append method is deprecated and will be removed from pandas in a future version. Use pandas.concat instead.\n",
      "  df_transl = df_transl.append(new_row, ignore_index=True)\n"
     ]
    },
    {
     "name": "stdout",
     "output_type": "stream",
     "text": [
      "userNr= 1040\n",
      "userNr= 1041\n",
      "userNr= 1042\n",
      "userNr= 1043\n"
     ]
    },
    {
     "name": "stderr",
     "output_type": "stream",
     "text": [
      "/tmp/ipykernel_11311/1419352098.py:62: FutureWarning: The frame.append method is deprecated and will be removed from pandas in a future version. Use pandas.concat instead.\n",
      "  df_transl = df_transl.append(new_row, ignore_index=True)\n",
      "/tmp/ipykernel_11311/1419352098.py:62: FutureWarning: The frame.append method is deprecated and will be removed from pandas in a future version. Use pandas.concat instead.\n",
      "  df_transl = df_transl.append(new_row, ignore_index=True)\n",
      "/tmp/ipykernel_11311/1419352098.py:62: FutureWarning: The frame.append method is deprecated and will be removed from pandas in a future version. Use pandas.concat instead.\n",
      "  df_transl = df_transl.append(new_row, ignore_index=True)\n",
      "/tmp/ipykernel_11311/1419352098.py:62: FutureWarning: The frame.append method is deprecated and will be removed from pandas in a future version. Use pandas.concat instead.\n",
      "  df_transl = df_transl.append(new_row, ignore_index=True)\n"
     ]
    },
    {
     "name": "stdout",
     "output_type": "stream",
     "text": [
      "userNr= 1044\n",
      "userNr= 1045\n",
      "userNr= 1046\n"
     ]
    },
    {
     "name": "stderr",
     "output_type": "stream",
     "text": [
      "/tmp/ipykernel_11311/1419352098.py:62: FutureWarning: The frame.append method is deprecated and will be removed from pandas in a future version. Use pandas.concat instead.\n",
      "  df_transl = df_transl.append(new_row, ignore_index=True)\n",
      "/tmp/ipykernel_11311/1419352098.py:62: FutureWarning: The frame.append method is deprecated and will be removed from pandas in a future version. Use pandas.concat instead.\n",
      "  df_transl = df_transl.append(new_row, ignore_index=True)\n",
      "/tmp/ipykernel_11311/1419352098.py:62: FutureWarning: The frame.append method is deprecated and will be removed from pandas in a future version. Use pandas.concat instead.\n",
      "  df_transl = df_transl.append(new_row, ignore_index=True)\n"
     ]
    },
    {
     "name": "stdout",
     "output_type": "stream",
     "text": [
      "userNr= 1047\n",
      "userNr= 1048\n",
      "userNr= 1049\n"
     ]
    },
    {
     "name": "stderr",
     "output_type": "stream",
     "text": [
      "/tmp/ipykernel_11311/1419352098.py:62: FutureWarning: The frame.append method is deprecated and will be removed from pandas in a future version. Use pandas.concat instead.\n",
      "  df_transl = df_transl.append(new_row, ignore_index=True)\n",
      "/tmp/ipykernel_11311/1419352098.py:62: FutureWarning: The frame.append method is deprecated and will be removed from pandas in a future version. Use pandas.concat instead.\n",
      "  df_transl = df_transl.append(new_row, ignore_index=True)\n",
      "/tmp/ipykernel_11311/1419352098.py:62: FutureWarning: The frame.append method is deprecated and will be removed from pandas in a future version. Use pandas.concat instead.\n",
      "  df_transl = df_transl.append(new_row, ignore_index=True)\n"
     ]
    },
    {
     "name": "stdout",
     "output_type": "stream",
     "text": [
      "['1000.1630737.035', '1000.1630737.056', '1000.1630737.176', '1000.1630737.219', '1001.1630737.025', '1002.1630737.068', '1002.1630737.071', '1002.1630737.081', '1002.1630737.108', '1002.1630737.195', '1002.1630737.282', '1003.1630737.048', '1003.1630737.055', '1003.1630737.110', '1003.1630737.144', '1003.1630737.153', '1003.1630737.192', '1003.1630737.266', '1004.1630737.052', '1005.1630737.028', '1005.1630737.109', '1005.1630737.143', '1005.1630737.163', '1005.1630737.180', '1005.1630737.198', '1005.1630737.206', '1005.1630737.241', '1005.1630737.267', '1005.1630737.281', '1006.1630737.050', '1006.1630737.066', '1006.1630737.084', '1006.1630737.099', '1006.1630737.139', '1006.1630737.171', '1006.1630737.220', '1006.1630737.236', '1006.1630737.240', '1006.1630737.243', '1007.1630737.009', '1007.1630737.140', '1007.1630737.207', '1008.1630737.019', '1008.1630737.089', '1008.1630737.117', '1008.1630737.181', '1008.1630737.183', '1008.1630737.201', '1008.1630737.211', '1008.1630737.216', '1008.1630737.239', '1008.1630737.279', '1009.1630737.007', '1010.1630737.003', '1010.1630737.018', '1010.1630737.020', '1010.1630737.041', '1010.1630737.053', '1010.1630737.105', '1010.1630737.169', '1010.1630737.244', '1010.1630737.246', '1010.1630737.262', '1011.1630737.086', '1012.1630737.013', '1012.1630737.036', '1012.1630737.065', '1012.1630737.069', '1012.1630737.094', '1012.1630737.128', '1012.1630737.167', '1012.1630737.212', '1012.1630737.215', '1012.1630737.264', '1013.1630737.044', '1013.1630737.057', '1013.1630737.080', '1013.1630737.125', '1013.1630737.189', '1014.1630737.030', '1014.1630737.051', '1014.1630737.103', '1014.1630737.127', '1014.1630737.130', '1014.1630737.154', '1014.1630737.196', '1014.1630737.202', '1014.1630737.214', '1014.1630737.288', '1015.1630737.005', '1015.1630737.006', '1015.1630737.008', '1015.1630737.010', '1015.1630737.024', '1015.1630737.033', '1015.1630737.073', '1015.1630737.077', '1015.1630737.161', '1015.1630737.255', '1016.1630737.038', '1016.1630737.088', '1016.1630737.095', '1016.1630737.098', '1016.1630737.100', '1016.1630737.106', '1016.1630737.158', '1016.1630737.205', '1016.1630737.273', '1016.1630737.276', '1017.1630737.001', '1017.1630737.029', '1017.1630737.031', '1017.1630737.046', '1017.1630737.118', '1017.1630737.218', '1017.1630737.256', '1018.1630737.237', '1019.1630737.123', '1019.1630737.131', '1019.1630737.145', '1019.1630737.199', '1019.1630737.209', '1019.1630737.224', '1019.1630737.248', '1019.1630737.254', '1019.1630737.272', '1019.1630737.278', '1020.1630737.193', '1020.1630737.260', '1021.1630737.017', '1021.1630737.102', '1021.1630737.135', '1021.1630737.138', '1021.1630737.147', '1021.1630737.150', '1021.1630737.186', '1021.1630737.283', '1022.1630737.021', '1022.1630737.184', '1023.1630737.034', '1023.1630737.058', '1023.1630737.060', '1023.1630737.083', '1023.1630737.148', '1023.1630737.151', '1023.1630737.172', '1023.1630737.210', '1023.1630737.234', '1023.1630737.253', '1024.1630737.251', '1024.1630737.261', '1025.1630737.162', '1026.1630737.289', '1027.1630737.227', '1028.1630737.049', '1028.1630737.133', '1029.1630737.040', '1029.1630737.137', '1030.1630737.027', '1030.1630737.042', '1030.1630737.045', '1030.1630737.079', '1030.1630737.090', '1030.1630737.120', '1030.1630737.157', '1030.1630737.175', '1030.1630737.242', '1030.1630737.257', '1031.1630737.059', '1031.1630737.076', '1031.1630737.082', '1031.1630737.093', '1031.1630737.152', '1031.1630737.187', '1031.1630737.225', '1031.1630737.250', '1031.1630737.265', '1031.1630737.271', '1032.1630737.002', '1032.1630737.012', '1032.1630737.032', '1032.1630737.054', '1032.1630737.197', '1032.1630737.208', '1032.1630737.229', '1032.1630737.238', '1032.1630737.259', '1032.1630737.285', '1033.1630737.190', '1033.1630737.191', '1033.1630737.213', '1033.1630737.258', '1033.1630737.263', '1033.1630737.268', '1034.1630737.023', '1034.1630737.064', '1034.1630737.085', '1034.1630737.097', '1034.1630737.101', '1034.1630737.124', '1034.1630737.204', '1034.1630737.221', '1034.1630737.252', '1034.1630737.269', '1035.1630737.016', '1035.1630737.039', '1035.1630737.043', '1035.1630737.067', '1035.1630737.194', '1035.1630737.270', '1035.1630737.286', '1036.1630737.070', '1036.1630737.132', '1036.1630737.188', '1037.1630737.159', '1037.1630737.185', '1038.1630737.121', '1038.1630737.156', '1038.1630737.177', '1039.1630737.114', '1040.1630737.119', '1040.1630737.129', '1041.1630737.164', '1041.1630737.222', '1042.1630737.037', '1042.1630737.075', '1042.1630737.091', '1042.1630737.104', '1042.1630737.134', '1042.1630737.149', '1042.1630737.170', '1042.1630737.182', '1042.1630737.203', '1042.1630737.247', '1043.1630737.004', '1043.1630737.014', '1043.1630737.022', '1043.1630737.047', '1043.1630737.072', '1043.1630737.168', '1043.1630737.174', '1043.1630737.230', '1043.1630737.233', '1043.1630737.280', '1044.1630737.078', '1044.1630737.112', '1044.1630737.122', '1044.1630737.142', '1044.1630737.155', '1044.1630737.228', '1045.1630737.015', '1045.1630737.061', '1045.1630737.062', '1045.1630737.063', '1045.1630737.126', '1045.1630737.141', '1045.1630737.173', '1045.1630737.178', '1045.1630737.217', '1045.1630737.245', '1046.1630737.011', '1046.1630737.107', '1046.1630737.146', '1047.1630737.074', '1047.1630737.116', '1047.1630737.160', '1047.1630737.226', '1047.1630737.232', '1047.1630737.235', '1048.1630737.092', '1048.1630737.096', '1048.1630737.166', '1048.1630737.200', '1048.1630737.223', '1048.1630737.231', '1048.1630737.274', '1048.1630737.275', '1048.1630737.277', '1048.1630737.287', '1049.1630737.026', '1049.1630737.087', '1049.1630737.111', '1049.1630737.113', '1049.1630737.115', '1049.1630737.136', '1049.1630737.165', '1049.1630737.179', '1049.1630737.249', '1049.1630737.284']\n",
      "\n",
      "Schemos parametrai įrašyti į failą:  /home/kesju/DI/Data/MIT&ZIVE/VU/DUOM_VU/records_npy/info_create_z.json \n",
      "\n"
     ]
    }
   ],
   "source": [
    "\n",
    "# Sukūriame aplanką EKG sekų įrašymui\n",
    "create_dir(rec_dir_npy)\n",
    "\n",
    "pd.set_option(\"display.max_rows\", 1000, \"display.max_columns\", 20)\n",
    "pd.set_option('display.width', 2000)\n",
    "\n",
    "# Nuskaitome Zive įrašų talpykloje laikomų įrašų sąrašą\n",
    "file_path = Path(rec_dir, 'list.json')\n",
    "with open(file_path,'r', encoding='UTF-8', errors = 'ignore') as f:\n",
    "    data = json.loads(f.read())\n",
    "\n",
    "df_list = pd.json_normalize(data, record_path =['data'])\n",
    "\n",
    "# print(df_list)\n",
    "# Sugrupuojame įrašus į to paties paciento grupes\n",
    "grouped = df_list.groupby(['userId','file_name'])\n",
    "print(grouped)\n",
    "print(\"\\n\")\n",
    "\n",
    "SubjCodes = []\n",
    "\n",
    "# Perrašome įrašus nauju formatu į kitą folderį\n",
    "for key in grouped.groups:\n",
    "    userId = key[0]\n",
    "    file_name = str(key[1])\n",
    "    \n",
    "    userNr = get_userNr(rec_dir_npy, userId)\n",
    "    SubjCode = create_SubjCode(userNr, file_name)  \n",
    "    # print(\"SubjCode: \", SubjCode, userNr, file_name)\n",
    "\n",
    "    SubjCodes.append(SubjCode)\n",
    "\n",
    "    file_path = Path(rec_dir, file_name)\n",
    "    signal = zive_read_file_1ch(file_path)  \n",
    "\n",
    "    file_path = Path(rec_dir_npy, str(SubjCode) + '.npy')\n",
    "    with open(file_path, 'wb') as f:\n",
    "        np.save(f, signal)\n",
    "\n",
    "    src = Path(rec_dir, file_name + '.json')\n",
    "    dst = Path(rec_dir_npy, str(SubjCode) + '.json')\n",
    "    shutil.copy2(src, dst)\n",
    "\n",
    "print(SubjCodes)\n",
    "\n",
    "info = {\n",
    "    'db_folder':db_folder,\n",
    "    'fs': fs_zive,\n",
    "    'SubjCodes':SubjCodes,\n",
    "    'annot_list':annot_list\n",
    "    }\n",
    "\n",
    "file_name = Path(rec_dir_npy,'info_create_z.json')\n",
    "with open(file_name, 'w') as f:\n",
    "    json.dump(info, f)\n",
    "    \n",
    "print(\"\\nSchemos parametrai įrašyti į failą: \", file_name, \"\\n\" )"
   ]
  },
  {
   "cell_type": "code",
   "execution_count": 3,
   "metadata": {},
   "outputs": [
    {
     "name": "stdout",
     "output_type": "stream",
     "text": [
      "\n",
      "Viso pacientų: 50  EKG įrašų: 289\n",
      "\n",
      "Įrašų pasiskirstymas per pacientus\n",
      "                              N    S     V  U  flag  count\n",
      "userID                                                    \n",
      "61632b451e325518bb017bbd   5266    6    30  0     0      7\n",
      "6190d4e63cd1d227c1303cea   5830   15     3  0     0     10\n",
      "6144c588bd0cc52ba0275362   5280    0   413  0     0     10\n",
      "61a8863e5cd547e980a4e970   5967  907   539  0     0     10\n",
      "61632ace1e32557a62017bba   9887  833     5  0     0     10\n",
      "6144c532bd0cc54c83275360    787    0     0  0     0      1\n",
      "6143507abd0cc5051b275171   1885    5     4  0     0      3\n",
      "61b32023cf0f347968cb1c91   2153    2     0  0     0      3\n",
      "6144c682bd0cc5acb7275368   7718    0   982  0     0     10\n",
      "61b31ff1cf0f34275ccb1c90   6950    9  1160  0     0     10\n",
      "619b4bbbb481320f924e3da9   4489    1     6  0     0      7\n",
      "616b00a811601579e9c2816c   5791    0   138  4     0      8\n",
      "6144c4fbbd0cc552e427535f   6080    0  2275  0     0     10\n",
      "617509686d4fb48519637743   1596   40     3  0     0      2\n",
      "619b4b92b4813271534e3da8   5899    1   174  0     0     10\n",
      "607efbd094e6ea3b5a1ab959    835    0    30  0     0      1\n",
      "61b320c5cf0f342a0acb1c95   7144    0   200  0     0     10\n",
      "6190d45b3cd1d2e695303ce8   6018   15     0  0     0     10\n",
      "613b1d0c3d08d413ffcdc8f6   7930   26   145  0     0     10\n",
      "615708ba2312e518c0168e69   7939    5   105  0     0     10\n",
      "617509a66d4fb46d3b637744   7895    2    67  0     0     10\n",
      "6034c808d6c2740008035ede  12225    7     0  0     0      4\n",
      "61a886195cd5477be0a4e96f   6540    0   311  0     0     10\n",
      "61632afa1e325516b4017bbb   7916    2   169  0     0     10\n",
      "6190d4353cd1d2d85e303ce7   1411    1     0  2     0      2\n",
      "614dbfd24bac1cce7b017aef   3937   26     0  0     0      5\n",
      "60e1d80f93b55b41529e9eaa   7238   11    72  0     0      7\n",
      "617eea5a6878b6614c6b47b4   1347    1     0  0     0      2\n",
      "613b1d673d08d4d1f3cdc8f8   7787   99     0  5     0     10\n",
      "613b1c6f3d08d4370acdc8f3    651    3     0  0     0      1\n",
      "6190d4b23cd1d29db2303ce9   5568  121     2  0     0     10\n",
      "60a917b354352a3df86dc1f2   9970   16    10  5     0      6\n",
      "619b4beab481327f494e3daa   2015    6     0  0     0      3\n",
      "61b3207dcf0f344005cb1c93   3775    3     2  0     0      6\n",
      "61a886b3e8f90001e9c6e12b   3201  187     1  0     0      6\n",
      "6144c5b1bd0cc5a681275363    903    0     0  0     0      1\n",
      "61b320a0cf0f344d5acb1c94   5897    0    36  0     0     10\n",
      "619b4c63b4813294ad4e3dad    600    0     0  0     0      1\n",
      "61a885c55cd54749a3a4e96d   1684    0     1  0     0      2\n",
      "619b4c3eb48132c6194e3dac   2097    4     0  0     0      3\n",
      "61632bd41e32554ace017bc0   6472    0   116  0     0     10\n",
      "619b4c0fb48132b9ef4e3dab   1104    2     0  0     0      2\n",
      "617ee9d16878b6710c6b47b1    815    0     0  0     0      1\n",
      "61a885ec5cd54753a6a4e96e   1009    1     0  0     0      2\n",
      "6190d53e3cd1d2ea3f303cec   3123   77     0  0     0      6\n",
      "616b00841160152288c2816b   1319    1     0  0     0      2\n",
      "617eea296878b60aff6b47b3    612    0     0  0     0      1\n",
      "61632ba41e3255865f017bbf    873    0     0  0     0      1\n",
      "617509cd6d4fb47516637745   1317    3     0  0     0      2\n",
      "617eea056878b660e46b47b2    761    0     0  0     0      1\n",
      "\n",
      "Failų sąrašas įrašytas:  /home/kesju/DI/Data/MIT&ZIVE/VU/DUOM_VU/records_npy/list.json\n"
     ]
    }
   ],
   "source": [
    "# https://www.geeksforgeeks.org/python-shutil-copy2-method/#:~:text=shutil.copy\n",
    "# 2%20%28%29%20method%20in%20Python%20is%20used%20to,destination%20can%20be%20a%20file%20or%20a%20directory.\n",
    "\n",
    "# Susirandame anotacijų pasiskirstymą per pacientus ir pacientų skaičių\n",
    "df_sum = df_list.groupby(['userId'],sort = False).sum()\n",
    "# print(df_sum)\n",
    "# https://sparkbyexamples.com/pandas/pandas-groupby-sum-examples/\n",
    "count = df_list['userId'].value_counts()\n",
    "print(f'\\nViso pacientų: {len(count)}  EKG įrašų: {len(df_list)}')\n",
    "print(f'\\nĮrašų pasiskirstymas per pacientus')\n",
    "count = count.rename(\"count\")\n",
    "frames = [df_sum, count]\n",
    "result = pd.concat(frames, axis = 1)\n",
    "result.index.rename ('userID', inplace= True)\n",
    "result.drop(labels=['incl'], axis=1, inplace=True)\n",
    "# https://www.shanelynn.ie/pandas-drop-delete-dataframe-rows-columns/\n",
    "print(result)\n",
    "\n",
    "# Įrašome failų sąrašą į diską\n",
    "file_path = Path(rec_dir_npy,'list.json')       \n",
    "df_list.to_json(file_path, orient = 'table', index=False)\n",
    "print(f'\\nFailų sąrašas įrašytas:  {file_path}')\n",
    "    "
   ]
  }
 ],
 "metadata": {
  "interpreter": {
   "hash": "4fdd05f7b6e7f46fd1f1bbcbfdc9d8b4b1f98b078b306375c0cb77e6ad3f81a5"
  },
  "kernelspec": {
   "display_name": "Python 3.9.5 64-bit ('ecg': conda)",
   "language": "python",
   "name": "python3"
  },
  "language_info": {
   "codemirror_mode": {
    "name": "ipython",
    "version": 3
   },
   "file_extension": ".py",
   "mimetype": "text/x-python",
   "name": "python",
   "nbconvert_exporter": "python",
   "pygments_lexer": "ipython3",
   "version": "3.7.13"
  },
  "orig_nbformat": 4
 },
 "nbformat": 4,
 "nbformat_minor": 2
}
