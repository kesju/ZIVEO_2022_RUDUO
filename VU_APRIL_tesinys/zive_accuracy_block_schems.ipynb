{
 "cells": [
  {
   "cell_type": "code",
   "execution_count": null,
   "metadata": {},
   "outputs": [],
   "source": [
    "                    # SUFORMUOJAME all_beats_attr\n",
    "\n",
    "for SubjCode in SubjCodes:\n",
    "    # print(\"\\nECG įrašas:\", SubjCode)\n",
    "    \n",
    "    # Nuskaitome paciento anotacijas ir jų indeksus\n",
    "    atr_sample, atr_symbol = read_rec_attrib(rec_dir, SubjCode)\n",
    "\n",
    "    # Ciklas per visas paciento įrašo anotacijas (simbolius) ir jų vietas (i_sample)\n",
    "    for i, i_sample in enumerate(atr_sample):\n",
    "    \n",
    "        beats_attr = {'userNr':int(userNr), 'recordingNr':int(recordingNr), 'sample':int(i_sample), 'symbol':str(atr_symbol[i])}\n",
    "        df_new_row = pd.DataFrame([beats_attr])\n",
    "        all_beats_attr = pd.concat([all_beats_attr, df_new_row])\n",
    "\n",
    "# Ciklo per pacientų įrašus pabaiga\n",
    "\n",
    "\n",
    "\n",
    "\n",
    "                    # SUFORMUOJAME validation_set_stats\n",
    "\n",
    "validation_set_stats = pd.DataFrame(columns=['idx', 'test_label', 'pred_label', 'SubjCode'])\n",
    "\n",
    "# Ciklas per pacientų įrašus\n",
    "for SubjCode in SubjCodes:\n",
    "\n",
    "# ------ I. Nuskaitome įrašo atributus ---------- \n",
    "\n",
    "    signal = read_rec(rec_dir, SubjCode)\n",
    "    userId, recId, file_name = get_recId(rec_dir, userNr, recNr)\n",
    "    atr_sample, atr_symbol = read_rec_attrib(rec_dir, SubjCode)\n",
    "\n",
    "# ------ II. Suformuojame testinius ir priskirtus pūpsnių klasių numerius ---------- \n",
    "\n",
    "    test_labels = np.array([all_beats[symbol] for symbol in atr_symbol])\n",
    "    pred_labels = predict_cnn_fda_vu_v1_micro(signal, atr_sample, model_dir)\n",
    "\n",
    "    selected_ind = all_beat_indices[(all_beats_attr['userNr']==userNr) & (all_beats_attr['recordingNr']==recNr)]\n",
    "    index_start = selected_ind[0]\n",
    "\n",
    "# ------ III. Suformuojame validatio_st_stats, test_y ir pred_y ---------- \n",
    "\n",
    "    for idx in range(len(atr_sample)):\n",
    "        index_current = index_start + idx\n",
    "        validation_set_stats = validation_set_stats.append({'idx':index_current, \n",
    "        'test_label':test_labels[idx],'pred_label':pred_labels[idx], 'SubjCode': SubjCode}, ignore_index=True)\n",
    "\n",
    "    test_y = np.array(validation_set_stats[validation_set_stats['SubjCode']==SubjCode]['test_label']).astype('int') \n",
    "    pred_y = np.array(validation_set_stats[validation_set_stats['SubjCode']==SubjCode]['pred_label']).astype('int')\n",
    "   \n",
    "# ------ IV. apskaičiuojame tikslumą  ---------- \n",
    "\n",
    "    confusion = confusion_matrix(test_y_mod, pred_y_mod)\n",
    "    prec,rec,fsc,sup = precision_recall_fscore_support(test_y_mod, pred_y_mod, labels=[0, 1, 2], zero_division=0)\n",
    "\n",
    "# Ciklo per pacientų įrašus pabaiga\n",
    "\n",
    "# Suformuojame :\n",
    "validate_ind_lst = list(validation_set_stats['idx'])\n",
    "y_validate = np.array(validation_set_stats['test_label']).astype('int')\n",
    "y_predicted = np.array(validation_set_stats['pred_label']).astype('int')\n",
    "\n",
    "# Tikslas: atsikratyti validation_set_stats, viską gauti, ko reikia iš all_beats_attr"
   ]
  }
 ],
 "metadata": {
  "kernelspec": {
   "display_name": "Python 3.9.12 ('ecg')",
   "language": "python",
   "name": "python3"
  },
  "language_info": {
   "name": "python",
   "version": "3.9.12"
  },
  "orig_nbformat": 4,
  "vscode": {
   "interpreter": {
    "hash": "1f36dab35816871602f0a4fffa6415a4e758bca001397bb3d9f7e90aab6637a5"
   }
  }
 },
 "nbformat": 4,
 "nbformat_minor": 2
}
