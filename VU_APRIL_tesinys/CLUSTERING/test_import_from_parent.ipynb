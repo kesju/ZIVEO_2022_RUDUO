{
 "cells": [
  {
   "cell_type": "code",
   "execution_count": 3,
   "metadata": {},
   "outputs": [
    {
     "name": "stdout",
     "output_type": "stream",
     "text": [
      "OS in my system :  win32\n",
      "Current Directory d:\\DI\\ZIVEO_2022_RUDUO\\VU_APRIL_tesinys\\CLUSTERING\n",
      "\n",
      "Parent directory d:\\DI\\ZIVEO_2022_RUDUO\\VU_APRIL_tesinys\n",
      "p: d:\\DI\\ZIVEO_2022_RUDUO\\VU_APRIL_tesinys\n",
      "d:\\DI\\ZIVEO_2022_RUDUO\\VU_APRIL_tesinys\\CLUSTERING\n",
      "c:\\Users\\Lenovo\\miniconda3\\envs\\ecg\\python39.zip\n",
      "c:\\Users\\Lenovo\\miniconda3\\envs\\ecg\\DLLs\n",
      "c:\\Users\\Lenovo\\miniconda3\\envs\\ecg\\lib\n",
      "c:\\Users\\Lenovo\\miniconda3\\envs\\ecg\n",
      "\n",
      "c:\\Users\\Lenovo\\miniconda3\\envs\\ecg\\lib\\site-packages\n",
      "c:\\Users\\Lenovo\\miniconda3\\envs\\ecg\\lib\\site-packages\\win32\n",
      "c:\\Users\\Lenovo\\miniconda3\\envs\\ecg\\lib\\site-packages\\win32\\lib\n",
      "c:\\Users\\Lenovo\\miniconda3\\envs\\ecg\\lib\\site-packages\\Pythonwin\n",
      "c:\\Users\\Lenovo\\miniconda3\\envs\\ecg\\lib\\site-packages\\IPython\\extensions\n",
      "C:\\Users\\Lenovo\\.ipython\n"
     ]
    }
   ],
   "source": [
    "import sys, os, json\n",
    "from pathlib import Path\n",
    "\n",
    "# https://www.geeksforgeeks.org/python-import-from-parent-directory/\n",
    "# https://www.pythonclear.com/modules/python-import-module-from-parent-directory/\n",
    "# https://codeolives.com/2020/01/10/python-reference-module-in-parent-directory/\n",
    "\n",
    "# parent = os.path.abspath('.')\n",
    "# print(parent)\n",
    "\n",
    "my_os=sys.platform\n",
    "print(\"OS in my system : \", my_os)\n",
    "\n",
    "if my_os != 'linux':\n",
    "    OS = 'Windows'\n",
    "else:  \n",
    "    OS = 'Ubuntu'\n",
    "\n",
    "path = os.getcwd()\n",
    "print(\"Current Directory\", path)\n",
    "print()\n",
    "\n",
    "# parent directory\n",
    "parent = os.path.dirname(path)\n",
    "print(\"Parent directory\", parent)\n",
    "\n",
    "# p = os.path.abspath('.')\n",
    "# sys.path.insert(1, parent)\n",
    "print('p:',parent)\n",
    "# sys.path.insert(1, parent)\n",
    "# sys.path.append('VU_APRIL_TESINYS')\n",
    "for place in sys.path:\n",
    "        print(place)\n",
    "\n",
    "from zive_util_vu import runtime, split_SubjCode\n"
   ]
  }
 ],
 "metadata": {
  "kernelspec": {
   "display_name": "Python 3.9.12 ('ecg')",
   "language": "python",
   "name": "python3"
  },
  "language_info": {
   "codemirror_mode": {
    "name": "ipython",
    "version": 3
   },
   "file_extension": ".py",
   "mimetype": "text/x-python",
   "name": "python",
   "nbconvert_exporter": "python",
   "pygments_lexer": "ipython3",
   "version": "3.9.12 | packaged by conda-forge | (main, Mar 24 2022, 23:18:12) [MSC v.1929 64 bit (AMD64)]"
  },
  "orig_nbformat": 4,
  "vscode": {
   "interpreter": {
    "hash": "1f36dab35816871602f0a4fffa6415a4e758bca001397bb3d9f7e90aab6637a5"
   }
  }
 },
 "nbformat": 4,
 "nbformat_minor": 2
}
